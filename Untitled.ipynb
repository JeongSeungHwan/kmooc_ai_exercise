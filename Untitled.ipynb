{
 "cells": [
  {
   "cell_type": "markdown",
   "id": "e3d2af92-6332-4e21-a96b-4a765b24906c",
   "metadata": {},
   "source": [
    "### 인공뉴런의 동작원리"
   ]
  },
  {
   "cell_type": "code",
   "execution_count": 29,
   "id": "48ceedf9-93f4-4799-a9a0-3e6d792f5ada",
   "metadata": {},
   "outputs": [],
   "source": [
    "import numpy as np\n",
    "import matplotlib.pyplot as plt"
   ]
  },
  {
   "cell_type": "code",
   "execution_count": 19,
   "id": "4f26b040-31e8-40e1-9ddb-ea6a31899df9",
   "metadata": {},
   "outputs": [],
   "source": [
    "def AND(x1,x2):\n",
    "    x = np.array([1, x1, x2]) # input\n",
    "    w = np.array([-0.7, 0.5, 0.5]) #bias + weight\n",
    "    return int(np.dot(w,x) > 0)"
   ]
  },
  {
   "cell_type": "code",
   "execution_count": 24,
   "id": "dec9cc19-1620-4ab8-8fce-1fc8214b3928",
   "metadata": {},
   "outputs": [
    {
     "name": "stdout",
     "output_type": "stream",
     "text": [
      "1\n",
      "0\n",
      "0\n",
      "0\n"
     ]
    }
   ],
   "source": [
    "print(AND(1,1))\n",
    "print(AND(1,0))\n",
    "print(AND(0,1))\n",
    "print(AND(0,0))"
   ]
  },
  {
   "cell_type": "markdown",
   "id": "c85c3e7b-995d-4d2c-bd62-5afc7843bcba",
   "metadata": {},
   "source": [
    "해당 함수의 임계점을 x1을 독립변수, x2를 종속변수로 하는 그래프로 변환\n",
    "\n",
    "-0.7 + (0.5 * x1) + (0.5 * x2) = 0   \n",
    "0.5 * x1 + 0.5 * x2 = 0.7   \n",
    "x1 + x2 = 0.7 / 0.5   \n",
    "x2 = 0.7 / 0.5 - x1    \n",
    "x2 = 1.4 - x1"
   ]
  },
  {
   "cell_type": "code",
   "execution_count": 71,
   "id": "b8d87d87-5706-45ac-bf37-b860cf4a66fb",
   "metadata": {},
   "outputs": [
    {
     "data": {
      "text/plain": [
       "[<matplotlib.lines.Line2D at 0x7fb3496b2190>]"
      ]
     },
     "execution_count": 71,
     "metadata": {},
     "output_type": "execute_result"
    },
    {
     "data": {
      "image/png": "[encoded data removed]",
      "text/plain": [
       "<Figure size 432x288 with 1 Axes>"
      ]
     },
     "metadata": {
      "needs_background": "light"
     },
     "output_type": "display_data"
    }
   ],
   "source": [
    "x1 = np.linspace(1,20,50)\n",
    "x2 = -x1 + 1.4\n",
    "plt.plot(x1,x2)"
   ]
  },
  {
   "cell_type": "code",
   "execution_count": null,
   "id": "25bff825-cb1d-484f-b20f-5971179bb1a2",
   "metadata": {},
   "outputs": [],
   "source": []
  }
 ],
 "metadata": {
  "kernelspec": {
   "display_name": "Python 3",
   "language": "python",
   "name": "python3"
  },
  "language_info": {
   "codemirror_mode": {
    "name": "ipython",
    "version": 3
   },
   "file_extension": ".py",
   "mimetype": "text/x-python",
   "name": "python",
   "nbconvert_exporter": "python",
   "pygments_lexer": "ipython3",
   "version": "3.8.8"
  }
 },
 "nbformat": 4,
 "nbformat_minor": 5
}
