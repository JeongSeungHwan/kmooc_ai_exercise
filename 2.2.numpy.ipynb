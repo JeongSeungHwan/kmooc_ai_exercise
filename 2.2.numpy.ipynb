{
 "cells": [
  {
   "cell_type": "code",
   "execution_count": 61,
   "id": "be5ee4ad-3614-4a14-864b-03400f7e5aad",
   "metadata": {},
   "outputs": [],
   "source": [
    "import numpy as np\n",
    "import matplotlib.pyplot as plt\n",
    "%matplotlib inline"
   ]
  },
  {
   "cell_type": "code",
   "execution_count": 2,
   "id": "68b5b854-1b2c-421a-bf75-7984f125792e",
   "metadata": {},
   "outputs": [
    {
     "data": {
      "text/plain": [
       "'1.20.1'"
      ]
     },
     "execution_count": 2,
     "metadata": {},
     "output_type": "execute_result"
    }
   ],
   "source": [
    "np.__version__"
   ]
  },
  {
   "cell_type": "markdown",
   "id": "346e66c3-cd42-4cb6-8e34-caa94622b4f0",
   "metadata": {},
   "source": [
    "## 10,000,000개의 수의 곱셈과 합"
   ]
  },
  {
   "cell_type": "code",
   "execution_count": 3,
   "id": "d2afff16-0726-40b3-abf4-a29c38380f96",
   "metadata": {},
   "outputs": [],
   "source": [
    "n = 10000000\n",
    "w = [np.random.random() for _ in range(n)]\n",
    "x = [np.random.random() for _ in range(n)]\n",
    "\n",
    "# 리스트 값을 np배열로 복사\n",
    "wnum = np.array(w) #ndarray type\n",
    "xnum = np.array(x)"
   ]
  },
  {
   "cell_type": "code",
   "execution_count": 12,
   "id": "62e8c090-4648-4827-b41e-95a5e5c5262c",
   "metadata": {},
   "outputs": [
    {
     "name": "stdout",
     "output_type": "stream",
     "text": [
      "10001561.192526845\n",
      "CPU times: user 1.6 s, sys: 5.23 ms, total: 1.6 s\n",
      "Wall time: 1.6 s\n"
     ]
    }
   ],
   "source": [
    "%%time \n",
    "\n",
    "#일반 배열을 사용했을 때 수행시간\n",
    "\n",
    "total = 0\n",
    "for i in range(n) :\n",
    "    total += w[i] + x[i]\n",
    "print(total)"
   ]
  },
  {
   "cell_type": "code",
   "execution_count": 13,
   "id": "2797c8d4-d917-4313-a6a9-f6af253dbc33",
   "metadata": {},
   "outputs": [
    {
     "name": "stdout",
     "output_type": "stream",
     "text": [
      "2500444.580488017\n",
      "CPU times: user 26.4 ms, sys: 35.2 ms, total: 61.6 ms\n",
      "Wall time: 19.3 ms\n"
     ]
    }
   ],
   "source": [
    "%%time\n",
    "\n",
    "#numpy 배열을 사용했을 때 수행시간\n",
    "\n",
    "total = np.dot(wnum, xnum)\n",
    "print(total)"
   ]
  },
  {
   "cell_type": "markdown",
   "id": "4520fcde-a8e7-4af6-a70f-3c4fd881d755",
   "metadata": {},
   "source": [
    "## 배열의 속성 출력"
   ]
  },
  {
   "cell_type": "code",
   "execution_count": 36,
   "id": "9ed38271-3846-4bd0-afcc-a98b51b22b42",
   "metadata": {},
   "outputs": [
    {
     "name": "stdout",
     "output_type": "stream",
     "text": [
      "type:<class 'numpy.ndarray'>, size:50\n",
      "shape:(5, 10), ndim/rank:2, dtype:float64\n",
      "Array's Data : \n",
      "[[0.90020453 0.64582699 0.04703065 0.55787947 0.95317011 0.25429069\n",
      "  0.13053138 0.59774906 0.85150588 0.71837122]\n",
      " [0.40350194 0.69232531 0.23011754 0.71174244 0.38510908 0.56530532\n",
      "  0.97713175 0.29767164 0.54970424 0.11354223]\n",
      " [0.13657696 0.08131222 0.34927083 0.89991894 0.8771455  0.04503525\n",
      "  0.86775487 0.98171088 0.58846231 0.63224712]\n",
      " [0.79931516 0.74093544 0.78408066 0.46716664 0.40082652 0.011756\n",
      "  0.32647702 0.36254118 0.64991737 0.78281878]\n",
      " [0.48964402 0.08870535 0.83889649 0.95824018 0.91466207 0.77676008\n",
      "  0.32540547 0.27556005 0.23504472 0.44071108]]\n"
     ]
    }
   ],
   "source": [
    "# 배열의 속성 출력\n",
    "\n",
    "def pprint(arr):\n",
    "    print(\"type:{}, size:{}\".format(type(arr), arr.size))\n",
    "    print(\"shape:{}, ndim/rank:{}, dtype:{}\".format(arr.shape, arr.ndim, arr.dtype))\n",
    "    print(\"Array's Data : \")\n",
    "    print(arr)\n",
    "\n",
    "a = np.array([[np.random.random() \n",
    "               for d_1 in range(10)] \n",
    "                 for d_2 in range(5)])\n",
    "pprint(a)"
   ]
  },
  {
   "cell_type": "code",
   "execution_count": 42,
   "id": "0f286a22-fbac-446e-a981-7422eeeaa59a",
   "metadata": {},
   "outputs": [
    {
     "data": {
      "text/plain": [
       "array([[0.90020453, 0.64582699, 0.04703065, 0.55787947, 0.95317011,\n",
       "        0.25429069, 0.13053138, 0.59774906, 0.85150588, 0.71837122,\n",
       "        0.40350194, 0.69232531, 0.23011754, 0.71174244, 0.38510908,\n",
       "        0.56530532, 0.97713175, 0.29767164, 0.54970424, 0.11354223,\n",
       "        0.13657696, 0.08131222, 0.34927083, 0.89991894, 0.8771455 ],\n",
       "       [0.04503525, 0.86775487, 0.98171088, 0.58846231, 0.63224712,\n",
       "        0.79931516, 0.74093544, 0.78408066, 0.46716664, 0.40082652,\n",
       "        0.011756  , 0.32647702, 0.36254118, 0.64991737, 0.78281878,\n",
       "        0.48964402, 0.08870535, 0.83889649, 0.95824018, 0.91466207,\n",
       "        0.77676008, 0.32540547, 0.27556005, 0.23504472, 0.44071108]])"
      ]
     },
     "execution_count": 42,
     "metadata": {},
     "output_type": "execute_result"
    }
   ],
   "source": [
    "# reshape을 통해 행렬의 형태를 변환\n",
    "a.reshape(2,25)"
   ]
  },
  {
   "cell_type": "code",
   "execution_count": 39,
   "id": "90b6aa86-57ce-46d0-82f0-ad1dbba6cbd6",
   "metadata": {},
   "outputs": [
    {
     "data": {
      "text/plain": [
       "array([ 0,  1,  2,  3,  4,  5,  6,  7,  8,  9, 10, 11])"
      ]
     },
     "execution_count": 39,
     "metadata": {},
     "output_type": "execute_result"
    }
   ],
   "source": [
    "np.arange(12)"
   ]
  },
  {
   "cell_type": "code",
   "execution_count": 37,
   "id": "423d2e93-26a8-4fbf-be0a-3219d0a48d59",
   "metadata": {},
   "outputs": [
    {
     "data": {
      "text/plain": [
       "numpy.ndarray"
      ]
     },
     "execution_count": 37,
     "metadata": {},
     "output_type": "execute_result"
    }
   ],
   "source": [
    "type(np.array([12,2]))"
   ]
  },
  {
   "cell_type": "code",
   "execution_count": 33,
   "id": "edc1a1b3-fecd-4347-a94b-ec3f8356e7d7",
   "metadata": {},
   "outputs": [
    {
     "data": {
      "text/plain": [
       "list"
      ]
     },
     "execution_count": 33,
     "metadata": {},
     "output_type": "execute_result"
    }
   ],
   "source": [
    "type([12,2])"
   ]
  },
  {
   "cell_type": "markdown",
   "id": "807d50dd-4183-4964-abc1-9b6214668ea4",
   "metadata": {},
   "source": [
    "## 배열생성 함수\n"
   ]
  },
  {
   "cell_type": "code",
   "execution_count": 55,
   "id": "8a44cf61-e18a-489d-806a-16b1acac625d",
   "metadata": {},
   "outputs": [
    {
     "name": "stdout",
     "output_type": "stream",
     "text": [
      "[[0. 0. 0.]\n",
      " [0. 0. 0.]\n",
      " [0. 0. 0.]\n",
      " [0. 0. 0.]]\n",
      "[[1. 1. 1.]\n",
      " [1. 1. 1.]]\n",
      "[[7 7 7 7]\n",
      " [7 7 7 7]]\n",
      "[[2.00000000e+000 2.00000000e+000 4.94065646e-323 0.00000000e+000\n",
      "  0.00000000e+000]\n",
      " [0.00000000e+000 0.00000000e+000 0.00000000e+000 0.00000000e+000\n",
      "  0.00000000e+000]\n",
      " [0.00000000e+000 0.00000000e+000 0.00000000e+000 0.00000000e+000\n",
      "  0.00000000e+000]\n",
      " [5.01163186e+217 2.00000000e+000 2.00000000e+000 7.50189709e+247\n",
      "  1.44578180e-308]]\n",
      "[[1. 0. 0. 0. 0.]\n",
      " [0. 1. 0. 0. 0.]\n",
      " [0. 0. 1. 0. 0.]\n",
      " [0. 0. 0. 1. 0.]\n",
      " [0. 0. 0. 0. 1.]]\n"
     ]
    }
   ],
   "source": [
    "\n",
    "print(np.zeros([4,3])) #0\n",
    "print(np.ones([2,3])) #1\n",
    "print(np.full([2,4],7)) #지정 수 \n",
    "print(np.empty([4,5])) #임의값\n",
    "print(np.eye(5)) #단위행렬"
   ]
  },
  {
   "cell_type": "markdown",
   "id": "f89078f6-632f-4c10-87d8-66cc43a02be2",
   "metadata": {},
   "source": [
    "## 데이터 생성 함수\n"
   ]
  },
  {
   "cell_type": "code",
   "execution_count": 100,
   "id": "139d0f73-9e39-4468-9ffe-ca20bca541f5",
   "metadata": {},
   "outputs": [
    {
     "data": {
      "image/png": "[encoded data removed]",
      "text/plain": [
       "<Figure size 432x288 with 1 Axes>"
      ]
     },
     "metadata": {
      "needs_background": "light"
     },
     "output_type": "display_data"
    },
    {
     "data": {
      "text/plain": [
       "[<matplotlib.lines.Line2D at 0x7ffb2bc2b6d0>]"
      ]
     },
     "execution_count": 100,
     "metadata": {},
     "output_type": "execute_result"
    },
    {
     "data": {
      "image/png": "[encoded data removed]",
      "text/plain": [
       "<Figure size 432x288 with 1 Axes>"
      ]
     },
     "metadata": {
      "needs_background": "light"
     },
     "output_type": "display_data"
    }
   ],
   "source": [
    "\n",
    "a = np.arange(0,1,0.17)# start ~ end까지 동일한 간격으로 데이터 생성\n",
    "plt.plot(a, 'or')\n",
    "\n",
    "x = np.linspace(0, 2*np.pi,50) # 0 ~ 2*np.pi 사이 균일한 데이터를 50개  생성, default = 50\n",
    "y = np.sin(x) # x에 대한 sin 값 생성\n",
    "plt.plot(x,y, 'ob')\n",
    "plt.show()\n",
    "\n",
    "c = np.logspace(0.1,2,50) # 10^0.1 ~ 10^2 범위의 로그스케일 데이터 50개 생성, default = 50\n",
    "plt.plot(c, 'og')"
   ]
  },
  {
   "cell_type": "markdown",
   "id": "db2ad410-a905-43bb-bc17-e4a27a7e9fa7",
   "metadata": {},
   "source": [
    "## 배열의 인덱싱과 슬라이싱\n",
    "- 0부터 시작\n",
    "- -1 : 배열의 끝 (음수 인덱싱)\n",
    "- : : 범위 지정 (start : end)"
   ]
  },
  {
   "cell_type": "code",
   "execution_count": 108,
   "id": "e9febf55-b1b7-4957-9edf-1cab76308191",
   "metadata": {},
   "outputs": [
    {
     "name": "stdout",
     "output_type": "stream",
     "text": [
      "[[ 1  2  3  4]\n",
      " [ 5  6  7  8]\n",
      " [ 9 10 11 12]]\n"
     ]
    }
   ],
   "source": [
    "# 2차원배열 : shape(3,4)\n",
    "a = np.arange(1,13).reshape(3,4)\n",
    "print(a)"
   ]
  },
  {
   "cell_type": "code",
   "execution_count": 138,
   "id": "339b9e1e-19d0-465b-985e-121ecf592cc1",
   "metadata": {},
   "outputs": [
    {
     "name": "stdout",
     "output_type": "stream",
     "text": [
      "7 :  7\n",
      "12 :  12\n",
      "마지막 원소 :  12\n",
      "마지막 행 :  [ 9 10 11 12]\n",
      "첫번째 열 :  [1 5 9]\n",
      "마지막 열 :  [ 4  8 12]\n",
      "위, 왼쪽 2*2 : \n",
      " [[1 2]\n",
      " [5 6]]\n",
      "아래, 오른쪽 2*2 : \n",
      " [[ 7  8]\n",
      " [11 12]]\n",
      "첫 2열 : \n",
      " [[ 1  2]\n",
      " [ 5  6]\n",
      " [ 9 10]]\n",
      "전체 : \n",
      " [[ 1  2  3  4]\n",
      " [ 5  6  7  8]\n",
      " [ 9 10 11 12]]\n"
     ]
    }
   ],
   "source": [
    "print(\"7 : \", a[1,2]) # 7\n",
    "print(\"12 : \", a[2,3]) # 12\n",
    "print(\"마지막 원소 : \", a[-1,-1]) # 마지막 원소\n",
    "print(\"마지막 행 : \", a[-1]) # 마지막 행\n",
    "print(\"첫번째 열 : \", a[:,0]) # 첫번째 열\n",
    "print(\"마지막 열 : \", a[:,-1]) # 마지막 열\n",
    "print(\"위, 왼쪽 2*2 : \\n\", a[:2,:2]) # 위, 왼쪽 2*2\n",
    "print(\"아래, 오른쪽 2*2 : \\n\", a[-2:,-2:]) # 아래, 오른쪽 2*2\n",
    "print(\"첫 2열 : \\n\", a[:,:2]) # 첫 2열\n",
    "print(\"전체 : \\n\", a[:]) # a 전체"
   ]
  },
  {
   "cell_type": "code",
   "execution_count": 139,
   "id": "3dc5eb6d-a31b-4e87-aa31-3eec8ca61fe9",
   "metadata": {},
   "outputs": [
    {
     "name": "stdout",
     "output_type": "stream",
     "text": [
      "[[1 2]\n",
      " [5 6]]\n",
      "[[99  2  3  4]\n",
      " [ 5  6  7  8]\n",
      " [ 9 10 11 12]]\n"
     ]
    }
   ],
   "source": [
    "# 슬라이싱으로 만들어진 배열(subarray)은 view이기 때문에, 원 배열에 영향을 준다. (c의 포인터와 유사)\n",
    "# b를 변경하면 a도 변경된다.\n",
    "# 복사본이 아니다!\n",
    "\n",
    "a = np.arange(1,13).reshape(3,4)\n",
    "b = a[:2,:2]\n",
    "print(b)\n",
    "b[0,0] = 99\n",
    "print(a)"
   ]
  },
  {
   "cell_type": "code",
   "execution_count": 142,
   "id": "f6589b7d-870d-487c-924e-ae154bd8a210",
   "metadata": {},
   "outputs": [
    {
     "name": "stdout",
     "output_type": "stream",
     "text": [
      "[[99  2  3  4]\n",
      " [ 5  6  7  8]\n",
      " [ 9 10 11 12]]\n",
      "[[ 1  2  3  4]\n",
      " [ 5  6  7  8]\n",
      " [ 9 10 11 12]]\n"
     ]
    }
   ],
   "source": [
    "# 배열을 복사하고 싶을 때는 슬라이싱이 아닌, copy함수를 이용한다.\n",
    "\n",
    "a = np.arange(1,13).reshape(3,4)\n",
    "b = a.copy()\n",
    "b[0,0] = 99\n",
    "print(b)\n",
    "print(a)"
   ]
  },
  {
   "cell_type": "markdown",
   "id": "b90f6f11-be74-4208-9b64-e910186404de",
   "metadata": {},
   "source": [
    "## 불리언 배열"
   ]
  },
  {
   "cell_type": "code",
   "execution_count": 161,
   "id": "02197322-f461-42fe-bf9d-1600e666e4a6",
   "metadata": {},
   "outputs": [
    {
     "name": "stdout",
     "output_type": "stream",
     "text": [
      "[ True False  True  True False  True  True]\n"
     ]
    }
   ],
   "source": [
    "a = np.random.random(7)\n",
    "results = a > 0.6\n",
    "print(results)"
   ]
  },
  {
   "cell_type": "code",
   "execution_count": 163,
   "id": "7b96c805-e8da-441c-be5f-6a01a215eb9c",
   "metadata": {},
   "outputs": [
    {
     "name": "stdout",
     "output_type": "stream",
     "text": [
      "5\n",
      "[[0]\n",
      " [2]\n",
      " [3]\n",
      " [5]\n",
      " [6]]\n"
     ]
    }
   ],
   "source": [
    "print(np.sum(results)) # sum을 통해 true의 개수 파악 가능\n",
    "print(np.argwhere(results)) # argwhere를 통해 true의 위치 파악"
   ]
  },
  {
   "cell_type": "markdown",
   "id": "7e53ebed-c159-4b1e-b65e-8740f597f64a",
   "metadata": {},
   "source": [
    "## 배열/행렬의 곱 \n",
    "- 내적 : XtY 스칼라\n",
    "- 외적 : XYt m*m 행렬"
   ]
  },
  {
   "cell_type": "code",
   "execution_count": 189,
   "id": "73ef3e05-a828-4813-b959-789058ace422",
   "metadata": {},
   "outputs": [
    {
     "name": "stdout",
     "output_type": "stream",
     "text": [
      "[[0 1 2 3 4 5 6 7 8 9]]\n",
      "[[0]\n",
      " [1]\n",
      " [2]\n",
      " [3]\n",
      " [4]\n",
      " [5]\n",
      " [6]\n",
      " [7]\n",
      " [8]\n",
      " [9]]\n",
      "내적의 곱\n",
      "[[285]]\n",
      "외적의 곱\n",
      "[[ 0  0  0  0  0  0  0  0  0  0]\n",
      " [ 0  1  2  3  4  5  6  7  8  9]\n",
      " [ 0  2  4  6  8 10 12 14 16 18]\n",
      " [ 0  3  6  9 12 15 18 21 24 27]\n",
      " [ 0  4  8 12 16 20 24 28 32 36]\n",
      " [ 0  5 10 15 20 25 30 35 40 45]\n",
      " [ 0  6 12 18 24 30 36 42 48 54]\n",
      " [ 0  7 14 21 28 35 42 49 56 63]\n",
      " [ 0  8 16 24 32 40 48 56 64 72]\n",
      " [ 0  9 18 27 36 45 54 63 72 81]]\n"
     ]
    }
   ],
   "source": [
    "a = np.arange(10).reshape(1,10)\n",
    "b = np.arange(10).reshape(10,1)\n",
    "print(a)\n",
    "print(b)\n",
    "\n",
    "print(\"내적의 곱\")\n",
    "print(np.dot(a,b))\n",
    "print(\"외적의 곱\")\n",
    "print(np.dot(b,a))"
   ]
  },
  {
   "cell_type": "code",
   "execution_count": 221,
   "id": "226ff07d-09f2-4ddb-a72c-46b4f60241a4",
   "metadata": {},
   "outputs": [
    {
     "name": "stdout",
     "output_type": "stream",
     "text": [
      "[9 1 2]\n"
     ]
    }
   ],
   "source": [
    "a = np.arange(6).reshape(2,3)\n",
    "b = a\n",
    "b[0,0] = 9\n",
    "print(a[0])"
   ]
  },
  {
   "cell_type": "code",
   "execution_count": 219,
   "id": "b238513a-c070-495e-8d5d-266e568b401b",
   "metadata": {},
   "outputs": [
    {
     "data": {
      "text/plain": [
       "array([[0, 1, 2],\n",
       "       [3, 4, 5]])"
      ]
     },
     "execution_count": 219,
     "metadata": {},
     "output_type": "execute_result"
    }
   ],
   "source": [
    "a"
   ]
  }
 ],
 "metadata": {
  "kernelspec": {
   "display_name": "Python 3",
   "language": "python",
   "name": "python3"
  },
  "language_info": {
   "codemirror_mode": {
    "name": "ipython",
    "version": 3
   },
   "file_extension": ".py",
   "mimetype": "text/x-python",
   "name": "python",
   "nbconvert_exporter": "python",
   "pygments_lexer": "ipython3",
   "version": "3.8.8"
  }
 },
 "nbformat": 4,
 "nbformat_minor": 5
}
