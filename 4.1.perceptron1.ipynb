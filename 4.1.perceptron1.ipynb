{
 "cells": [
  {
   "cell_type": "markdown",
   "id": "d866ac22",
   "metadata": {},
   "source": [
    "### 퍼셉트론 기본 구조 w^Tx "
   ]
  },
  {
   "cell_type": "code",
   "execution_count": 41,
   "id": "a09b3c66",
   "metadata": {},
   "outputs": [],
   "source": [
    "import numpy as np"
   ]
  },
  {
   "cell_type": "code",
   "execution_count": 42,
   "id": "95fac1a4",
   "metadata": {},
   "outputs": [
    {
     "name": "stdout",
     "output_type": "stream",
     "text": [
      "3.555365667506398\n"
     ]
    }
   ],
   "source": [
    "np.random.seed(0) #난수 고정\n",
    "x = np.arange(4).reshape(-1,1)\n",
    "w = np.array(np.random.random(4)).reshape(-1,1)\n",
    "z = np.dot(w.T,x).squeeze() #squeeze -> 배열 안의 값만 가져오기\n",
    "print(z)"
   ]
  }
 ],
 "metadata": {
  "kernelspec": {
   "display_name": "Python 3 (ipykernel)",
   "language": "python",
   "name": "python3"
  },
  "language_info": {
   "codemirror_mode": {
    "name": "ipython",
    "version": 3
   },
   "file_extension": ".py",
   "mimetype": "text/x-python",
   "name": "python",
   "nbconvert_exporter": "python",
   "pygments_lexer": "ipython3",
   "version": "3.9.6"
  }
 },
 "nbformat": 4,
 "nbformat_minor": 5
}
