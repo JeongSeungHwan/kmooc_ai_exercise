{
 "cells": [
  {
   "cell_type": "markdown",
   "id": "873e289b-662a-422b-91b1-9edb7fc19611",
   "metadata": {},
   "source": [
    "인공뉴런 = 함수"
   ]
  },
  {
   "cell_type": "code",
   "execution_count": 8,
   "id": "464e7685-eb7f-45e7-955d-5ce4101b7acb",
   "metadata": {},
   "outputs": [],
   "source": [
    "import numpy as np\n",
    "import matplotlib.pyplot as plt\n",
    "%matplotlib inline"
   ]
  },
  {
   "cell_type": "code",
   "execution_count": 3,
   "id": "e52de9d7-daf1-457b-9d82-552a8efe83a4",
   "metadata": {},
   "outputs": [],
   "source": [
    "def mileToKm(x):\n",
    "    \"\"\"x마일을 Km로 변환하여 반환\"\"\"\n",
    "    return 1.61 * x\n",
    "\n",
    "def plotMileToKm(x,y):\n",
    "    \"\"\" x,y의 값들을 그래프로 출력\"\"\"\n",
    "    plt.figure()\n",
    "    plt.plot(x,y)\n",
    "    plt.title(\"Mile to Km\")\n",
    "    plt.xlabel(\"Mile\")\n",
    "    plt.ylabel(\"Km\")\n",
    "    plt.show()"
   ]
  },
  {
   "cell_type": "code",
   "execution_count": 4,
   "id": "0deeaf23-6f75-4132-8958-e266778e2d90",
   "metadata": {},
   "outputs": [
    {
     "name": "stdout",
     "output_type": "stream",
     "text": [
      "0mi:0.0km\n",
      "1mi:1.61km\n",
      "2mi:3.22km\n",
      "3mi:4.83km\n",
      "4mi:6.44km\n"
     ]
    }
   ],
   "source": [
    "for mile in range(0, 5):\n",
    "    print('{}mi:{}km'.format(mile, mileToKm(mile)))"
   ]
  },
  {
   "cell_type": "code",
   "execution_count": 5,
   "id": "1d78ea1b-d385-4025-aab2-e97427b5fc79",
   "metadata": {},
   "outputs": [
    {
     "name": "stdout",
     "output_type": "stream",
     "text": [
      "[0.0, 1.61, 3.22, 4.83, 6.44]\n"
     ]
    }
   ],
   "source": [
    "y = []\n",
    "for mile in range(0,5):\n",
    "    y.append(mileToKm(mile))\n",
    "print(y)"
   ]
  },
  {
   "cell_type": "code",
   "execution_count": 7,
   "id": "31520676-d5d6-4657-9c23-1e1c5f232a61",
   "metadata": {},
   "outputs": [
    {
     "name": "stdout",
     "output_type": "stream",
     "text": [
      "[0.0, 1.61, 3.22, 4.83, 6.44]\n"
     ]
    }
   ],
   "source": [
    "# list comprehension\n",
    "y = [ mileToKm(mile) for mile in range(0,5)]\n",
    "print(y)"
   ]
  },
  {
   "cell_type": "code",
   "execution_count": 9,
   "id": "00902853-3e02-4717-879e-a75cb504b68c",
   "metadata": {},
   "outputs": [
    {
     "name": "stdout",
     "output_type": "stream",
     "text": [
      "[0 1 2 3 4]\n",
      "[0.   1.61 3.22 4.83 6.44]\n"
     ]
    },
    {
     "data": {
      "image/png": "[encoded data removed]",
      "text/plain": [
       "<Figure size 432x288 with 1 Axes>"
      ]
     },
     "metadata": {
      "needs_background": "light"
     },
     "output_type": "display_data"
    }
   ],
   "source": [
    "# numpy array\n",
    "# pythonic\n",
    "\n",
    "x = np.arange(0,5)\n",
    "y = mileToKm(x)\n",
    "print(x)\n",
    "print(y)\n",
    "plotMileToKm(x,y)"
   ]
  },
  {
   "cell_type": "code",
   "execution_count": 16,
   "id": "131a5129-a430-40da-bca5-695a7311b187",
   "metadata": {},
   "outputs": [
    {
     "name": "stdout",
     "output_type": "stream",
     "text": [
      "[14.0, 32.0, 50.0, 68.0, 86.0, 104.0, 122.0, 140.0, 158.0, 176.0, 194.0, 212.0]\n"
     ]
    }
   ],
   "source": [
    "# quiz\n",
    "f = [9/5 * c + 32 for c in range(-10,101,10)]\n",
    "print(f)"
   ]
  },
  {
   "cell_type": "code",
   "execution_count": 19,
   "id": "8d034740-8c8a-4e8d-98b1-b42adfd50b67",
   "metadata": {},
   "outputs": [
    {
     "ename": "AttributeError",
     "evalue": "module 'numpy' has no attribute 'range'",
     "output_type": "error",
     "traceback": [
      "\u001b[0;31m---------------------------------------------------------------------------\u001b[0m",
      "\u001b[0;31mAttributeError\u001b[0m                            Traceback (most recent call last)",
      "\u001b[0;32m<ipython-input-19-f5420c05ac97>\u001b[0m in \u001b[0;36m<module>\u001b[0;34m\u001b[0m\n\u001b[0;32m----> 1\u001b[0;31m \u001b[0mnp\u001b[0m\u001b[0;34m.\u001b[0m\u001b[0mrange\u001b[0m\u001b[0;34m(\u001b[0m\u001b[0;36m0\u001b[0m\u001b[0;34m,\u001b[0m \u001b[0;36m5\u001b[0m\u001b[0;34m,\u001b[0m \u001b[0;36m2\u001b[0m\u001b[0;34m)\u001b[0m\u001b[0;34m\u001b[0m\u001b[0;34m\u001b[0m\u001b[0m\n\u001b[0m",
      "\u001b[0;32m~/opt/anaconda3/lib/python3.8/site-packages/numpy/__init__.py\u001b[0m in \u001b[0;36m__getattr__\u001b[0;34m(attr)\u001b[0m\n\u001b[1;32m    301\u001b[0m                 \u001b[0;32mreturn\u001b[0m \u001b[0mTester\u001b[0m\u001b[0;34m\u001b[0m\u001b[0;34m\u001b[0m\u001b[0m\n\u001b[1;32m    302\u001b[0m \u001b[0;34m\u001b[0m\u001b[0m\n\u001b[0;32m--> 303\u001b[0;31m             raise AttributeError(\"module {!r} has no attribute \"\n\u001b[0m\u001b[1;32m    304\u001b[0m                                  \"{!r}\".format(__name__, attr))\n\u001b[1;32m    305\u001b[0m \u001b[0;34m\u001b[0m\u001b[0m\n",
      "\u001b[0;31mAttributeError\u001b[0m: module 'numpy' has no attribute 'range'"
     ]
    }
   ],
   "source": [
    "np.range(0, 5, 2)"
   ]
  },
  {
   "cell_type": "code",
   "execution_count": null,
   "id": "adb14be9-7215-4b02-8eac-a6709284cbac",
   "metadata": {},
   "outputs": [],
   "source": []
  }
 ],
 "metadata": {
  "kernelspec": {
   "display_name": "Python 3",
   "language": "python",
   "name": "python3"
  },
  "language_info": {
   "codemirror_mode": {
    "name": "ipython",
    "version": 3
   },
   "file_extension": ".py",
   "mimetype": "text/x-python",
   "name": "python",
   "nbconvert_exporter": "python",
   "pygments_lexer": "ipython3",
   "version": "3.8.8"
  }
 },
 "nbformat": 4,
 "nbformat_minor": 5
}
