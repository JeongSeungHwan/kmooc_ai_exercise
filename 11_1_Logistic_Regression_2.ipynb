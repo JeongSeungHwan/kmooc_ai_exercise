{
 "cells": [
  {
   "cell_type": "code",
   "execution_count": 7,
   "metadata": {},
   "outputs": [],
   "source": [
    "import numpy as np\n",
    "import joy"
   ]
  },
  {
   "cell_type": "markdown",
   "metadata": {},
   "source": [
    "### Mean Squared Error"
   ]
  },
  {
   "cell_type": "code",
   "execution_count": 14,
   "metadata": {},
   "outputs": [],
   "source": [
    "def MSEcost(A2, Y):\n",
    "    E2 = Y -  A2\n",
    "    cost = np.sqrt(np.sum(E2 * E2))\n",
    "    return cost "
   ]
  },
  {
   "cell_type": "code",
   "execution_count": 17,
   "metadata": {},
   "outputs": [
    {
     "data": {
      "text/plain": [
       "0.34"
      ]
     },
     "execution_count": 17,
     "metadata": {},
     "output_type": "execute_result"
    }
   ],
   "source": [
    "A2 = np.array([[.1, .2, .7], [.1, .7, .2], [.3, .4, .3]])\n",
    "Y = np.array([[0,0,1],[0,1,0],[1,0,0]])\n",
    "np.sum((Y-A2)**2)/3"
   ]
  },
  {
   "cell_type": "markdown",
   "metadata": {},
   "source": [
    "### CrossEntropy Error"
   ]
  },
  {
   "cell_type": "code",
   "execution_count": 6,
   "metadata": {},
   "outputs": [],
   "source": [
    "def CEcost(self, A2, Y):\n",
    "    m = Y.shape[1] #number of example\n",
    "    logprobs = np.multiply(Y, np.log(A2))\n",
    "    cost = -np.sum(logprobs) / m\n",
    "    cost = np.squeeze(cost) \n",
    "    return cost"
   ]
  },
  {
   "cell_type": "code",
   "execution_count": 7,
   "metadata": {},
   "outputs": [],
   "source": [
    "def softmax(self, a):\n",
    "    exp_a = np.exp(a - np.max(a))\n",
    "    return exp_a / np.sum(exp_a)"
   ]
  },
  {
   "cell_type": "code",
   "execution_count": 8,
   "metadata": {},
   "outputs": [],
   "source": [
    "import matplotlib.pyplot as plt \n",
    "import numpy as np\n",
    "\n",
    "class LogisticNeuron_stochastic(object):\n",
    "    def __init__(self, n_x, n_h, n_y, eta = 0.2, epochs = 5, random_seed=1):\n",
    "        self.n_x = n_x\n",
    "        self.n_h = n_h\n",
    "        self.n_y = n_y\n",
    "        self.eta = eta\n",
    "        self.epochs = epochs\n",
    "        self.random_seed = random_seed\n",
    "        \n",
    "        np.random.seed(self.random_seed)\n",
    "        self.W1 = 2*np.random.random((self.n_h, self.n_x)) - 1\n",
    "        self.b1 = np.zeros((self.n_h, 1))\n",
    "        self.W2 = 2*np.random.random((self.n_y, self.n_h)) - 1      \n",
    "        self.b2 = np.zeros((self.n_y, 1))\n",
    "        self.W1 = 2*np.random.random((self.n_h, self.n_x)) - 1  \n",
    "        self.W2 = 2*np.random.random((self.n_y, self.n_h)) - 1  \n",
    "        \n",
    "    def CEcost(self, A2, Y):\n",
    "        m = Y.shape[1] \n",
    "        logprobs = np.multiply(Y, np.log(A2))\n",
    "        cost = -np.sum(logprobs)/m\n",
    "        cost = np.squeeze(cost)        \n",
    "        return cost  \n",
    "    \n",
    "    def forpass(self, A0):\n",
    "        Z1 = np.dot(self.W1, A0) + self.b1         \n",
    "        A1 = self.g(Z1)                          \n",
    "        Z2 = np.dot(self.W2, A1) + self.b2       \n",
    "        A2 = self.softmax(Z2)                   \n",
    "        return Z1, A1, Z2, A2\n",
    "\n",
    "    def fit(self, X, y): \n",
    "        self.cost_ = []\n",
    "        self.m_samples = len(y)\n",
    "        Y = joy.one_hot_encoding(y, self.n_y)    \n",
    "               \n",
    "        for epoch in range(self.epochs):           \n",
    "            for sample in range(self.m_samples):            \n",
    "                A0 = np.array(X[sample], ndmin=2).T  \n",
    "                Y0 = np.array(Y[sample], ndmin=2).T  \n",
    "\n",
    "                Z1, A1, Z2, A2 = self.forpass(A0)    \n",
    "                \n",
    "                cost = self.CEcost(A2, Y0)\n",
    "                self.cost_.append(cost)\n",
    "                E2 = Y0 - A2                \n",
    "                dZ2 = E2 \n",
    "                dW2 = np.dot(dZ2, A1.T) / self.m_samples\n",
    "                db2 = np.sum(dZ2, axis=1, keepdims=True) / self.m_samples\n",
    "                \n",
    "                E1 = np.dot(self.W2.T, E2)  \n",
    "                dZ1 = E1 * self.g_prime(Z1) \n",
    "                dW1 = np.dot(dZ1, A0.T) \n",
    "                db1 = np.sum(dZ1, axis=1, keepdims=True) \n",
    "                \n",
    "                self.W1 += self.eta * dW1 \n",
    "                self.b1 += self.eta * db1 \n",
    "                self.W2 += self.eta * dW2 \n",
    "                self.b2 += self.eta * db2 \n",
    "            print('Training epoch {}/{}, cost = {}'.format(epoch+1, self.epochs, cost))\n",
    "        return self\n",
    "\n",
    "    def predict(self, X):\n",
    "        A0 = np.array(X, ndmin=2).T        \n",
    "        Z1, A1, Z2, A2 = self.forpass(A0)  \n",
    "        return A2  \n",
    "\n",
    "    def g(self, x):               \n",
    "        x = np.clip(x, -500, 500) \n",
    "        return 1.0/(1.0+np.exp(-x))\n",
    "                                   \n",
    "\n",
    "    def g_prime(self, x):          \n",
    "        return self.g(x) * (1 - self.g(x))\n",
    "    \n",
    "    def softmax(self, a):       \n",
    "        exp_a = np.exp(a - np.max(a))\n",
    "        return exp_a / np.sum(exp_a)\n",
    "    \n",
    "    def evaluate(self, Xtest, ytest): \n",
    "        m_samples = len(ytest)  \n",
    "        A2 = self.predict(Xtest)\n",
    "        yhat = np.argmax(A2, axis = 0)\n",
    "        scores = np.sum(yhat == ytest)\n",
    "        return scores/m_samples * 100"
   ]
  },
  {
   "cell_type": "code",
   "execution_count": 10,
   "metadata": {},
   "outputs": [
    {
     "name": "stdout",
     "output_type": "stream",
     "text": [
      "Training epoch 1/1, cost = 0.6030753688254945\n",
      "Training epoch 1/2, cost = 0.6030753688254945\n",
      "Training epoch 2/2, cost = 0.5487202658185626\n",
      "Training epoch 1/3, cost = 0.6030753688254945\n",
      "Training epoch 2/3, cost = 0.5487202658185626\n",
      "Training epoch 3/3, cost = 0.563116486742796\n",
      "Training epoch 1/4, cost = 0.6030753688254945\n",
      "Training epoch 2/4, cost = 0.5487202658185626\n",
      "Training epoch 3/4, cost = 0.563116486742796\n",
      "Training epoch 4/4, cost = 0.5933841742745642\n"
     ]
    }
   ],
   "source": [
    "(X, y), (Xtest, ytest) = joy.load_mnist()\n",
    "self_accuracy = []\n",
    "test_accuracy = []\n",
    "epoch_list = np.arange(1, 5)\n",
    "for e in epoch_list:\n",
    "    nn = joy.LogisticNeuron_stochastic(784, 100, 10, eta = 0.2, epochs = e)  \n",
    "    nn.fit(X, y)       \n",
    "    self_accuracy.append(nn.evaluate(X, y))\n",
    "    test_accuracy.append(nn.evaluate(Xtest, ytest))"
   ]
  },
  {
   "cell_type": "code",
   "execution_count": 12,
   "metadata": {},
   "outputs": [
    {
     "data": {
      "image/png": "[encoded data removed]",
      "text/plain": [
       "<Figure size 432x288 with 1 Axes>"
      ]
     },
     "metadata": {
      "needs_background": "light"
     },
     "output_type": "display_data"
    }
   ],
   "source": [
    "import matplotlib.pyplot as plt\n",
    "\n",
    "plt.plot(epoch_list, self_accuracy, label='self')\n",
    "plt.plot(epoch_list, test_accuracy, label='test')\n",
    "plt.xlabel('Number of Epochs')\n",
    "plt.ylabel('Accuracy')\n",
    "plt.title('Logistic Regression:Cross entropy with SGD')\n",
    "plt.legend(loc='best')\n",
    "plt.show()"
   ]
  },
  {
   "cell_type": "code",
   "execution_count": null,
   "metadata": {},
   "outputs": [],
   "source": []
  }
 ],
 "metadata": {
  "interpreter": {
   "hash": "1ad7ce947f80e820fb1d9f08fd47555ab73d83cf566083b785f3ff8e68bed4e0"
  },
  "kernelspec": {
   "display_name": "Python 3.8.8 64-bit ('base': conda)",
   "language": "python",
   "name": "python3"
  },
  "language_info": {
   "codemirror_mode": {
    "name": "ipython",
    "version": 3
   },
   "file_extension": ".py",
   "mimetype": "text/x-python",
   "name": "python",
   "nbconvert_exporter": "python",
   "pygments_lexer": "ipython3",
   "version": "3.8.8"
  },
  "orig_nbformat": 4
 },
 "nbformat": 4,
 "nbformat_minor": 2
}
