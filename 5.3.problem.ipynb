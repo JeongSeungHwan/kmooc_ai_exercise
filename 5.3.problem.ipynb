{
 "cells": [
  {
   "cell_type": "code",
   "execution_count": 1,
   "id": "3fbe8216-16ff-476b-b893-793ae6d834c2",
   "metadata": {},
   "outputs": [],
   "source": [
    "import numpy as np\n",
    "import matplotlib.pyplot as plt\n",
    "%matplotlib inline"
   ]
  },
  {
   "cell_type": "code",
   "execution_count": 11,
   "id": "5e05ab7a-eade-4e33-987b-2f4da661bfa5",
   "metadata": {},
   "outputs": [],
   "source": [
    "data = np.genfromtxt('data/joydata.txt')"
   ]
  },
  {
   "cell_type": "code",
   "execution_count": 109,
   "id": "d5c4fa19-7170-42d9-a513-e950704bfb6c",
   "metadata": {},
   "outputs": [],
   "source": [
    "np.random.shuffle(data)"
   ]
  },
  {
   "cell_type": "code",
   "execution_count": 112,
   "id": "91de33b5-efd1-48e4-bd2e-b9c9fbdb4da5",
   "metadata": {},
   "outputs": [],
   "source": [
    "n = round(len(data_X0) * 0.7)\n",
    "x = data[:,:2]\n",
    "y = data[:,2].astype(int)\n",
    "X = np.c_[np.ones(len(x)),x]\n",
    "X_train, X_test = X[:n], X[n:]\n",
    "y_train, y_test = y[:n], y[n:]"
   ]
  },
  {
   "cell_type": "code",
   "execution_count": 113,
   "id": "06ddfeb1-8ad9-45ad-adbe-a018d064eed8",
   "metadata": {},
   "outputs": [
    {
     "data": {
      "text/plain": [
       "array([1, 0, 0, 1, 0, 0, 0, 1, 1, 1, 0, 0, 1, 1, 1, 0, 0, 1, 1, 1, 1, 1,\n",
       "       0, 0, 1, 0, 0, 0, 1, 0, 0, 1, 1, 0, 1, 1, 1, 0, 0, 0, 1, 0, 1, 0,\n",
       "       1, 1, 1, 1, 1, 0, 0, 0, 1, 1, 1, 1, 1, 1, 0, 1, 1, 1, 0, 0, 0, 0,\n",
       "       0, 1, 1, 0])"
      ]
     },
     "execution_count": 113,
     "metadata": {},
     "output_type": "execute_result"
    }
   ],
   "source": [
    "y_train"
   ]
  },
  {
   "cell_type": "code",
   "execution_count": 114,
   "id": "8bd915da-8818-411c-a6fa-a87a2bc35fa0",
   "metadata": {},
   "outputs": [],
   "source": [
    "def perceptron_train(X,y,epochs=0,eta=0,random_seed=0):\n",
    "    rand = np.random.RandomState(random_seed)\n",
    "    w = rand.rand(X.shape[1])\n",
    "    \n",
    "    for _ in range(epochs):\n",
    "        for xi, yi in zip(X,y):\n",
    "            z = np.dot(xi,w)\n",
    "            yhat = np.where(z > 0.0, y.max(), y.min())\n",
    "            if yhat != yi:\n",
    "                delta = eta * (yi - yhat) * xi\n",
    "                w += delta\n",
    "    return w"
   ]
  },
  {
   "cell_type": "code",
   "execution_count": 115,
   "id": "05e149bf-c23d-4818-bff9-3c9fc3c51688",
   "metadata": {},
   "outputs": [],
   "source": [
    "def perception_pred(X,y,w):\n",
    "    z = np.dot(X,w)\n",
    "    yhat = np.where(z > 0.0, y.max(), y.min())\n",
    "    return np.sum(yhat.flatten() != y), yhat"
   ]
  },
  {
   "cell_type": "code",
   "execution_count": 130,
   "id": "dff8ffa5-6c32-4a0a-812f-a31acf86d2cd",
   "metadata": {},
   "outputs": [
    {
     "name": "stdout",
     "output_type": "stream",
     "text": [
      "[0.47132064 0.35275195 0.43414823]\n",
      "train_miss : 4/70\n",
      "test_miss : 4/30\n"
     ]
    }
   ],
   "source": [
    "w = perceptron_train(X_train,y_train, 2, 0.05, 10)\n",
    "\n",
    "miss_train, yhat = perception_pred(X_train, y_train, w)\n",
    "miss_test, yhat_test = perception_pred(X_test, y_test, w)\n",
    "\n",
    "print(w)\n",
    "print('train_miss : {}/{}'.format(miss_train, len(y_train)))\n",
    "print('test_miss : {}/{}'.format(miss_test, len(y_test)))"
   ]
  },
  {
   "cell_type": "code",
   "execution_count": null,
   "id": "1c9b3a75-d7ec-44f1-8447-4c657e9464cb",
   "metadata": {},
   "outputs": [],
   "source": []
  },
  {
   "cell_type": "code",
   "execution_count": null,
   "id": "430e3d5c-f898-478f-ab81-48acdb398817",
   "metadata": {},
   "outputs": [],
   "source": []
  }
 ],
 "metadata": {
  "kernelspec": {
   "display_name": "Python 3",
   "language": "python",
   "name": "python3"
  },
  "language_info": {
   "codemirror_mode": {
    "name": "ipython",
    "version": 3
   },
   "file_extension": ".py",
   "mimetype": "text/x-python",
   "name": "python",
   "nbconvert_exporter": "python",
   "pygments_lexer": "ipython3",
   "version": "3.8.8"
  }
 },
 "nbformat": 4,
 "nbformat_minor": 5
}
