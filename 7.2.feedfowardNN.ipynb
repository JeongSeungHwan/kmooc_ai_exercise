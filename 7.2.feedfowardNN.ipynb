{
 "cells": [
  {
   "cell_type": "markdown",
   "id": "7f1d9965-8ba3-410e-9aa0-8d9a631ce90e",
   "metadata": {},
   "source": [
    "# 순방향 신경망"
   ]
  },
  {
   "cell_type": "markdown",
   "id": "dbf82a64-0e17-44c0-84fc-4cb54c6f54f0",
   "metadata": {},
   "source": [
    "MNIST 숫자 이미지 구분\n",
    "\n",
    "입력층 : 784 (28 * 28)   \n",
    "은닉층 : 100   \n",
    "출력층 : 10 (0~9)\n",
    "\n",
    "가중치 : (784 * 100) + (100 * 10) = 79400"
   ]
  },
  {
   "cell_type": "code",
   "execution_count": 4,
   "id": "7423cbef-2fe9-4dea-a769-b2cc1ef2e2fc",
   "metadata": {},
   "outputs": [],
   "source": [
    "import joy\n",
    "import numpy as np\n",
    "\n",
    "# 활성화 함수\n",
    "g = lambda x : 1 / (1 + np.exp(-x))"
   ]
  },
  {
   "cell_type": "code",
   "execution_count": 21,
   "id": "e0e40feb-a70f-440b-998b-58e7504acae8",
   "metadata": {},
   "outputs": [],
   "source": [
    "def pred_mnist(num):\n",
    "    (X, y) = joy.load_mnist_num(num)\n",
    "\n",
    "    #입력층 ~ 은닉층\n",
    "    W1 = joy.load_mnist_weight('data/w_xh.weights')\n",
    "    Z1 = np.dot(W1, X)\n",
    "    A1 = g(Z1)\n",
    "\n",
    "    #은닉층 ~ 출력층\n",
    "    W2 = joy.load_mnist_weight('data/w_hy.weights')\n",
    "    Z2 = np.dot(W2, A1)\n",
    "    yhat = g(Z2)\n",
    "    \n",
    "    return y, yhat\n",
    "\n",
    "    #print('image : ', y)\n",
    "    #print('predict : ', np.round_(yhat, 3))"
   ]
  },
  {
   "cell_type": "code",
   "execution_count": 22,
   "id": "f1a5fd66-db94-4c69-9017-6408d212d8fd",
   "metadata": {},
   "outputs": [
    {
     "name": "stdout",
     "output_type": "stream",
     "text": [
      "(0) class label : 5, predict : 5, probability : 0.9969934729927533\n",
      "(1) class label : 0, predict : 0, probability : 0.9949362816492308\n",
      "(2) class label : 4, predict : 4, probability : 0.9795043269753221\n",
      "(3) class label : 1, predict : 1, probability : 0.9759860917838176\n",
      "(4) class label : 9, predict : 9, probability : 0.9946090931620719\n"
     ]
    }
   ],
   "source": [
    "num_list = [5, 0, 4, 1, 9]\n",
    "for i, num in enumerate(num_list):\n",
    "    y, yhat = pred_mnist(num)\n",
    "    \n",
    "    max_index = np.argmax(yhat)\n",
    "    print('({}) class label : {}, predict : {}, probability : {}'.format(i, num, max_index, yhat[max_index]))"
   ]
  }
 ],
 "metadata": {
  "kernelspec": {
   "display_name": "Python 3 (ipykernel)",
   "language": "python",
   "name": "python3"
  },
  "language_info": {
   "codemirror_mode": {
    "name": "ipython",
    "version": 3
   },
   "file_extension": ".py",
   "mimetype": "text/x-python",
   "name": "python",
   "nbconvert_exporter": "python",
   "pygments_lexer": "ipython3",
   "version": "3.8.8"
  }
 },
 "nbformat": 4,
 "nbformat_minor": 5
}
