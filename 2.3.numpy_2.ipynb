{
 "cells": [
  {
   "cell_type": "code",
   "execution_count": 48,
   "id": "836fd59c-44a9-49bc-85e2-e5daa397b12b",
   "metadata": {},
   "outputs": [],
   "source": [
    "import numpy as np\n",
    "import matplotlib.pyplot as plt\n",
    "%matplotlib inline"
   ]
  },
  {
   "cell_type": "markdown",
   "id": "ef76bfdf-35bd-4174-b1a2-bd79140ef54f",
   "metadata": {},
   "source": [
    "## 브로드 캐스팅\n",
    "\n",
    "서로 크기가 다른 배열 간의 연산을 가능하게 해준다."
   ]
  },
  {
   "cell_type": "code",
   "execution_count": 2,
   "id": "2136a8ac-7764-4e15-9fc3-51c257ee6934",
   "metadata": {
    "tags": []
   },
   "outputs": [
    {
     "ename": "ValueError",
     "evalue": "operands could not be broadcast together with shapes (3,) (2,) ",
     "output_type": "error",
     "traceback": [
      "\u001b[0;31m---------------------------------------------------------------------------\u001b[0m",
      "\u001b[0;31mValueError\u001b[0m                                Traceback (most recent call last)",
      "\u001b[0;32m<ipython-input-2-0ad41c013129>\u001b[0m in \u001b[0;36m<module>\u001b[0;34m\u001b[0m\n\u001b[1;32m      1\u001b[0m \u001b[0ma\u001b[0m \u001b[0;34m=\u001b[0m \u001b[0mnp\u001b[0m\u001b[0;34m.\u001b[0m\u001b[0marray\u001b[0m\u001b[0;34m(\u001b[0m\u001b[0;34m[\u001b[0m\u001b[0;36m1\u001b[0m\u001b[0;34m,\u001b[0m\u001b[0;36m2\u001b[0m\u001b[0;34m,\u001b[0m\u001b[0;36m3\u001b[0m\u001b[0;34m]\u001b[0m\u001b[0;34m)\u001b[0m\u001b[0;34m\u001b[0m\u001b[0;34m\u001b[0m\u001b[0m\n\u001b[1;32m      2\u001b[0m \u001b[0mb\u001b[0m \u001b[0;34m=\u001b[0m \u001b[0mnp\u001b[0m\u001b[0;34m.\u001b[0m\u001b[0marray\u001b[0m\u001b[0;34m(\u001b[0m\u001b[0;34m[\u001b[0m\u001b[0;36m1\u001b[0m\u001b[0;34m,\u001b[0m\u001b[0;36m2\u001b[0m\u001b[0;34m]\u001b[0m\u001b[0;34m)\u001b[0m\u001b[0;34m\u001b[0m\u001b[0;34m\u001b[0m\u001b[0m\n\u001b[0;32m----> 3\u001b[0;31m \u001b[0ma\u001b[0m \u001b[0;34m+\u001b[0m \u001b[0mb\u001b[0m\u001b[0;34m\u001b[0m\u001b[0;34m\u001b[0m\u001b[0m\n\u001b[0m",
      "\u001b[0;31mValueError\u001b[0m: operands could not be broadcast together with shapes (3,) (2,) "
     ]
    }
   ],
   "source": [
    "a = np.array([1,2,3])\n",
    "b = np.array([1,2])\n",
    "a + b"
   ]
  },
  {
   "cell_type": "code",
   "execution_count": 5,
   "id": "4436a67a-99f0-4aa2-b3b9-a93f480d36e9",
   "metadata": {},
   "outputs": [
    {
     "data": {
      "text/plain": [
       "array([2, 3, 4])"
      ]
     },
     "execution_count": 5,
     "metadata": {},
     "output_type": "execute_result"
    }
   ],
   "source": [
    "# 스칼라 브로드캐스팅\n",
    "a = np.array([1,2,3])\n",
    "b = np.array([1])\n",
    "a + b"
   ]
  },
  {
   "cell_type": "code",
   "execution_count": 6,
   "id": "2f2f2c81-66e3-4e4f-b15e-1cd34dc2a6c4",
   "metadata": {},
   "outputs": [
    {
     "name": "stdout",
     "output_type": "stream",
     "text": [
      "[[ 2  2  4]\n",
      " [ 5  5  7]\n",
      " [ 8  8 10]\n",
      " [11 11 13]]\n"
     ]
    }
   ],
   "source": [
    "# 행 브로드캐스팅\n",
    "a = np.array(np.arange(1,13)).reshape(4,3)\n",
    "b = np.array([1,0,1])\n",
    "print (a + b)"
   ]
  },
  {
   "cell_type": "code",
   "execution_count": 8,
   "id": "0e427180-2c7d-4d1d-b831-ce80a57eb9b6",
   "metadata": {},
   "outputs": [
    {
     "name": "stdout",
     "output_type": "stream",
     "text": [
      "[[0 1 2]\n",
      " [1 2 3]\n",
      " [2 3 4]]\n"
     ]
    }
   ],
   "source": [
    "# 양방향 브로드캐스팅\n",
    "a = np.arange(3).reshape(3,1)\n",
    "b = np.arange(3)\n",
    "print(a + b)"
   ]
  },
  {
   "cell_type": "markdown",
   "id": "0830d376-b97c-412d-a6fb-4536e3a1dc9a",
   "metadata": {},
   "source": [
    "## 배열의 축(Axis) 다루기"
   ]
  },
  {
   "cell_type": "code",
   "execution_count": 17,
   "id": "43371525-1062-4479-b152-a5e922d31499",
   "metadata": {},
   "outputs": [
    {
     "name": "stdout",
     "output_type": "stream",
     "text": [
      "15\n",
      "[3 5 7]\n",
      "[ 3 12]\n"
     ]
    }
   ],
   "source": [
    "a = np.arange(6).reshape(2,3)\n",
    "\n",
    "print(np.sum(a)) # a의 모든 원소의 합을 구한다.\n",
    "print(np.sum(a, axis = 0)) # 축에 대한 합을 구한다. 0 = 1행[0] + 2행[0]... \n",
    "print(np.sum(a, axis = 1)) # 축에 대한 합을 구한다. 1 = 1열[0] + 2열[0] + 3열[0] ..."
   ]
  },
  {
   "cell_type": "code",
   "execution_count": 22,
   "id": "ff34feda-939d-4cbd-9c6f-e416a4990b86",
   "metadata": {},
   "outputs": [
    {
     "name": "stdout",
     "output_type": "stream",
     "text": [
      "[[[ 0  1]\n",
      "  [ 2  3]\n",
      "  [ 4  5]\n",
      "  [ 6  7]]\n",
      "\n",
      " [[ 8  9]\n",
      "  [10 11]\n",
      "  [12 13]\n",
      "  [14 15]]\n",
      "\n",
      " [[16 17]\n",
      "  [18 19]\n",
      "  [20 21]\n",
      "  [22 23]]]\n"
     ]
    }
   ],
   "source": [
    "#3차원 배열 만들기\n",
    "\n",
    "a = np.arange(8).reshape(4,2)\n",
    "a = np.arange(24).reshape(3,4,2) #2차원 배열 3개가 모인 형태\n",
    "print(a)"
   ]
  },
  {
   "cell_type": "code",
   "execution_count": 37,
   "id": "fb48c855-6ffa-4554-84a2-571de0417f47",
   "metadata": {},
   "outputs": [
    {
     "data": {
      "text/plain": [
       "array([[ 0,  2,  4,  6],\n",
       "       [ 8, 10, 12, 14],\n",
       "       [16, 18, 20, 22]])"
      ]
     },
     "execution_count": 37,
     "metadata": {},
     "output_type": "execute_result"
    }
   ],
   "source": [
    "np.min(a, axis = 2)"
   ]
  },
  {
   "cell_type": "code",
   "execution_count": 38,
   "id": "9b088fc1-32e2-4396-a46f-f68b2287285f",
   "metadata": {},
   "outputs": [
    {
     "data": {
      "text/plain": [
       "array([[16, 17],\n",
       "       [18, 19],\n",
       "       [20, 21],\n",
       "       [22, 23]])"
      ]
     },
     "execution_count": 38,
     "metadata": {},
     "output_type": "execute_result"
    }
   ],
   "source": [
    "np.max(a, axis = 0)"
   ]
  },
  {
   "cell_type": "markdown",
   "id": "93e26c12-d486-4bf7-86f5-adf6285dcdb1",
   "metadata": {},
   "source": [
    "## 난수 생성 모델"
   ]
  },
  {
   "cell_type": "code",
   "execution_count": 39,
   "id": "0cfb1a97-925c-4fe5-91ac-644ad3c3a3c4",
   "metadata": {},
   "outputs": [
    {
     "data": {
      "text/plain": [
       "array([[ 0, -1, -1,  1],\n",
       "       [ 0,  0,  3, -3]])"
      ]
     },
     "execution_count": 39,
     "metadata": {},
     "output_type": "execute_result"
    }
   ],
   "source": [
    "np.random.randint(-5,5, size = (2,4)) #low, high, size"
   ]
  },
  {
   "cell_type": "code",
   "execution_count": 42,
   "id": "70dc261b-b7b3-4164-b2ea-d67d7aa6d5a1",
   "metadata": {},
   "outputs": [
    {
     "data": {
      "text/plain": [
       "array([0, 1, 0, 0, 0, 0, 1, 0])"
      ]
     },
     "execution_count": 42,
     "metadata": {},
     "output_type": "execute_result"
    }
   ],
   "source": [
    "np.random.randint(2, size=(8)) # high를 지정하지 않으면 0~low사잇값"
   ]
  },
  {
   "cell_type": "code",
   "execution_count": 46,
   "id": "3910224f-a8ba-411d-bd78-8829734c97f9",
   "metadata": {},
   "outputs": [
    {
     "data": {
      "text/plain": [
       "array([[ 0.52669046,  1.57101687, -0.13429489],\n",
       "       [ 2.36486411, -1.18321066,  1.66167497]])"
      ]
     },
     "execution_count": 46,
     "metadata": {},
     "output_type": "execute_result"
    }
   ],
   "source": [
    "mean = 0\n",
    "std = 1\n",
    "np.random.normal(loc=mean,scale=std,size=(2,3)) #평균, 표준편차 지정, 크기가 커질수록 지정값에 맞게 수렴"
   ]
  },
  {
   "cell_type": "code",
   "execution_count": 55,
   "id": "459a4176-0e4a-4cb3-b4fe-bc75813d7330",
   "metadata": {},
   "outputs": [
    {
     "data": {
      "image/png": "[encoded data removed]",
      "text/plain": [
       "<Figure size 432x288 with 1 Axes>"
      ]
     },
     "metadata": {
      "needs_background": "light"
     },
     "output_type": "display_data"
    }
   ],
   "source": [
    "# 값이 많아지면 정규분포에 수렴한다.\n",
    "data = np.random.normal(mean, std, 1000000)\n",
    "plt.hist(data,bins=500)\n",
    "plt.show()"
   ]
  },
  {
   "cell_type": "code",
   "execution_count": 57,
   "id": "aad69275-dccc-49ae-8c60-ff99d11c762e",
   "metadata": {},
   "outputs": [
    {
     "data": {
      "text/plain": [
       "array([[0.05260524, 0.9985036 , 0.29682401],\n",
       "       [0.29656945, 0.12877886, 0.93983669]])"
      ]
     },
     "execution_count": 57,
     "metadata": {},
     "output_type": "execute_result"
    }
   ],
   "source": [
    "np.random.random((2,3)) #해당 구간에서 고르게 샘플 분포"
   ]
  },
  {
   "cell_type": "code",
   "execution_count": 58,
   "id": "ac85418b-25a5-48be-b10f-e07cea711d6a",
   "metadata": {},
   "outputs": [
    {
     "data": {
      "image/png": "[encoded data removed]",
      "text/plain": [
       "<Figure size 432x288 with 1 Axes>"
      ]
     },
     "metadata": {
      "needs_background": "light"
     },
     "output_type": "display_data"
    }
   ],
   "source": [
    "data = np.random.random(1000000)\n",
    "plt.hist(data, bins=500)\n",
    "plt.show()"
   ]
  },
  {
   "cell_type": "code",
   "execution_count": 61,
   "id": "a5dbfea7-dc0c-4f92-a588-d3604aabd001",
   "metadata": {},
   "outputs": [
    {
     "data": {
      "text/plain": [
       "array([[ 5,  5, 11, 11, 17],\n",
       "       [ 4,  4, 10, 11, 17],\n",
       "       [ 3,  3,  9,  9, 15]])"
      ]
     },
     "execution_count": 61,
     "metadata": {},
     "output_type": "execute_result"
    }
   ],
   "source": [
    "a = np.array([[2,5,8,11,14],[1,4,7,11,14],[0,3,6,9,12]])\n",
    "b = np.array([3,0,3,0,3])\n",
    "a + b"
   ]
  },
  {
   "cell_type": "code",
   "execution_count": 69,
   "id": "352d7827-c393-460c-8762-1ca3c3f7c652",
   "metadata": {},
   "outputs": [
    {
     "data": {
      "text/plain": [
       "array([[ 1,  5,  9, 13],\n",
       "       [17, 21, 25, 29],\n",
       "       [33, 37, 41, 45]])"
      ]
     },
     "execution_count": 69,
     "metadata": {},
     "output_type": "execute_result"
    }
   ],
   "source": [
    "np.sum(np.arange(24).reshape(3,4,2),axis=2)"
   ]
  },
  {
   "cell_type": "code",
   "execution_count": 70,
   "id": "ad4536a3-c6b3-436f-b698-08c433180832",
   "metadata": {},
   "outputs": [],
   "source": [
    "data = np.loadtxt('data/2.3.numpy2test.txt', unpack=True, dtype='float32')"
   ]
  },
  {
   "cell_type": "code",
   "execution_count": 71,
   "id": "e455eb94-e483-4b63-a87b-3a611f79e037",
   "metadata": {},
   "outputs": [
    {
     "data": {
      "text/plain": [
       "array([[1., 1., 1., 1.],\n",
       "       [0., 0., 1., 1.],\n",
       "       [0., 1., 0., 1.],\n",
       "       [0., 1., 1., 0.]], dtype=float32)"
      ]
     },
     "execution_count": 71,
     "metadata": {},
     "output_type": "execute_result"
    }
   ],
   "source": [
    "data"
   ]
  },
  {
   "cell_type": "code",
   "execution_count": 72,
   "id": "e9f89a43-23e1-40f3-97ee-f5b0b7fbc7fa",
   "metadata": {},
   "outputs": [
    {
     "data": {
      "text/plain": [
       "array([[0, 1],\n",
       "       [2, 3]])"
      ]
     },
     "execution_count": 72,
     "metadata": {},
     "output_type": "execute_result"
    }
   ],
   "source": [
    "a = np.arange(12).reshape(3,2,2)\n",
    "a.min(axis = 0)"
   ]
  },
  {
   "cell_type": "code",
   "execution_count": null,
   "id": "00b8efc3-17e5-4ca5-bb7b-34729ac7fcd5",
   "metadata": {},
   "outputs": [],
   "source": []
  }
 ],
 "metadata": {
  "kernelspec": {
   "display_name": "Python 3",
   "language": "python",
   "name": "python3"
  },
  "language_info": {
   "codemirror_mode": {
    "name": "ipython",
    "version": 3
   },
   "file_extension": ".py",
   "mimetype": "text/x-python",
   "name": "python",
   "nbconvert_exporter": "python",
   "pygments_lexer": "ipython3",
   "version": "3.8.8"
  }
 },
 "nbformat": 4,
 "nbformat_minor": 5
}
