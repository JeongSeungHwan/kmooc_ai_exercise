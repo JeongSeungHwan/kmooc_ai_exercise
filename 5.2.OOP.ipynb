{
 "cells": [
  {
   "cell_type": "markdown",
   "id": "d6aeabb4-e205-4273-bc24-a2fef052ad5d",
   "metadata": {},
   "source": [
    "# 객체지향 프로그래밍(OOP)"
   ]
  },
  {
   "cell_type": "markdown",
   "id": "87d438a8-0157-4e8b-9ea1-6886097bbc8b",
   "metadata": {},
   "source": [
    "### 1.속성 "
   ]
  },
  {
   "cell_type": "code",
   "execution_count": 6,
   "id": "5785f333-e80b-41b1-89a3-b524d7a6b968",
   "metadata": {},
   "outputs": [
    {
     "name": "stdout",
     "output_type": "stream",
     "text": [
      "4\n",
      "1380\n"
     ]
    }
   ],
   "source": [
    "mycar = Car(4, 1380)\n",
    "print(mycar.length)\n",
    "print(mycar.weight)"
   ]
  },
  {
   "cell_type": "markdown",
   "id": "6db23760-6fac-4f5e-910f-ed5d514f5c4d",
   "metadata": {},
   "source": [
    "### 2.기능 "
   ]
  },
  {
   "cell_type": "code",
   "execution_count": 7,
   "id": "fc8c1b48-7289-4ae0-a391-715ce768b05a",
   "metadata": {},
   "outputs": [
    {
     "name": "stdout",
     "output_type": "stream",
     "text": [
      "Move Forward!\n",
      "Move Backward!\n"
     ]
    }
   ],
   "source": [
    "mycar.forward()\n",
    "mycar.backward()"
   ]
  },
  {
   "cell_type": "markdown",
   "id": "fba5f4e1-dd50-4ad4-95d5-c74ac3500788",
   "metadata": {},
   "source": [
    "### 3.상호작용"
   ]
  },
  {
   "cell_type": "code",
   "execution_count": 11,
   "id": "9ad3edbc-f75c-41f4-afc3-b9ab905cafd9",
   "metadata": {},
   "outputs": [
    {
     "name": "stdout",
     "output_type": "stream",
     "text": [
      "Whoom!\n"
     ]
    }
   ],
   "source": [
    "mycar = Car(4, 1380)\n",
    "owner = Person()\n",
    "owner.start(mycar)"
   ]
  },
  {
   "cell_type": "code",
   "execution_count": 14,
   "id": "8adfc707-18e8-4f44-8b79-384229b58625",
   "metadata": {},
   "outputs": [
    {
     "name": "stdout",
     "output_type": "stream",
     "text": [
      "0\n",
      "10\n"
     ]
    }
   ],
   "source": [
    "print(owner.pos)\n",
    "mycar.move(owner)\n",
    "print(owner.pos)"
   ]
  },
  {
   "cell_type": "markdown",
   "id": "6ec28b9a-dfbc-4fd1-a88c-451734b631a1",
   "metadata": {},
   "source": [
    "### 4.독립성 "
   ]
  },
  {
   "cell_type": "code",
   "execution_count": 19,
   "id": "c362a9d5-8b0c-44a0-9610-d6afc70bd4c2",
   "metadata": {},
   "outputs": [
    {
     "name": "stdout",
     "output_type": "stream",
     "text": [
      "10\n",
      "0\n"
     ]
    }
   ],
   "source": [
    "myCar = Car(1.5, 1000)\n",
    "urCar = Car(2, 1400)\n",
    "myCar.speedUp()\n",
    "print(myCar.speed)\n",
    "print(urCar.speed)"
   ]
  },
  {
   "cell_type": "code",
   "execution_count": 15,
   "id": "d55c698e-7f0d-450c-8b9a-a6313997ba85",
   "metadata": {},
   "outputs": [],
   "source": [
    "class Car:\n",
    "    def __init__(self, length, weight):\n",
    "        self.length = length\n",
    "        self.weight = weight\n",
    "        self.speed = 0\n",
    "    def forward(self):\n",
    "        print(\"Move Forward!\")\n",
    "    def backward(self):\n",
    "        print(\"Move Backward!\")\n",
    "    def move(self, owner):\n",
    "        owner.pos += 10\n",
    "    def speedUp(self):\n",
    "        self.speed += 10\n",
    "    def change(self, length, weight):\n",
    "        self.length = length\n",
    "        self.weight = weight"
   ]
  },
  {
   "cell_type": "code",
   "execution_count": 9,
   "id": "23dc6ea3-cf51-4b26-b89b-d00f430e00ca",
   "metadata": {},
   "outputs": [],
   "source": [
    "class Person :\n",
    "    def __init__(self):\n",
    "        self.pos = 0\n",
    "    def start(self, Car):\n",
    "        print(\"Whoom!\")"
   ]
  },
  {
   "cell_type": "code",
   "execution_count": null,
   "id": "29b1111f-1e10-48da-b823-5f7c7d53186d",
   "metadata": {},
   "outputs": [],
   "source": []
  }
 ],
 "metadata": {
  "kernelspec": {
   "display_name": "Python 3",
   "language": "python",
   "name": "python3"
  },
  "language_info": {
   "codemirror_mode": {
    "name": "ipython",
    "version": 3
   },
   "file_extension": ".py",
   "mimetype": "text/x-python",
   "name": "python",
   "nbconvert_exporter": "python",
   "pygments_lexer": "ipython3",
   "version": "3.8.8"
  }
 },
 "nbformat": 4,
 "nbformat_minor": 5
}
