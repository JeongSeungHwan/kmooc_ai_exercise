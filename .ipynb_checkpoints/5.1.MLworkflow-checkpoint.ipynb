{
 "cells": [
  {
   "cell_type": "markdown",
   "metadata": {},
   "source": [
    "#  ML WorkFlow"
   ]
  },
  {
   "cell_type": "markdown",
   "metadata": {},
   "source": [
    "## 1. 학습데이터 준비"
   ]
  },
  {
   "cell_type": "code",
   "execution_count": 2,
   "metadata": {
    "collapsed": true,
    "jupyter": {
     "outputs_hidden": true
    },
    "tags": []
   },
   "outputs": [
    {
     "name": "stdout",
     "output_type": "stream",
     "text": [
      "\n",
      "\n",
      "\n",
      "\n",
      "\n",
      "\n",
      "\n",
      "\n",
      "\n",
      "\n",
      "\n",
      "\n",
      "\n",
      "\n",
      "\n",
      "\n",
      "\n",
      "\n",
      "\n",
      "\n",
      "\n",
      "\n",
      "\n",
      "\n",
      "\n",
      "\n",
      "\n",
      "\n",
      "\n",
      "\n",
      "\n",
      "\n",
      "\n",
      "\n",
      "\n",
      "\n",
      "\n",
      "\n",
      "\n",
      "\n",
      "\n",
      "\n",
      "\n",
      "\n",
      "\n",
      "\n",
      "\n",
      "\n",
      "\n",
      "\n",
      "\n",
      "\n",
      "\n",
      "\n",
      "\n",
      "\n",
      "\n",
      "\n",
      "\n",
      "\n",
      "\n",
      "\n",
      "\n",
      "\n",
      "\n",
      "\n",
      "\n",
      "\n",
      "\n",
      "\n",
      "\n",
      "\n",
      "\n",
      "\n",
      "\n",
      "\n",
      "\n",
      "\n",
      "\n",
      "\n",
      "\n",
      "\n",
      "\n",
      "\n",
      "\n",
      "\n",
      "\n",
      "\n",
      "\n",
      "\n",
      "\n",
      "\n",
      "\n",
      "\n",
      "\n",
      "\n",
      "\n",
      "\n",
      "\n",
      "\n"
     ]
    }
   ],
   "source": [
    "!cat data/joydata.txt"
   ]
  },
  {
   "cell_type": "code",
   "execution_count": 23,
   "metadata": {},
   "outputs": [],
   "source": [
    "import numpy as np"
   ]
  },
  {
   "cell_type": "code",
   "execution_count": 10,
   "metadata": {},
   "outputs": [
    {
     "data": {
      "text/plain": [
       "(100, 3)"
      ]
     },
     "execution_count": 10,
     "metadata": {},
     "output_type": "execute_result"
    }
   ],
   "source": [
    "data = np.genfromtxt('data/joydata.txt')\n",
    "data.shape"
   ]
  },
  {
   "cell_type": "markdown",
   "metadata": {},
   "source": [
    "### 데이터 시각화 "
   ]
  },
  {
   "cell_type": "code",
   "execution_count": 38,
   "metadata": {},
   "outputs": [
    {
     "data": {
      "image/png": "[encoded data removed]",
      "text/plain": [
       "<Figure size 432x288 with 1 Axes>"
      ]
     },
     "metadata": {
      "needs_background": "light"
     },
     "output_type": "display_data"
    }
   ],
   "source": [
    "import matplotlib.pyplot as plt\n",
    "%matplotlib inline\n",
    "\n",
    "plt.scatter(x[y==1,0], x[y==1,1], label='class1', marker='s')\n",
    "plt.scatter(x[y==0,0], x[y==0,1], label='class2', marker='o')\n",
    "plt.xlabel('$x_1$', fontsize = 18)\n",
    "plt.ylabel('$x_2$', fontsize = 18)\n",
    "plt.legend()\n",
    "plt.show()"
   ]
  },
  {
   "cell_type": "code",
   "execution_count": 22,
   "metadata": {},
   "outputs": [
    {
     "name": "stdout",
     "output_type": "stream",
     "text": [
      "[[-1.72 -3.12]\n",
      " [ 0.31  1.85]\n",
      " [ 1.56  2.85]\n",
      " [ 2.64  2.41]\n",
      " [ 1.23  2.54]]\n",
      "[1 1 1 1 1]\n"
     ]
    }
   ],
   "source": [
    "x = data[:,:2]\n",
    "y = data[:,2]\n",
    "y = y.astype(int)\n",
    "print(x[:5])\n",
    "print(y[:5])"
   ]
  },
  {
   "cell_type": "markdown",
   "metadata": {},
   "source": []
  },
  {
   "cell_type": "markdown",
   "metadata": {},
   "source": [
    "### 데이터 셔플링\n",
    "같은 클래스가 모여있어 결과가 왜곡될 수 있음 > 무작위화 필요"
   ]
  },
  {
   "cell_type": "code",
   "execution_count": 45,
   "metadata": {},
   "outputs": [
    {
     "name": "stdout",
     "output_type": "stream",
     "text": [
      "[[ 2.64  2.41]\n",
      " [-2.92 -2.51]\n",
      " [ 2.17  2.64]\n",
      " [ 3.87  2.91]\n",
      " [ 1.49  1.25]]\n",
      "[1 0 1 1 1]\n"
     ]
    }
   ],
   "source": [
    "np.random.shuffle(data)\n",
    "x = data[:,:2]\n",
    "y = data[:,2]\n",
    "y = y.astype(int)\n",
    "print(x[:5])\n",
    "print(y[:5])"
   ]
  },
  {
   "cell_type": "markdown",
   "metadata": {},
   "source": [
    "### 피쳐 스케일링\n",
    "\n",
    "속성간 스케일 차가 큰 경우 정규화, 표준화를 이용하여 속성 스케일을 통일\n"
   ]
  },
  {
   "cell_type": "code",
   "execution_count": 49,
   "metadata": {},
   "outputs": [
    {
     "name": "stdout",
     "output_type": "stream",
     "text": [
      "[[0.85978261 0.83478261]\n",
      " [0.25543478 0.3       ]\n",
      " [0.80869565 0.85978261]\n",
      " [0.99347826 0.88913043]\n",
      " [0.73478261 0.70869565]]\n"
     ]
    }
   ],
   "source": [
    "# 정규화\n",
    "\n",
    "xmax = np.max(x)\n",
    "xmin = np.min(x)\n",
    "x_norm = (x-xmin)/(xmax-xmin)\n",
    "print(x_norm[:5])"
   ]
  },
  {
   "cell_type": "code",
   "execution_count": 52,
   "metadata": {},
   "outputs": [
    {
     "name": "stdout",
     "output_type": "stream",
     "text": [
      "[[ 1.19205293  1.04526796]\n",
      " [-1.39754396 -1.26565069]\n",
      " [ 0.97314816  1.15329871]\n",
      " [ 1.76493138  1.28011742]\n",
      " [ 0.65643487  0.50041722]]\n"
     ]
    }
   ],
   "source": [
    "#표준화\n",
    "\n",
    "mean = x.mean(axis=0) #평균, axis = 0 : 각 특성에 대하여\n",
    "sigma = x.std(axis=0) #표준편차\n",
    "x_std = (x - mean) / sigma\n",
    "print(x_std[:5])"
   ]
  },
  {
   "cell_type": "markdown",
   "metadata": {},
   "source": [
    "### 훈련자료, 테스트 자료 분리"
   ]
  },
  {
   "cell_type": "code",
   "execution_count": 57,
   "metadata": {},
   "outputs": [
    {
     "name": "stdout",
     "output_type": "stream",
     "text": [
      "(80, 2) (20, 2)\n",
      "(80,) (20,)\n"
     ]
    }
   ],
   "source": [
    "n = int(x.shape[0] * 0.8) # 8 : 2\n",
    "x_train, x_test = x[:n], x[n:]\n",
    "y_train, y_test = y[:n], y[n:]\n",
    "print(x_train.shape, x_test.shape)\n",
    "print(y_train.shape, y_test.shape)"
   ]
  },
  {
   "cell_type": "code",
   "execution_count": 103,
   "metadata": {},
   "outputs": [
    {
     "data": {
      "image/png": "[encoded data removed]",
      "text/plain": [
       "<Figure size 720x360 with 2 Axes>"
      ]
     },
     "metadata": {
      "needs_background": "light"
     },
     "output_type": "display_data"
    }
   ],
   "source": [
    "plt.figure(figsize=(10,5))\n",
    "\n",
    "ax1 = plt.subplot(1,2,1,title = 'Train')\n",
    "ax2 = plt.subplot(1,2,2,title = 'Test')\n",
    "\n",
    "ax1.scatter(x_train[y_train==1,0],x_train[y_train==1,1],label='class1', marker='s')\n",
    "ax1.scatter(x_train[y_train==0,0],x_train[y_train==0,1],label='class0', marker='o')\n",
    "ax2.scatter(x_test[y_test==1,0],x_test[y_test==1,1],label='class1', marker='s')\n",
    "ax2.scatter(x_test[y_test==0,0],x_test[y_test==0,1],label='class0', marker='o')\n",
    "\n",
    "ax1.legend(loc='upper left')\n",
    "ax1.set_xlabel('$x_1$', fontsize = 18)\n",
    "ax1.set_ylabel('$x_2$', fontsize = 18)\n",
    "plt.show()"
   ]
  },
  {
   "cell_type": "markdown",
   "metadata": {},
   "source": [
    "#### 정규화"
   ]
  },
  {
   "cell_type": "code",
   "execution_count": 104,
   "metadata": {
    "jupyter": {
     "source_hidden": true
    },
    "tags": []
   },
   "outputs": [
    {
     "data": {
      "image/png": "[encoded data removed]",
      "text/plain": [
       "<Figure size 720x360 with 2 Axes>"
      ]
     },
     "metadata": {
      "needs_background": "light"
     },
     "output_type": "display_data"
    }
   ],
   "source": [
    "xmax = np.max(x)\n",
    "xmin = np.min(x)\n",
    "x_norm = (x-xmin)/(xmax-xmin)\n",
    "\n",
    "x_n_train, x_n_test = x_norm[:n], x_norm[n:]\n",
    "y_train, y_test = y[:n], y[n:]\n",
    "\n",
    "plt.figure(figsize=(10,5))\n",
    "\n",
    "ax1 = plt.subplot(1,2,1,title = 'Train')\n",
    "ax2 = plt.subplot(1,2,2,title = 'Test')\n",
    "\n",
    "ax1.scatter(x_n_train[y_train==1,0],x_n_train[y_train==1,1],label='class1', marker='s')\n",
    "ax1.scatter(x_n_train[y_train==0,0],x_n_train[y_train==0,1],label='class0', marker='o')\n",
    "ax2.scatter(x_n_test[y_test==1,0],x_n_test[y_test==1,1],label='class1', marker='s')\n",
    "ax2.scatter(x_n_test[y_test==0,0],x_n_test[y_test==0,1],label='class0', marker='o')\n",
    "\n",
    "ax1.legend(loc='upper left')\n",
    "ax1.set_xlabel('$x_1$', fontsize = 18)\n",
    "ax1.set_ylabel('$x_2$', fontsize = 18)\n",
    "plt.show()"
   ]
  },
  {
   "cell_type": "markdown",
   "metadata": {},
   "source": [
    "#### 표준화"
   ]
  },
  {
   "cell_type": "code",
   "execution_count": 105,
   "metadata": {
    "jupyter": {
     "source_hidden": true
    },
    "tags": []
   },
   "outputs": [
    {
     "data": {
      "image/png": "[encoded data removed]",
      "text/plain": [
       "<Figure size 720x360 with 2 Axes>"
      ]
     },
     "metadata": {
      "needs_background": "light"
     },
     "output_type": "display_data"
    }
   ],
   "source": [
    "mean = np.mean(x, axis = 0)\n",
    "sigma = np.std(x, axis = 0)\n",
    "x_std = (x-mean)/sigma\n",
    "\n",
    "x_s_train, x_s_test = x_std[:n], x_std[n:]\n",
    "y_train, y_test = y[:n], y[n:]\n",
    "\n",
    "plt.figure(figsize=(10,5))\n",
    "\n",
    "ax1 = plt.subplot(1,2,1,title = 'Train')\n",
    "ax2 = plt.subplot(1,2,2,title = 'Test')\n",
    "\n",
    "ax1.scatter(x_s_train[y_train==1,0],x_s_train[y_train==1,1],label='class1', marker='s')\n",
    "ax1.scatter(x_s_train[y_train==0,0],x_s_train[y_train==0,1],label='class0', marker='o')\n",
    "ax2.scatter(x_s_test[y_test==1,0],x_s_test[y_test==1,1],label='class1', marker='s')\n",
    "ax2.scatter(x_s_test[y_test==0,0],x_s_test[y_test==0,1],label='class0', marker='o')\n",
    "\n",
    "ax1.legend(loc='upper left')\n",
    "ax1.set_xlabel('$x_1$', fontsize = 18)\n",
    "ax1.set_ylabel('$x_2$', fontsize = 18)\n",
    "plt.show()"
   ]
  },
  {
   "cell_type": "markdown",
   "metadata": {},
   "source": [
    "## 2.학습"
   ]
  },
  {
   "cell_type": "code",
   "execution_count": 228,
   "metadata": {},
   "outputs": [],
   "source": [
    "X_train = np.c_[np.ones(len(x_train)),x_train]\n",
    "X_test = np.c_[np.ones(len(x_test)),x_test]"
   ]
  },
  {
   "cell_type": "code",
   "execution_count": 229,
   "metadata": {},
   "outputs": [],
   "source": [
    "def perceptron_training(X,y,w=None,X0=False,eta=0.1,epochs=1,random_seed=1):\n",
    "    if X0 == False :\n",
    "        X = np.c_[np.ones(len(X)),X]\n",
    "    randnum = np.random.RandomState(random_seed)\n",
    "    w = randnum.normal(loc=0.0, scale=0.01, size=X.shape[1])\n",
    "    \n",
    "    maxlabel = y.max()\n",
    "    minlabel = y.min()\n",
    "    \n",
    "    for _ in range(epochs):\n",
    "        for xi, yi in zip(X,y):\n",
    "            z = np.dot(xi,w)\n",
    "            yhat = np.where(z > 0.0, maxlabel, minlabel)\n",
    "            if yi != yhat:\n",
    "                delta = eta * (yi - yhat) * xi\n",
    "                w += delta\n",
    "    return w"
   ]
  },
  {
   "cell_type": "code",
   "execution_count": 237,
   "metadata": {},
   "outputs": [
    {
     "data": {
      "text/plain": [
       "array([0.01624345, 0.11088244, 0.16271828])"
      ]
     },
     "execution_count": 237,
     "metadata": {},
     "output_type": "execute_result"
    }
   ],
   "source": [
    "perceptron_training(X_train,y_train,X0=True,epochs=3)"
   ]
  },
  {
   "cell_type": "markdown",
   "metadata": {},
   "source": [
    "## 3.예측 및 평가 "
   ]
  },
  {
   "cell_type": "code",
   "execution_count": 238,
   "metadata": {},
   "outputs": [],
   "source": [
    "def perceptron_predict(X,w) :\n",
    "    z = np.dot(X,w)\n",
    "    yhat = np.where(z > 0., 1, 0)\n",
    "    return yhat"
   ]
  },
  {
   "cell_type": "code",
   "execution_count": 255,
   "metadata": {},
   "outputs": [],
   "source": [
    "w = perceptron_training(X_train,y_train,X0=True,epochs=3)"
   ]
  },
  {
   "cell_type": "code",
   "execution_count": 256,
   "metadata": {},
   "outputs": [
    {
     "name": "stdout",
     "output_type": "stream",
     "text": [
      "Misclassified:2/80\n"
     ]
    }
   ],
   "source": [
    "yhat = perceptron_predict(X_train, w)\n",
    "missed = 0\n",
    "m_samples = len(y_train)\n",
    "for m in range(m_samples):\n",
    "    if yhat[m] != y_train[m]:\n",
    "        missed += 1\n",
    "print('Misclassified:{}/{}'.format(missed, m_samples))"
   ]
  },
  {
   "cell_type": "code",
   "execution_count": 257,
   "metadata": {},
   "outputs": [
    {
     "name": "stdout",
     "output_type": "stream",
     "text": [
      "Misclassified:0/20\n"
     ]
    }
   ],
   "source": [
    "yhat = perceptron_predict(X_test, w)\n",
    "missed = 0\n",
    "m_samples = len(y_test)\n",
    "for m in range(m_samples):\n",
    "    if yhat[m] != y_test[m]:\n",
    "        missed += 1\n",
    "print('Misclassified:{}/{}'.format(missed, m_samples)) "
   ]
  },
  {
   "cell_type": "markdown",
   "metadata": {},
   "source": [
    "### 비교식 단순화\n",
    "\n",
    "flatten()사용"
   ]
  },
  {
   "cell_type": "code",
   "execution_count": 260,
   "metadata": {},
   "outputs": [
    {
     "name": "stdout",
     "output_type": "stream",
     "text": [
      "Misclassified:2/20\n"
     ]
    }
   ],
   "source": [
    "yhat = perceptron_predict(X_train, w)\n",
    "missed = np.sum(yhat.flatten() != y_train)\n",
    "print('Misclassified:{}/{}'.format(missed, m_samples)) "
   ]
  },
  {
   "cell_type": "code",
   "execution_count": 262,
   "metadata": {},
   "outputs": [
    {
     "name": "stdout",
     "output_type": "stream",
     "text": [
      "Misclassified:0/20\n"
     ]
    }
   ],
   "source": [
    "yhat = perceptron_predict(X_test, w)\n",
    "missed = np.sum(yhat.flatten() != y_test)\n",
    "print('Misclassified:{}/{}'.format(missed, m_samples)) "
   ]
  },
  {
   "cell_type": "markdown",
   "metadata": {},
   "source": [
    "### 시각화"
   ]
  },
  {
   "cell_type": "code",
   "execution_count": 263,
   "metadata": {},
   "outputs": [
    {
     "data": {
      "image/png": "[encoded data removed]",
      "text/plain": [
       "<Figure size 432x288 with 1 Axes>"
      ]
     },
     "metadata": {
      "needs_background": "light"
     },
     "output_type": "display_data"
    }
   ],
   "source": [
    "%run code/plot_xyw.py\n",
    "plot_xyw(X_train, y_train, w.flatten(), X0=True)"
   ]
  },
  {
   "cell_type": "code",
   "execution_count": 264,
   "metadata": {},
   "outputs": [
    {
     "data": {
      "image/png": "[encoded data removed]",
      "text/plain": [
       "<Figure size 432x288 with 1 Axes>"
      ]
     },
     "metadata": {
      "needs_background": "light"
     },
     "output_type": "display_data"
    }
   ],
   "source": [
    "plot_xyw(X_test, y_test, w.flatten(), X0=True)"
   ]
  },
  {
   "cell_type": "code",
   "execution_count": null,
   "metadata": {},
   "outputs": [],
   "source": []
  }
 ],
 "metadata": {
  "interpreter": {
   "hash": "f4ce6e65de68ffd2eb8ba459e409d9654f40455ba8b7dce6c70ef759b349a0b0"
  },
  "kernelspec": {
   "display_name": "Python 3",
   "language": "python",
   "name": "python3"
  },
  "language_info": {
   "codemirror_mode": {
    "name": "ipython",
    "version": 3
   },
   "file_extension": ".py",
   "mimetype": "text/x-python",
   "name": "python",
   "nbconvert_exporter": "python",
   "pygments_lexer": "ipython3",
   "version": "3.8.8"
  }
 },
 "nbformat": 4,
 "nbformat_minor": 4
}
