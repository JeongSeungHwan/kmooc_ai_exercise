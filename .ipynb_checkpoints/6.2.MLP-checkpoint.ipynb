{
 "cells": [
  {
   "cell_type": "markdown",
   "id": "0c43f5a5-f79b-4f35-89e0-60829c557b26",
   "metadata": {},
   "source": [
    "# 다층 퍼셉트론"
   ]
  },
  {
   "cell_type": "code",
   "execution_count": null,
   "id": "ce31232e-fa87-4eb8-8b30-9a72b15f5d5b",
   "metadata": {},
   "outputs": [],
   "source": []
  }
 ],
 "metadata": {
  "kernelspec": {
   "display_name": "Python 3 (ipykernel)",
   "language": "python",
   "name": "python3"
  },
  "language_info": {
   "codemirror_mode": {
    "name": "ipython",
    "version": 3
   },
   "file_extension": ".py",
   "mimetype": "text/x-python",
   "name": "python",
   "nbconvert_exporter": "python",
   "pygments_lexer": "ipython3",
   "version": "3.8.8"
  }
 },
 "nbformat": 4,
 "nbformat_minor": 5
}
