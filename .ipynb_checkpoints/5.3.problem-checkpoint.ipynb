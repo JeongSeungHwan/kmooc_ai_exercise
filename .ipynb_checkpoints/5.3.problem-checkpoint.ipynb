{
 "cells": [
  {
   "cell_type": "code",
   "execution_count": 1,
   "id": "3fbe8216-16ff-476b-b893-793ae6d834c2",
   "metadata": {},
   "outputs": [],
   "source": [
    "import numpy as np\n",
    "import matplotlib.pyplot as plt\n",
    "%matplotlib inline"
   ]
  },
  {
   "cell_type": "code",
   "execution_count": 11,
   "id": "5e05ab7a-eade-4e33-987b-2f4da661bfa5",
   "metadata": {},
   "outputs": [],
   "source": [
    "data = np.genfromtxt('data/joydata.txt')"
   ]
  },
  {
   "cell_type": "code",
   "execution_count": 12,
   "id": "d5c4fa19-7170-42d9-a513-e950704bfb6c",
   "metadata": {},
   "outputs": [],
   "source": [
    "np.random.shuffle(data)"
   ]
  },
  {
   "cell_type": "code",
   "execution_count": 13,
   "id": "3502f33e-ee4f-460e-bca8-1605f8cfec19",
   "metadata": {
    "tags": []
   },
   "outputs": [],
   "source": []
  },
  {
   "cell_type": "code",
   "execution_count": 33,
   "id": "91de33b5-efd1-48e4-bd2e-b9c9fbdb4da5",
   "metadata": {},
   "outputs": [],
   "source": [
    "n = round(len(data_X0) * 0.7)\n",
    "x = data[:,:2]\n",
    "y = data_X0[:,2]\n",
    "X = np.c_[np.ones(len(x)),x]\n",
    "X_train, X_test = X[:n], X[n:]\n",
    "y_train, y_test = y[:n], y[n:]"
   ]
  },
  {
   "cell_type": "code",
   "execution_count": 28,
   "id": "06ddfeb1-8ad9-45ad-adbe-a018d064eed8",
   "metadata": {},
   "outputs": [
    {
     "data": {
      "text/plain": [
       "array([4.17022005e-01, 7.20324493e-01, 1.14374817e-04])"
      ]
     },
     "execution_count": 28,
     "metadata": {},
     "output_type": "execute_result"
    }
   ],
   "source": [
    "rand = np.random.RandomState(1)\n",
    "rand.rand(3)"
   ]
  },
  {
   "cell_type": "code",
   "execution_count": 70,
   "id": "8bd915da-8818-411c-a6fa-a87a2bc35fa0",
   "metadata": {},
   "outputs": [],
   "source": [
    "def perceptron_train(X,y,epochs=0,eta=0,random_seed=0):\n",
    "    rand = np.random.RandomState(random_seed)\n",
    "    w = rand.rand(X.shape[1])\n",
    "    \n",
    "    for _ in range(epochs):\n",
    "        for xi, yi in zip(X,y):\n",
    "            z = np.dot(xi,w)\n",
    "            yhat = np.where(z > 0, y.max(), y.min())\n",
    "            if yhat != yi:\n",
    "                delta = eta * (yi - yhat) * xi\n",
    "                w += delta\n",
    "    return w"
   ]
  },
  {
   "cell_type": "code",
   "execution_count": 71,
   "id": "82a0e69e-3e34-41f8-b0d9-072db1c48625",
   "metadata": {
    "tags": []
   },
   "outputs": [
    {
     "data": {
      "text/plain": [
       "array([-0.06120683, -0.01500769,  0.37292716])"
      ]
     },
     "execution_count": 71,
     "metadata": {},
     "output_type": "execute_result"
    }
   ],
   "source": [
    "perceptron_train(X_train,y_train, 2, 0.02, 5)"
   ]
  },
  {
   "cell_type": "code",
   "execution_count": null,
   "id": "05e149bf-c23d-4818-bff9-3c9fc3c51688",
   "metadata": {},
   "outputs": [],
   "source": [
    "def perception_pred(X,y,w):\n",
    "    "
   ]
  }
 ],
 "metadata": {
  "kernelspec": {
   "display_name": "Python 3",
   "language": "python",
   "name": "python3"
  },
  "language_info": {
   "codemirror_mode": {
    "name": "ipython",
    "version": 3
   },
   "file_extension": ".py",
   "mimetype": "text/x-python",
   "name": "python",
   "nbconvert_exporter": "python",
   "pygments_lexer": "ipython3",
   "version": "3.8.8"
  }
 },
 "nbformat": 4,
 "nbformat_minor": 5
}
