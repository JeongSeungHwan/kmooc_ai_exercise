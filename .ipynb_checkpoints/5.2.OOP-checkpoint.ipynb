{
 "cells": [
  {
   "cell_type": "markdown",
   "id": "d6aeabb4-e205-4273-bc24-a2fef052ad5d",
   "metadata": {},
   "source": [
    "# 객체지향 프로그래밍(OOP)"
   ]
  },
  {
   "cell_type": "code",
   "execution_count": null,
   "id": "5785f333-e80b-41b1-89a3-b524d7a6b968",
   "metadata": {},
   "outputs": [],
   "source": []
  }
 ],
 "metadata": {
  "kernelspec": {
   "display_name": "Python 3",
   "language": "python",
   "name": "python3"
  },
  "language_info": {
   "codemirror_mode": {
    "name": "ipython",
    "version": 3
   },
   "file_extension": ".py",
   "mimetype": "text/x-python",
   "name": "python",
   "nbconvert_exporter": "python",
   "pygments_lexer": "ipython3",
   "version": "3.8.8"
  }
 },
 "nbformat": 4,
 "nbformat_minor": 5
}
