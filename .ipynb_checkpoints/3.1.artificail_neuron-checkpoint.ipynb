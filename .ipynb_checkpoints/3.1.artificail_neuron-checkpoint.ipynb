{
 "cells": [
  {
   "cell_type": "markdown",
   "id": "e3d2af92-6332-4e21-a96b-4a765b24906c",
   "metadata": {},
   "source": [
    "### 인공뉴런의 동작원리"
   ]
  },
  {
   "cell_type": "code",
   "execution_count": null,
   "id": "4f26b040-31e8-40e1-9ddb-ea6a31899df9",
   "metadata": {},
   "outputs": [],
   "source": []
  }
 ],
 "metadata": {
  "kernelspec": {
   "display_name": "Python 3",
   "language": "python",
   "name": "python3"
  },
  "language_info": {
   "codemirror_mode": {
    "name": "ipython",
    "version": 3
   },
   "file_extension": ".py",
   "mimetype": "text/x-python",
   "name": "python",
   "nbconvert_exporter": "python",
   "pygments_lexer": "ipython3",
   "version": "3.8.8"
  }
 },
 "nbformat": 4,
 "nbformat_minor": 5
}
