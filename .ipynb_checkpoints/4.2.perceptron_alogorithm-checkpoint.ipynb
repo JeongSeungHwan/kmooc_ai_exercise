{
 "cells": [
  {
   "cell_type": "code",
   "execution_count": 2,
   "id": "3e75f78a",
   "metadata": {},
   "outputs": [],
   "source": [
    "import numpy as np\r\n",
    "import matplotlib.pyplot as plt\r\n",
    "%matplotlib inline"
   ]
  },
  {
   "cell_type": "code",
   "execution_count": 47,
   "id": "18ee4d13",
   "metadata": {},
   "outputs": [],
   "source": [
    "x = np.array([[1.0, 1.0], [2.0, -2.0],\r\n",
    "            [-1.0,-1.5],[-2.0, -1.0],\r\n",
    "            [-2.0, 1.0],[1.5, -0.5]])\r\n",
    "X = np.c_[np.ones(len(x)), x] #입력\r\n",
    "y = np.array([1, -1, -1, -1, 1, 1]) #정답 클래스 \r\n",
    "w = np.random.random((X.shape[1],1)) #초기 가중치\r\n",
    "\r\n",
    "maxlabel, minlabel = y.max(), y.min()"
   ]
  },
  {
   "cell_type": "code",
   "execution_count": 48,
   "id": "654ff556",
   "metadata": {},
   "outputs": [
    {
     "name": "stdout",
     "output_type": "stream",
     "text": [
      "[[0.37]\n",
      " [0.21]\n",
      " [0.51]]\n"
     ]
    }
   ],
   "source": [
    "eta = 0.1 #학습률\r\n",
    "epochs = 1\r\n",
    "\r\n",
    "for _ in range(epochs) :\r\n",
    "    for xi, yi in zip(X,y):\r\n",
    "        xi = xi.reshape(w.shape)\r\n",
    "        z = np.dot(w.T, xi) \r\n",
    "        yhat = np.where(z > 0.0, maxlabel, minlabel)\r\n",
    "        delta = eta * (yi - yhat) * xi\r\n",
    "        w += delta\r\n",
    "\r\n",
    "print(np.round(w,2))"
   ]
  },
  {
   "cell_type": "code",
   "execution_count": 55,
   "id": "ff76d949",
   "metadata": {},
   "outputs": [],
   "source": [
    "#%%writefile code/perceptron.py\r\n",
    "def perceptron (X, y, w = None, eta = 0.1, epochs=5, random_seed=1):\r\n",
    "    if w is None:\r\n",
    "        np.random.seed(random_seed)\r\n",
    "        w = np.random.random((X.shape[1],-1))\r\n",
    "    maxlabel, minlabel = y.max(), y.min()\r\n",
    "    for _ in range(epochs):\r\n",
    "        for xi, yi in zip(X,y):\r\n",
    "            xi = xi.reshape(w.shape)\r\n",
    "            z = np.dot(w.T, xi)\r\n",
    "            yhat = np.where(z >= 0.0, maxlabel, minlabel)\r\n",
    "            delta = eta * (yi - yhat) * xi\r\n",
    "            w += delta\r\n",
    "    return w"
   ]
  },
  {
   "cell_type": "code",
   "execution_count": 71,
   "id": "573fbe7c",
   "metadata": {},
   "outputs": [
    {
     "data": {
      "image/png": "[encoded data removed]",
      "text/plain": [
       "<Figure size 432x288 with 1 Axes>"
      ]
     },
     "metadata": {
      "needs_background": "light"
     },
     "output_type": "display_data"
    }
   ],
   "source": [
    "import matplotlib.pyplot as plt\r\n",
    "import numpy as np\r\n",
    "%matplotlib inline\r\n",
    "%run code/plot_xyw.py\r\n",
    "\r\n",
    "x = np.array([[1.0, 1.0], [2.0, -2.0],\r\n",
    "            [-1.0,-1.5],[-2.0, -1.0],\r\n",
    "            [-2.0, 1.0],[1.5, -0.5]])\r\n",
    "X = np.c_[np.ones(len(x)), x] #입력\r\n",
    "y = np.array([1, -1, -1, -1, 1, 1]) #정답 클래스 \r\n",
    "w = np.random.random((X.shape[1])) #초기 가중치\r\n",
    "w = perceptron(X,y,w,eta=0.1,epochs=1)\r\n",
    "plot_xyw(X, y, w, X0 = True)"
   ]
  },
  {
   "cell_type": "code",
   "execution_count": null,
   "id": "e4555092",
   "metadata": {},
   "outputs": [],
   "source": []
  },
  {
   "cell_type": "code",
   "execution_count": 138,
   "id": "b6dd36aa",
   "metadata": {},
   "outputs": [
    {
     "data": {
      "image/png": "[encoded data removed]",
      "text/plain": [
       "<Figure size 432x288 with 1 Axes>"
      ]
     },
     "metadata": {
      "needs_background": "light"
     },
     "output_type": "display_data"
    }
   ],
   "source": [
    "import numpy as np\r\n",
    "import matplotlib.pyplot as plt\r\n",
    "%matplotlib inline\r\n",
    "%run code/plot_xyw.py\r\n",
    "\r\n",
    "x = np.array([[1.0, 1.0], [2.0, -2.0],\r\n",
    "            [-1.0,-1.5],[-2.0, -1.0],\r\n",
    "            [-2.0, 1.0],[1.5, -0.5]])\r\n",
    "X = np.c_[np.ones(len(x)), x] #입력\r\n",
    "y = np.array([1, -1, -1, -1, 1, 1]) #정답 클래스 \r\n",
    "w = np.random.random((X.shape[1])) #초기 가중치\r\n",
    "W = np.array([w])\r\n",
    "epochs = 4\r\n",
    "\r\n",
    "for _ in range(epochs):\r\n",
    "    w = perceptron(X,y,w,eta=0.05, epochs=1)\r\n",
    "    W = np.vstack([W,w])\r\n",
    "plot_xyw(x,y,W, annotate=True)\r\n"
   ]
  },
  {
   "cell_type": "code",
   "execution_count": 204,
   "id": "296e8091",
   "metadata": {},
   "outputs": [],
   "source": [
    "def perceptron (X, y, w = None, eta = 0.1, epochs=5, random_seed=1):\r\n",
    "    if w is None:\r\n",
    "        np.random.seed(random_seed)\r\n",
    "        w = np.random.random((X.shape[1],-1))\r\n",
    "    maxlabel, minlabel = y.max(), y.min()\r\n",
    "    for _ in range(epochs):\r\n",
    "        for xi, yi in zip(X,y):\r\n",
    "            xi = xi.reshape(w.shape)\r\n",
    "            z = np.dot(w.T, xi)\r\n",
    "            yhat = np.where(z > 0.0, maxlabel, minlabel)\r\n",
    "            delta = eta * (yi - yhat) * xi\r\n",
    "            w += delta\r\n",
    "    return w"
   ]
  },
  {
   "cell_type": "code",
   "execution_count": 216,
   "id": "2b5fc747",
   "metadata": {},
   "outputs": [],
   "source": [
    "def perceptronV2 (X, y, w = None, eta = 0.1, epochs=5, random_seed=1):\r\n",
    "    if w is None:\r\n",
    "        np.random.seed(random_seed)\r\n",
    "        w = np.random.random((X.shape[1]))\r\n",
    "    maxlabel, minlabel = y.max(), y.min()\r\n",
    "    for _ in range(epochs):\r\n",
    "        for xi, yi in zip(X,y):\r\n",
    "            xi = xi.reshape(w.shape)\r\n",
    "            z = np.dot(xi, w)\r\n",
    "            yhat = np.where(z > 0.0, maxlabel, minlabel)\r\n",
    "            if yhat != yi:    \r\n",
    "                delta = eta * (yhat - yi) * xi\r\n",
    "                w += delta\r\n",
    "\r\n",
    "    return w"
   ]
  },
  {
   "cell_type": "code",
   "execution_count": 217,
   "id": "8847954b",
   "metadata": {},
   "outputs": [
    {
     "data": {
      "image/png": "[encoded data removed]",
      "text/plain": [
       "<Figure size 432x288 with 1 Axes>"
      ]
     },
     "metadata": {
      "needs_background": "light"
     },
     "output_type": "display_data"
    }
   ],
   "source": [
    "import numpy as np\r\n",
    "import matplotlib.pyplot as plt\r\n",
    "%matplotlib inline\r\n",
    "%run code/plot_xyw.py\r\n",
    "\r\n",
    "x = np.array([[1.0, 1.0], [2.0, -2.0],\r\n",
    "            [-1.0,-1.5],[-0.0, -1.0],\r\n",
    "            [-2.0, 1.0],[1.5, -0.5]])\r\n",
    "X = np.c_[np.ones(len(x)), x] #입력\r\n",
    "y = np.array([1, -1, -1, -1, 1, 1]) #정답 클래스 \r\n",
    "w = np.array([0, 1.0, 0.5])\r\n",
    "w = perceptronV2(X,y,w,eta=0.1,epochs=3)\r\n",
    "\r\n",
    "plot_xyw(X,y,w,X0=True)"
   ]
  },
  {
   "cell_type": "code",
   "execution_count": 199,
   "id": "372a205f",
   "metadata": {},
   "outputs": [
    {
     "data": {
      "text/plain": [
       "(3,)"
      ]
     },
     "execution_count": 199,
     "metadata": {},
     "output_type": "execute_result"
    }
   ],
   "source": [
    "w.shape"
   ]
  },
  {
   "cell_type": "code",
   "execution_count": 168,
   "id": "6a2d80b1",
   "metadata": {},
   "outputs": [
    {
     "data": {
      "text/plain": [
       "array([[0.75014431, 0.98886109, 0.74816565]])"
      ]
     },
     "execution_count": 168,
     "metadata": {},
     "output_type": "execute_result"
    }
   ],
   "source": [
    "W"
   ]
  },
  {
   "cell_type": "code",
   "execution_count": 164,
   "id": "1a5700f7",
   "metadata": {},
   "outputs": [],
   "source": [
    "\r\n",
    "yhat = np.where(z > 0.0, maxlabel, minlabel)"
   ]
  },
  {
   "cell_type": "code",
   "execution_count": 165,
   "id": "90ff3a53",
   "metadata": {},
   "outputs": [
    {
     "data": {
      "text/plain": [
       "array([[1]])"
      ]
     },
     "execution_count": 165,
     "metadata": {},
     "output_type": "execute_result"
    }
   ],
   "source": [
    "yhat"
   ]
  },
  {
   "cell_type": "code",
   "execution_count": 222,
   "id": "4f4b4e6a",
   "metadata": {},
   "outputs": [
    {
     "data": {
      "image/png": "[encoded data removed]",
      "text/plain": [
       "<Figure size 432x288 with 1 Axes>"
      ]
     },
     "metadata": {
      "needs_background": "light"
     },
     "output_type": "display_data"
    }
   ],
   "source": [
    "x = np.array([[1.0, 1.0], [2.0, -2.0],\r\n",
    "            [-1.0,-1.5],[-2.0, -1.0],\r\n",
    "            [-2.0, 1.0],[1.5, -0.5]])\r\n",
    "X = np.c_[np.ones(len(x)),x]\r\n",
    "y = np.array([1, -1, -1, -1, 1, 1])\r\n",
    "w = np.array([0,0.8,1.1])\r\n",
    "plot_xyw(X,y,w,X0=True, annotate = True)\r\n"
   ]
  },
  {
   "cell_type": "code",
   "execution_count": null,
   "id": "b3b8b85a",
   "metadata": {},
   "outputs": [],
   "source": []
  }
 ],
 "metadata": {
  "interpreter": {
   "hash": "1ad7ce947f80e820fb1d9f08fd47555ab73d83cf566083b785f3ff8e68bed4e0"
  },
  "kernelspec": {
   "display_name": "Python 3",
   "language": "python",
   "name": "python3"
  },
  "language_info": {
   "codemirror_mode": {
    "name": "ipython",
    "version": 3
   },
   "file_extension": ".py",
   "mimetype": "text/x-python",
   "name": "python",
   "nbconvert_exporter": "python",
   "pygments_lexer": "ipython3",
   "version": "3.8.8"
  }
 },
 "nbformat": 4,
 "nbformat_minor": 5
}
