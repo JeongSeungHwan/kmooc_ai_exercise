{
 "cells": [
  {
   "cell_type": "code",
   "execution_count": 2,
   "id": "464e7685-eb7f-45e7-955d-5ce4101b7acb",
   "metadata": {},
   "outputs": [],
   "source": [
    "import matplotlib.pyplot as plt\n",
    "%matplotlib inline"
   ]
  },
  {
   "cell_type": "code",
   "execution_count": 3,
   "id": "e52de9d7-daf1-457b-9d82-552a8efe83a4",
   "metadata": {},
   "outputs": [],
   "source": [
    "def mileToKm(x):\n",
    "    \"\"\"x마일을 Km로 변환하여 반환\"\"\"\n",
    "    return 1.61 * x\n",
    "\n",
    "def plotMileToKm(x,y):\n",
    "    \"\"\" x,y의 값들을 그래프로 출력\"\"\"\n",
    "    plt.figure()\n",
    "    plt.plot(x,y)\n",
    "    plt.title(\"Mile to Km\")\n",
    "    plt.xlabel(\"Mile\")\n",
    "    plt.ylabel(\"Km\")\n",
    "    plt.show()"
   ]
  },
  {
   "cell_type": "code",
   "execution_count": null,
   "id": "0deeaf23-6f75-4132-8958-e266778e2d90",
   "metadata": {},
   "outputs": [],
   "source": [
    "for mile in range(0, 5):\n",
    "    print('{}mi:{}km'.format(mile, mileToKm(mile)))"
   ]
  }
 ],
 "metadata": {
  "kernelspec": {
   "display_name": "Python 3",
   "language": "python",
   "name": "python3"
  },
  "language_info": {
   "codemirror_mode": {
    "name": "ipython",
    "version": 3
   },
   "file_extension": ".py",
   "mimetype": "text/x-python",
   "name": "python",
   "nbconvert_exporter": "python",
   "pygments_lexer": "ipython3",
   "version": "3.8.8"
  }
 },
 "nbformat": 4,
 "nbformat_minor": 5
}
