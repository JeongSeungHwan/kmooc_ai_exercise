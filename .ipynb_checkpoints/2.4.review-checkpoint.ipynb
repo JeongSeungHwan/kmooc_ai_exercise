{
 "cells": [
  {
   "cell_type": "code",
   "execution_count": 5,
   "id": "8668eed7-9305-42d1-bd64-48fde9e99850",
   "metadata": {},
   "outputs": [],
   "source": [
    "import numpy as np"
   ]
  },
  {
   "cell_type": "code",
   "execution_count": 6,
   "id": "f9d3f759-4961-4f68-9e0d-76c11f796fdf",
   "metadata": {},
   "outputs": [],
   "source": [
    "alist = [[10,20,30,40],[50,60,70,80]]"
   ]
  },
  {
   "cell_type": "code",
   "execution_count": 7,
   "id": "2967ee2c-f1f6-45e0-870b-721b7de45b11",
   "metadata": {},
   "outputs": [
    {
     "name": "stdout",
     "output_type": "stream",
     "text": [
      "[[10, 20, 30, 40], [50, 60, 70, 80]]\n"
     ]
    }
   ],
   "source": [
    "print(alist)"
   ]
  },
  {
   "cell_type": "code",
   "execution_count": 10,
   "id": "485fdbc1-9f02-4aa9-bfcb-59dfe6eb46b9",
   "metadata": {},
   "outputs": [
    {
     "name": "stdout",
     "output_type": "stream",
     "text": [
      "360\n"
     ]
    }
   ],
   "source": [
    "#배열의 크기가 커질수록 성능이 저하되는 반복문\n",
    "sum = 0\n",
    "for row in alist :\n",
    "    for x in row :\n",
    "        sum += x\n",
    "print(sum)"
   ]
  },
  {
   "cell_type": "code",
   "execution_count": 11,
   "id": "0bf31948-0cd8-45ce-99c2-a8c1fcef6325",
   "metadata": {},
   "outputs": [
    {
     "name": "stdout",
     "output_type": "stream",
     "text": [
      "360\n"
     ]
    }
   ],
   "source": [
    "#sum 함수를 이용해 합계 산출\n",
    "ndarr = np.array(alist)\n",
    "sum = np.sum(ndarr)\n",
    "print(sum)"
   ]
  },
  {
   "cell_type": "code",
   "execution_count": 18,
   "id": "baf5673f-8687-4106-b4dc-a090dae87a8f",
   "metadata": {},
   "outputs": [
    {
     "data": {
      "text/plain": [
       "1000000"
      ]
     },
     "execution_count": 18,
     "metadata": {},
     "output_type": "execute_result"
    }
   ],
   "source": [
    "n = 1000000 #백만\n",
    "w = []\n",
    "x = []\n",
    "for i in range(n):\n",
    "    w.append(i * 0.00001)\n",
    "    x.append(i * 0.00002)\n",
    "\n",
    "w_np = np.array(w)\n",
    "x_np = np.array(x)\n",
    "len(w_np)\n",
    "\n",
    "#100만개의 데이터를 가진 두 리스트 생성"
   ]
  },
  {
   "cell_type": "code",
   "execution_count": 20,
   "id": "eb531f57-f572-4ace-b336-f51d8b4b4602",
   "metadata": {},
   "outputs": [
    {
     "name": "stdout",
     "output_type": "stream",
     "text": [
      "96 ms ± 3.13 ms per loop (mean ± std. dev. of 7 runs, 10 loops each)\n"
     ]
    }
   ],
   "source": [
    "%%timeit\n",
    "total = 0\n",
    "for i in range(n) :\n",
    "    total += w[i] * x[i]"
   ]
  },
  {
   "cell_type": "code",
   "execution_count": 21,
   "id": "b014d406-b9fe-4c7e-9c84-174864144bed",
   "metadata": {},
   "outputs": [
    {
     "name": "stdout",
     "output_type": "stream",
     "text": [
      "199 µs ± 8.5 µs per loop (mean ± std. dev. of 7 runs, 10000 loops each)\n"
     ]
    }
   ],
   "source": [
    "%%timeit\n",
    "total_np = np.dot(w_np, x_np)"
   ]
  },
  {
   "cell_type": "markdown",
   "id": "3ef60cd2-b0f6-45b9-9f26-202f6a0045ce",
   "metadata": {},
   "source": [
    "for문과 numpy의 속도 차이, 밀리초와 마이크로초 차이"
   ]
  },
  {
   "cell_type": "code",
   "execution_count": 22,
   "id": "2a98027c-cc0d-48ee-816f-b5a32cb77612",
   "metadata": {},
   "outputs": [],
   "source": [
    "def pprint(arr) :\n",
    "    print(\"type : {}, size : {}\".format(type(arr), arr.size))\n",
    "    print(\"shape : {}, ndim : {}, dtype : {}\".format(arr.shape, arr.dim, arr.dtype))\n",
    "    print(\"Array's Data : \")\n",
    "    print(arr)"
   ]
  },
  {
   "cell_type": "code",
   "execution_count": 26,
   "id": "b17a3862-5db7-4ac2-89bc-e1c67ff8d58b",
   "metadata": {},
   "outputs": [
    {
     "data": {
      "text/plain": [
       "array([[[ 0,  1,  2],\n",
       "        [ 3,  4,  5],\n",
       "        [ 6,  7,  8],\n",
       "        [ 9, 10, 11]],\n",
       "\n",
       "       [[12, 13, 14],\n",
       "        [15, 16, 17],\n",
       "        [18, 19, 20],\n",
       "        [21, 22, 23]]])"
      ]
     },
     "execution_count": 26,
     "metadata": {},
     "output_type": "execute_result"
    }
   ],
   "source": [
    "np.arange(24).reshape(2,4,3)"
   ]
  },
  {
   "cell_type": "markdown",
   "id": "233b5784-eb5f-4b7f-a6ca-56c181670958",
   "metadata": {},
   "source": [
    "#### inf와 nan 표현"
   ]
  },
  {
   "cell_type": "code",
   "execution_count": 28,
   "id": "77c9f361-f6a1-45e6-aa6f-0cd9409caf9b",
   "metadata": {},
   "outputs": [
    {
     "data": {
      "text/plain": [
       "array([  0.,  inf, -inf,  nan])"
      ]
     },
     "execution_count": 28,
     "metadata": {},
     "output_type": "execute_result"
    }
   ],
   "source": [
    "import warnings\n",
    "warnings.filterwarnings('ignore')\n",
    "\n",
    "np.array([0,1,-1,0]) / np.array([1,0,0,0])"
   ]
  },
  {
   "cell_type": "code",
   "execution_count": 29,
   "id": "95fbd7c9-6ebc-4b47-9c30-2657e6599c90",
   "metadata": {},
   "outputs": [
    {
     "data": {
      "text/plain": [
       "-inf"
      ]
     },
     "execution_count": 29,
     "metadata": {},
     "output_type": "execute_result"
    }
   ],
   "source": [
    "np.log(0)"
   ]
  },
  {
   "cell_type": "code",
   "execution_count": 32,
   "id": "12c1e08d-8f4b-4eed-acf1-5b326c3ddfad",
   "metadata": {},
   "outputs": [
    {
     "data": {
      "text/plain": [
       "0.0"
      ]
     },
     "execution_count": 32,
     "metadata": {},
     "output_type": "execute_result"
    }
   ],
   "source": [
    "np.exp(-np.inf)"
   ]
  },
  {
   "cell_type": "code",
   "execution_count": 43,
   "id": "01b28137-ea28-4d12-8266-b773740cc860",
   "metadata": {},
   "outputs": [
    {
     "data": {
      "text/plain": [
       "[<matplotlib.lines.Line2D at 0x7fd23003b6a0>]"
      ]
     },
     "execution_count": 43,
     "metadata": {},
     "output_type": "execute_result"
    },
    {
     "data": {
      "image/png": "[encoded data removed]",
      "text/plain": [
       "<Figure size 432x288 with 1 Axes>"
      ]
     },
     "metadata": {
      "needs_background": "light"
     },
     "output_type": "display_data"
    }
   ],
   "source": [
    "import matplotlib.pyplot as plt\n",
    "\n",
    "x = np.linspace(0,2)\n",
    "y = np.log(x)\n",
    "plt.grid(True)\n",
    "plt.plot(x, y)"
   ]
  },
  {
   "cell_type": "code",
   "execution_count": 37,
   "id": "c2b1cca0-c2f7-4ced-8788-cca89a99680e",
   "metadata": {},
   "outputs": [
    {
     "data": {
      "text/plain": [
       "[<matplotlib.lines.Line2D at 0x7fd268b591c0>]"
      ]
     },
     "execution_count": 37,
     "metadata": {},
     "output_type": "execute_result"
    },
    {
     "data": {
      "image/png": "[encoded data removed]",
      "text/plain": [
       "<Figure size 432x288 with 1 Axes>"
      ]
     },
     "metadata": {
      "needs_background": "light"
     },
     "output_type": "display_data"
    }
   ],
   "source": [
    "x = np.linspace(0,2)\n",
    "y = np.exp(x)\n",
    "plt.grid(True)\n",
    "plt.plot(x, y)"
   ]
  },
  {
   "cell_type": "markdown",
   "id": "e746df68-df98-45fa-a570-b29b5c208530",
   "metadata": {},
   "source": [
    "#### 배열 생성 기능"
   ]
  },
  {
   "cell_type": "code",
   "execution_count": 48,
   "id": "dcb6bab0-ceae-403f-bd5e-6e42aa94663d",
   "metadata": {},
   "outputs": [
    {
     "name": "stdout",
     "output_type": "stream",
     "text": [
      "[ 0  1  2  3  4  5  6  7  8  9 10 11]\n"
     ]
    }
   ],
   "source": [
    "a = np.arange(12)\n",
    "print(a)"
   ]
  },
  {
   "cell_type": "code",
   "execution_count": 52,
   "id": "7d0ba072-5aae-4668-a750-6e778621d8a7",
   "metadata": {},
   "outputs": [
    {
     "name": "stdout",
     "output_type": "stream",
     "text": [
      "[[ 0  1  2  3]\n",
      " [ 4  5  6  7]\n",
      " [ 8  9 10 11]]\n"
     ]
    }
   ],
   "source": [
    "print(a.reshape(3,4))"
   ]
  },
  {
   "cell_type": "code",
   "execution_count": 50,
   "id": "298f7ff2-6af6-4c05-8420-fe0021c30635",
   "metadata": {},
   "outputs": [
    {
     "name": "stdout",
     "output_type": "stream",
     "text": [
      "[[ 0  1  2  3]\n",
      " [ 4  5  6  7]\n",
      " [ 8  9 10 11]]\n"
     ]
    }
   ],
   "source": [
    "print(a.reshape(3,-1))"
   ]
  },
  {
   "cell_type": "code",
   "execution_count": 51,
   "id": "39edcb9f-5780-4ade-ba16-591b977c4fab",
   "metadata": {},
   "outputs": [
    {
     "data": {
      "text/plain": [
       "array([[1., 1., 1., 1.],\n",
       "       [1., 1., 1., 1.],\n",
       "       [1., 1., 1., 1.]])"
      ]
     },
     "execution_count": 51,
     "metadata": {},
     "output_type": "execute_result"
    }
   ],
   "source": [
    "np.ones((3,4))"
   ]
  },
  {
   "cell_type": "code",
   "execution_count": 53,
   "id": "c1396871-e7a4-41ce-b50a-28cede2cc954",
   "metadata": {},
   "outputs": [
    {
     "data": {
      "text/plain": [
       "array([[0., 0., 0., 0.],\n",
       "       [0., 0., 0., 0.],\n",
       "       [0., 0., 0., 0.]])"
      ]
     },
     "execution_count": 53,
     "metadata": {},
     "output_type": "execute_result"
    }
   ],
   "source": [
    "np.zeros((3,4))"
   ]
  },
  {
   "cell_type": "code",
   "execution_count": 54,
   "id": "f0028a54-e081-4cde-9438-2ad513f1f246",
   "metadata": {},
   "outputs": [
    {
     "data": {
      "text/plain": [
       "array([[1, 1, 1],\n",
       "       [1, 1, 1]], dtype=int32)"
      ]
     },
     "execution_count": 54,
     "metadata": {},
     "output_type": "execute_result"
    }
   ],
   "source": [
    "np.ones((2,3), dtype = 'i')"
   ]
  },
  {
   "cell_type": "code",
   "execution_count": 59,
   "id": "e02b7642-7665-4ada-96c6-539caf630bbd",
   "metadata": {},
   "outputs": [
    {
     "name": "stdout",
     "output_type": "stream",
     "text": [
      "[ 1  3  5  7  9 11 13 15 17 19]\n"
     ]
    },
    {
     "data": {
      "image/png": "[encoded data removed]",
      "text/plain": [
       "<Figure size 432x288 with 1 Axes>"
      ]
     },
     "metadata": {
      "needs_background": "light"
     },
     "output_type": "display_data"
    }
   ],
   "source": [
    "y = np.arange(1,20,2)\n",
    "print(y)\n",
    "plt.plot(y, 'ro--')\n",
    "plt.grid(True)\n",
    "plt.show()\n",
    "\n",
    "#x값이 없으면, 원소의 수가 x값이 된다."
   ]
  },
  {
   "cell_type": "code",
   "execution_count": 61,
   "id": "82d62586-fa66-4f33-b8dd-41757abf9eff",
   "metadata": {},
   "outputs": [
    {
     "data": {
      "text/plain": [
       "<matplotlib.collections.PathCollection at 0x7fd27bd72c10>"
      ]
     },
     "execution_count": 61,
     "metadata": {},
     "output_type": "execute_result"
    },
    {
     "data": {
      "image/png": "[encoded data removed]",
      "text/plain": [
       "<Figure size 432x288 with 1 Axes>"
      ]
     },
     "metadata": {
      "needs_background": "light"
     },
     "output_type": "display_data"
    }
   ],
   "source": [
    "x = np.random.randn(100)\n",
    "y = np.random.randn(100)\n",
    "plt.scatter(x,y,marker = '^', color = 'c')"
   ]
  },
  {
   "cell_type": "code",
   "execution_count": 62,
   "id": "695e95f6-7de6-4d50-a28c-3c18aa76d86c",
   "metadata": {},
   "outputs": [
    {
     "data": {
      "text/plain": [
       "[<matplotlib.lines.Line2D at 0x7fd24d6af4c0>]"
      ]
     },
     "execution_count": 62,
     "metadata": {},
     "output_type": "execute_result"
    },
    {
     "data": {
      "image/png": "[encoded data removed]",
      "text/plain": [
       "<Figure size 432x288 with 1 Axes>"
      ]
     },
     "metadata": {
      "needs_background": "light"
     },
     "output_type": "display_data"
    }
   ],
   "source": [
    "x = np.linspace(0,2*np.pi)\n",
    "y = np.sin(x)\n",
    "plt.plot(x,y)"
   ]
  },
  {
   "cell_type": "code",
   "execution_count": 64,
   "id": "9102c027-3760-4df9-b1d3-2d54e3f82849",
   "metadata": {},
   "outputs": [
    {
     "data": {
      "text/plain": [
       "[<matplotlib.lines.Line2D at 0x7fd2590b05e0>]"
      ]
     },
     "execution_count": 64,
     "metadata": {},
     "output_type": "execute_result"
    },
    {
     "data": {
      "image/png": "[encoded data removed]",
      "text/plain": [
       "<Figure size 432x288 with 1 Axes>"
      ]
     },
     "metadata": {
      "needs_background": "light"
     },
     "output_type": "display_data"
    }
   ],
   "source": [
    "a = np.logspace(0,2)\n",
    "plt.plot(a,'.')"
   ]
  },
  {
   "cell_type": "code",
   "execution_count": 66,
   "id": "bfe5581d-8292-4d76-b193-51a65d3889ee",
   "metadata": {},
   "outputs": [
    {
     "data": {
      "text/plain": [
       "[<matplotlib.lines.Line2D at 0x7fd268c5ac40>]"
      ]
     },
     "execution_count": 66,
     "metadata": {},
     "output_type": "execute_result"
    },
    {
     "data": {
      "image/png": "[encoded data removed]",
      "text/plain": [
       "<Figure size 432x288 with 1 Axes>"
      ]
     },
     "metadata": {
      "needs_background": "light"
     },
     "output_type": "display_data"
    }
   ],
   "source": [
    "x = np.linspace(0,2)\n",
    "y = np.log(x)\n",
    "plt.grid(True)\n",
    "plt.plot(x, y)"
   ]
  },
  {
   "cell_type": "markdown",
   "id": "73a330d5-e2dd-4c73-8578-fdd744a4c0fc",
   "metadata": {},
   "source": [
    "#### 배열 형상변환 2"
   ]
  },
  {
   "cell_type": "code",
   "execution_count": 67,
   "id": "4cadec8e-979c-4e35-9733-9d3c8ed61ca3",
   "metadata": {},
   "outputs": [],
   "source": [
    "a = np.arange(12).reshape(3,4)"
   ]
  },
  {
   "cell_type": "code",
   "execution_count": 70,
   "id": "c657b21b-52d0-4d5c-8c6a-55e35008b3b8",
   "metadata": {},
   "outputs": [
    {
     "name": "stdout",
     "output_type": "stream",
     "text": [
      "[ 0  1  2  3  4  5  6  7  8  9 10 11]\n"
     ]
    }
   ],
   "source": [
    "print(a.ravel())"
   ]
  },
  {
   "cell_type": "code",
   "execution_count": 71,
   "id": "0ddd1c13-5dc9-41a0-abd5-93c2266bd952",
   "metadata": {},
   "outputs": [
    {
     "name": "stdout",
     "output_type": "stream",
     "text": [
      "[ 0  1  2  3  4  5  6  7  8  9 10 11]\n"
     ]
    }
   ],
   "source": [
    "print(a.flatten())"
   ]
  },
  {
   "cell_type": "code",
   "execution_count": 72,
   "id": "a615cc7f-1952-4915-ad30-ff04a98146db",
   "metadata": {},
   "outputs": [
    {
     "name": "stdout",
     "output_type": "stream",
     "text": [
      "(12,)\n",
      "[ 0  1  2  3  4  5  6  7  8  9 10 11]\n"
     ]
    }
   ],
   "source": [
    "a = np.arange(12)\n",
    "print(a.shape)\n",
    "print(a)"
   ]
  },
  {
   "cell_type": "code",
   "execution_count": 73,
   "id": "9ab6c034-47a7-44a7-bc73-411105700fce",
   "metadata": {},
   "outputs": [
    {
     "name": "stdout",
     "output_type": "stream",
     "text": [
      "(1, 12)\n",
      "[[ 0  1  2  3  4  5  6  7  8  9 10 11]]\n"
     ]
    }
   ],
   "source": [
    "a = np.arange(12).reshape(1,12)\n",
    "print(a.shape)\n",
    "print(a)"
   ]
  },
  {
   "cell_type": "markdown",
   "id": "5686ed65-60e2-405a-8ddf-888852f84375",
   "metadata": {},
   "source": [
    "(12,)인 1차원 배열과 (1,12)인 2차원 배열은 데이터는 같지만 엄연히 다른 종류의 객체이다."
   ]
  },
  {
   "cell_type": "code",
   "execution_count": 77,
   "id": "541fd4b7-95e4-4fea-aad0-3a071ac5569a",
   "metadata": {},
   "outputs": [
    {
     "data": {
      "text/plain": [
       "array([ 0,  1,  2,  3,  4,  5,  6,  7,  8,  9, 10, 11])"
      ]
     },
     "execution_count": 77,
     "metadata": {},
     "output_type": "execute_result"
    }
   ],
   "source": [
    "a = np.arange(12)\n",
    "a"
   ]
  },
  {
   "cell_type": "code",
   "execution_count": 80,
   "id": "ad5b7937-b34b-4a72-b98b-71916e0515cb",
   "metadata": {},
   "outputs": [
    {
     "name": "stdout",
     "output_type": "stream",
     "text": [
      "[[ 0]\n",
      " [ 1]\n",
      " [ 2]\n",
      " [ 3]\n",
      " [ 4]\n",
      " [ 5]\n",
      " [ 6]\n",
      " [ 7]\n",
      " [ 8]\n",
      " [ 9]\n",
      " [10]\n",
      " [11]]\n"
     ]
    }
   ],
   "source": [
    "b = a[:,np.newaxis]\n",
    "print(b)\n",
    "#newaxis를 이용해, 데이터는 유지한채 1차원만 증가시킬수있다."
   ]
  },
  {
   "cell_type": "code",
   "execution_count": 90,
   "id": "1912547e-6a91-404b-bdd9-2d5ff87431cb",
   "metadata": {},
   "outputs": [
    {
     "name": "stdout",
     "output_type": "stream",
     "text": [
      "[[[ 0]]\n",
      "\n",
      " [[ 1]]\n",
      "\n",
      " [[ 2]]\n",
      "\n",
      " [[ 3]]\n",
      "\n",
      " [[ 4]]\n",
      "\n",
      " [[ 5]]\n",
      "\n",
      " [[ 6]]\n",
      "\n",
      " [[ 7]]\n",
      "\n",
      " [[ 8]]\n",
      "\n",
      " [[ 9]]\n",
      "\n",
      " [[10]]\n",
      "\n",
      " [[11]]]\n"
     ]
    }
   ],
   "source": [
    "c = b[:,:,np.newaxis]\n",
    "print(c)"
   ]
  },
  {
   "cell_type": "code",
   "execution_count": 89,
   "id": "1096fb08-ec5f-424a-829f-3bda5df42306",
   "metadata": {},
   "outputs": [
    {
     "data": {
      "text/plain": [
       "array([[[[ 0]]],\n",
       "\n",
       "\n",
       "       [[[ 1]]],\n",
       "\n",
       "\n",
       "       [[[ 2]]],\n",
       "\n",
       "\n",
       "       [[[ 3]]],\n",
       "\n",
       "\n",
       "       [[[ 4]]],\n",
       "\n",
       "\n",
       "       [[[ 5]]],\n",
       "\n",
       "\n",
       "       [[[ 6]]],\n",
       "\n",
       "\n",
       "       [[[ 7]]],\n",
       "\n",
       "\n",
       "       [[[ 8]]],\n",
       "\n",
       "\n",
       "       [[[ 9]]],\n",
       "\n",
       "\n",
       "       [[[10]]],\n",
       "\n",
       "\n",
       "       [[[11]]]])"
      ]
     },
     "execution_count": 89,
     "metadata": {},
     "output_type": "execute_result"
    }
   ],
   "source": [
    "x"
   ]
  },
  {
   "cell_type": "code",
   "execution_count": null,
   "id": "42c08710-4821-48ec-9b8c-abcc87fd93fa",
   "metadata": {},
   "outputs": [],
   "source": []
  }
 ],
 "metadata": {
  "kernelspec": {
   "display_name": "Python 3",
   "language": "python",
   "name": "python3"
  },
  "language_info": {
   "codemirror_mode": {
    "name": "ipython",
    "version": 3
   },
   "file_extension": ".py",
   "mimetype": "text/x-python",
   "name": "python",
   "nbconvert_exporter": "python",
   "pygments_lexer": "ipython3",
   "version": "3.8.8"
  }
 },
 "nbformat": 4,
 "nbformat_minor": 5
}
