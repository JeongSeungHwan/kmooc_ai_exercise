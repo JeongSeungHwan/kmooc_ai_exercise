{
 "cells": [
  {
   "cell_type": "markdown",
   "id": "d07a6231-bfbb-4fb6-b966-99bde4cd9dec",
   "metadata": {},
   "source": [
    "# 객체지향 퍼셉트론 구현 "
   ]
  },
  {
   "cell_type": "markdown",
   "id": "3fd9a9dc-24bf-4e4b-8248-95b93a4219a2",
   "metadata": {},
   "source": [
    "## 1. 클래스 구현"
   ]
  },
  {
   "cell_type": "code",
   "execution_count": 56,
   "id": "b8d9f95c-0853-45a3-9f26-efc061fb4df1",
   "metadata": {},
   "outputs": [],
   "source": [
    "class Perceptron :\n",
    "    \"\"\" implements an one-neuron\n",
    "    precceptron which performs a linear\n",
    "    binary classification\"\"\"\n",
    "    def __init__(self, eta=0.1, epochs=10,random_seed=1):\n",
    "        self.eta = eta #self. = 인스턴스 변수, 메소드가 끝나도 클래스의 속성값으로 남음 = 학습과정에 이용\n",
    "        self.epochs = epochs\n",
    "        self.random_seed = random_seed\n",
    "    \n",
    "    def fit(self, X, y, X0 = False):\n",
    "        if X0 == False:\n",
    "            X = np.c_[np.ones(len(y)), X]\n",
    "        np.random.seed(self.random_seed)\n",
    "        self.w = np.random.random(X.shape[1]) # 가중치 (1차원)\n",
    "        \n",
    "        self.maxy, self.miny = y.max(), y.min()\n",
    "        self.cost_ = [] #각 epoch의 손실\n",
    "        self.w_ = np.array(self.w) # 각 epoch의 가중치\n",
    "        \n",
    "        for i in range(self.epochs):\n",
    "            errors = 0 # 지역변수, 메소드가 끝남과 동시에 사라짐\n",
    "            for xi, yi in zip(X,y):\n",
    "                yhat = self.activate(xi)\n",
    "                delta = self.eta * (yi - yhat) * xi\n",
    "                self.w = self.w + delta\n",
    "                if (yi != yhat) : errors += 1\n",
    "            self.cost_.append(errors)\n",
    "            self.w_ = np.vstack([self.w_, self.w])\n",
    "        return self #필수는 아니지만 유용하게 사용 가능\n",
    "    \n",
    "    def net_input(self, X): #순입력 z\n",
    "        if X.shape[0] == self.w.shape[0]:\n",
    "            z = np.dot(self.w.T, X)\n",
    "        else:\n",
    "            z = np.dot(X, self.w[1:]) + self.w[0]\n",
    "        return z\n",
    "    \n",
    "    def activate(self, X) : #활성화 함수\n",
    "        mid = (self.maxy + self.miny) / 2\n",
    "        return np.where(self.net_input(X) > mid, self.maxy, self.miny)\n",
    "    \n",
    "    def predict(self, X):\n",
    "        return self.activate(X)"
   ]
  },
  {
   "cell_type": "markdown",
   "id": "3015aca9-b273-4f71-8dc9-cc0dc51d5c09",
   "metadata": {},
   "source": [
    "## 2. 객체 생성"
   ]
  },
  {
   "cell_type": "code",
   "execution_count": 38,
   "id": "0d9c5807-472f-41f0-b19a-3bb1acdf781c",
   "metadata": {
    "collapsed": true,
    "jupyter": {
     "outputs_hidden": true
    },
    "tags": []
   },
   "outputs": [
    {
     "name": "stdout",
     "output_type": "stream",
     "text": [
      "1.72\t3.12\t1\n",
      "0.31\t1.85\t1\n",
      "1.56\t2.85\t1\n",
      "2.64\t2.41\t1\n",
      "1.23\t2.54\t1\n",
      "1.33\t2.03\t1\n",
      "1.26\t2.68\t1\n",
      "2.58\t1.79\t1\n",
      "2.40\t0.91\t1\n",
      "0.51\t2.44\t1\n"
     ]
    }
   ],
   "source": [
    "!head data/joy_data.txt"
   ]
  },
  {
   "cell_type": "code",
   "execution_count": 39,
   "id": "1b3893d0-37cb-48aa-ad80-b0da147d76b7",
   "metadata": {
    "collapsed": true,
    "jupyter": {
     "outputs_hidden": true
    },
    "tags": []
   },
   "outputs": [
    {
     "name": "stdout",
     "output_type": "stream",
     "text": [
      "-3.02\t-0.44\t-1\n",
      "-1.05\t-3.85\t-1\n",
      "0.28\t-1.25\t-1\n",
      "-0.05\t-1.95\t-1\n",
      "-3.20\t-0.22\t-1\n",
      "-2.26\t0.01\t-1\n",
      "-1.41\t-0.23\t-1\n",
      "-1.20\t-0.71\t-1\n",
      "-1.69\t0.70\t-1\n",
      "-1.52\t-1.14\t-1\n"
     ]
    }
   ],
   "source": [
    "!tail data/joy_data.txt"
   ]
  },
  {
   "cell_type": "code",
   "execution_count": 40,
   "id": "2e59ddd5-7c2f-45a2-b6dd-6897eef76b14",
   "metadata": {
    "tags": []
   },
   "outputs": [],
   "source": [
    "import joy"
   ]
  },
  {
   "cell_type": "code",
   "execution_count": 41,
   "id": "58b4b36f-9305-465c-8fc9-46566ebb955a",
   "metadata": {
    "collapsed": true,
    "jupyter": {
     "outputs_hidden": true
    },
    "tags": []
   },
   "outputs": [
    {
     "name": "stdout",
     "output_type": "stream",
     "text": [
      "X.shape = (100, 2), y.shape=(100,)\n",
      "[[1.72 3.12]\n",
      " [0.31 1.85]\n",
      " [1.56 2.85]\n",
      " [2.64 2.41]\n",
      " [1.23 2.54]] [1 1 1 1 1]\n",
      "[[-2.26  0.01]\n",
      " [-1.41 -0.23]\n",
      " [-1.2  -0.71]\n",
      " [-1.69  0.7 ]\n",
      " [-1.52 -1.14]] [-1 -1 -1 -1 -1]\n"
     ]
    }
   ],
   "source": [
    "X, y = joy.joy_data()\n",
    "print('X.shape = {}, y.shape={}'.format(X.shape, y.shape))\n",
    "print(X[:5], y[:5])\n",
    "print(X[-5:], y[-5:])"
   ]
  },
  {
   "cell_type": "markdown",
   "id": "babe1ae8-58a2-475e-9f59-9802f75b377d",
   "metadata": {},
   "source": [
    "데이터가 정렬된 상태이므로 shuffle 필요"
   ]
  },
  {
   "cell_type": "markdown",
   "id": "b2c0744a-3a66-46a0-a0e4-dc60773f34f4",
   "metadata": {},
   "source": [
    "### 2.1. 데이터 표준화 및 셔플"
   ]
  },
  {
   "cell_type": "code",
   "execution_count": 42,
   "id": "2e114b40-ec96-4ead-b930-862b8b91285e",
   "metadata": {
    "tags": []
   },
   "outputs": [
    {
     "name": "stdout",
     "output_type": "stream",
     "text": [
      "[[-1.28409207 -1.15278304]\n",
      " [-1.43790346 -0.83714568]\n",
      " [ 0.41249418  0.10034442]\n",
      " [-1.37731109 -1.63330561]\n",
      " [-0.0769057  -1.03500791]] [-1 -1  1 -1 -1]\n"
     ]
    }
   ],
   "source": [
    "X, y = joy.joy_data(standardized=True, shuffled = True)\n",
    "print(X[:5], y[:5])"
   ]
  },
  {
   "cell_type": "markdown",
   "id": "50e40221-1404-40f3-83a5-efe21ee0f908",
   "metadata": {},
   "source": [
    "### 2.2. 퍼셉트론 객체 생성"
   ]
  },
  {
   "cell_type": "code",
   "execution_count": 58,
   "id": "23f21eb0-cc98-4060-9999-3e378fa597a2",
   "metadata": {},
   "outputs": [],
   "source": [
    "ppn = Perceptron(eta = 0.1, epochs=10)"
   ]
  },
  {
   "cell_type": "markdown",
   "id": "50ebd7af-d0c4-490e-908a-7df0e54bf88f",
   "metadata": {},
   "source": [
    "### 2.3. 학습"
   ]
  },
  {
   "cell_type": "code",
   "execution_count": 60,
   "id": "ccb2542b-1e68-4c20-9cb7-f1a8190e5d3f",
   "metadata": {},
   "outputs": [
    {
     "data": {
      "image/png": "[encoded data removed]",
      "text/plain": [
       "<Figure size 432x288 with 1 Axes>"
      ]
     },
     "metadata": {
      "needs_background": "light"
     },
     "output_type": "display_data"
    }
   ],
   "source": [
    "import numpy as np\n",
    "ppn.fit(X,y)\n",
    "joy.plot_xyw(X, y, ppn.w)"
   ]
  },
  {
   "cell_type": "markdown",
   "id": "7e7ee18c-a87a-4914-8dc9-d2f1c973b944",
   "metadata": {},
   "source": [
    "### 2.4. 다른데이터 적용 "
   ]
  },
  {
   "cell_type": "code",
   "execution_count": 61,
   "id": "0dddc644-d9b4-428d-938d-c8d0ad3d70dc",
   "metadata": {},
   "outputs": [
    {
     "data": {
      "image/png": "[encoded data removed]",
      "text/plain": [
       "<Figure size 432x288 with 1 Axes>"
      ]
     },
     "metadata": {
      "needs_background": "light"
     },
     "output_type": "display_data"
    }
   ],
   "source": [
    "X, y = joy.joy_Ndata()\n",
    "ppn.fit(X, y)\n",
    "joy.plot_xyw(X, y, ppn.w)"
   ]
  },
  {
   "cell_type": "code",
   "execution_count": 62,
   "id": "50c0c85e-68a0-4ceb-bd16-07ea59bf315b",
   "metadata": {},
   "outputs": [
    {
     "data": {
      "image/png": "[encoded data removed]",
      "text/plain": [
       "<Figure size 432x288 with 1 Axes>"
      ]
     },
     "metadata": {
      "needs_background": "light"
     },
     "output_type": "display_data"
    }
   ],
   "source": [
    "X, y = joy.toy_data()\n",
    "ppn.fit(X, y)\n",
    "joy.plot_xyw(X, y, ppn.w)"
   ]
  },
  {
   "cell_type": "code",
   "execution_count": null,
   "id": "6f7b81bf-9386-4f11-a615-ac86dfd334f1",
   "metadata": {},
   "outputs": [],
   "source": []
  }
 ],
 "metadata": {
  "kernelspec": {
   "display_name": "Python 3",
   "language": "python",
   "name": "python3"
  },
  "language_info": {
   "codemirror_mode": {
    "name": "ipython",
    "version": 3
   },
   "file_extension": ".py",
   "mimetype": "text/x-python",
   "name": "python",
   "nbconvert_exporter": "python",
   "pygments_lexer": "ipython3",
   "version": "3.8.8"
  }
 },
 "nbformat": 4,
 "nbformat_minor": 5
}
