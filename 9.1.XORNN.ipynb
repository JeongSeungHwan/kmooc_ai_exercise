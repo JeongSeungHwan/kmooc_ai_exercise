{
 "cells": [
  {
   "cell_type": "code",
   "execution_count": 1,
   "id": "2bd00f9d-c4a4-4e54-a1b0-521eb4339c7d",
   "metadata": {},
   "outputs": [
    {
     "name": "stdout",
     "output_type": "stream",
     "text": [
      "X.shape=(2, 4), y.shape(1, 4)\n",
      "[[0 0 0 1]\n",
      " [0 1 0 1]]\n",
      "[[0 1 1 0]]\n"
     ]
    }
   ],
   "source": [
    "import numpy as np\n",
    "X = np.array([[0,0,0,1], [0,1,0,1]])\n",
    "y = np.array([[0,1,1,0]])\n",
    "print('X.shape={}, y.shape{}'.format(X.shape, y.shape))\n",
    "print(X)\n",
    "print(y)"
   ]
  },
  {
   "cell_type": "code",
   "execution_count": 2,
   "id": "482cd2da-b479-4c45-9792-0165bdf5c5ce",
   "metadata": {},
   "outputs": [],
   "source": [
    "n_x = X.shape[0]\n",
    "n_y = y.shape[0]\n",
    "n_h = 3\n",
    "np.random.seed(1)\n",
    "W1 = 2*np.random.random((n_h, n_x)) - 1\n",
    "W2 = 2*np.random.random((n_y, n_h)) - 1"
   ]
  },
  {
   "cell_type": "code",
   "execution_count": 3,
   "id": "a6e34d67-59ab-43f5-99c2-d5c7971e2909",
   "metadata": {},
   "outputs": [
    {
     "name": "stdout",
     "output_type": "stream",
     "text": [
      "W1 : [[-0.16595599  0.44064899]\n",
      " [-0.99977125 -0.39533485]\n",
      " [-0.70648822 -0.81532281]]\n",
      "W2 : [[-0.62747958 -0.30887855 -0.20646505]]\n"
     ]
    }
   ],
   "source": [
    "print('W1 : {}'.format(W1))\n",
    "print('W2 : {}'.format(W2))"
   ]
  },
  {
   "cell_type": "code",
   "execution_count": 11,
   "id": "e3690fa9-a9c6-42ed-bdab-2dca1fcb75cc",
   "metadata": {},
   "outputs": [],
   "source": [
    "class NeuralNetwork():\n",
    "    \"\"\"XOR NN\n",
    "    \"\"\"\n",
    "    def __init__(self, net_arch, eta=0.1, epochs=10000, random_seed=1):\n",
    "        self.layers = len(net_arch)\n",
    "        self.net_arch = net_arch #network architect\n",
    "        self.eta = eta\n",
    "        self.epochs = epochs\n",
    "        self.random_seed = random_seed\n",
    "        \n",
    "    def g(self, x):\n",
    "        \"\"\"sigmoid\"\"\"\n",
    "        return 1 / (1  + np.exp(-x))\n",
    "    \n",
    "    def g_prime(self, x):\n",
    "        \"\"\"활성화함수 미분\"\"\"\n",
    "        return self.g(x) * (1 - self.g(x))\n",
    "    \n",
    "    def fit(self,x,y):\n",
    "        np.random.seed(self.random_seed)\n",
    "        W1_shape = (self.net_arch[1], self.net_arch[0])\n",
    "        W2_shape = (self.net_arch[2], self.net_arch[1])\n",
    "        self.W1 = 2*np.random.random(W1_shape) - 1\n",
    "        self.W2 = 2*np.random.random(W2_shape) - 1\n",
    "        self.cost_ = []\n",
    "        \n",
    "        for _ in range(self.epochs):\n",
    "            A0 = x\n",
    "            z1 = np.dot(self.W1, A0)\n",
    "            A1 = self.g(z1)\n",
    "            z2 = np.dot(self.W2, A1)\n",
    "            A2 = self.g(z2)\n",
    "\n",
    "            E2 = y - A2\n",
    "            E1 = np.dot(self.W2.T, E2)\n",
    "\n",
    "            dz2 = E2 * self.g_prime(z2)\n",
    "            dz1 = E1 * self.g_prime(z1)\n",
    "\n",
    "            self.W2 += np.dot(dz2, A1.T)\n",
    "            self.W1 += np.dot(dz1, A0.T)\n",
    "            self.cost_.append(np.sqrt(np.sum(E2 * E2)))\n",
    "        \n",
    "        return self\n",
    "    \n",
    "    def net_input(self, x):\n",
    "        if x.shape[0] == self.w.shape[0]:\n",
    "            return np.dot(x,self.w)\n",
    "        else :\n",
    "            return np.dot(x, self.w[1:]) + self.w[0]\n",
    "        \n",
    "    def predict(self, x):\n",
    "        z1 = np.dot(self.W1, x)\n",
    "        A1 = self.g(z1)\n",
    "        z2 = np.dot(self.W2, A1)\n",
    "        A2 = self.g(z2)\n",
    "        \n",
    "        return A2"
   ]
  },
  {
   "cell_type": "code",
   "execution_count": 12,
   "id": "edb78fa4-1f98-4993-b508-e83d8f5cd967",
   "metadata": {},
   "outputs": [
    {
     "data": {
      "text/plain": [
       "<__main__.NeuralNetwork at 0x7fe6e8e70f70>"
      ]
     },
     "execution_count": 12,
     "metadata": {},
     "output_type": "execute_result"
    }
   ],
   "source": [
    "nn = NeuralNetwork(net_arch=[2,3,1], epochs=1000)\n",
    "X = np.array([[0,0,1,1],\n",
    "              [0,1,0,1]])\n",
    "y = np.array([0,1,1,0])\n",
    "nn.fit(X, y)"
   ]
  },
  {
   "cell_type": "code",
   "execution_count": 16,
   "id": "5713d0ca-ad30-4d7b-8f62-7d3adc57adb3",
   "metadata": {},
   "outputs": [
    {
     "name": "stdout",
     "output_type": "stream",
     "text": [
      "[0 0] [0.048]\n",
      "[0 1] [0.955]\n",
      "[1 0] [0.499]\n",
      "[1 1] [0.501]\n"
     ]
    }
   ],
   "source": [
    "A2 = nn.predict(X)\n",
    "for x, yhat in zip(X.T, A2.T):\n",
    "    print(x, np.round(yhat,3))"
   ]
  },
  {
   "cell_type": "code",
   "execution_count": 18,
   "id": "e7729f33-95bc-4cc2-8040-4f1efb6c278a",
   "metadata": {},
   "outputs": [
    {
     "data": {
      "image/png": "[encoded data removed]",
      "text/plain": [
       "<Figure size 432x288 with 1 Axes>"
      ]
     },
     "metadata": {
      "needs_background": "light"
     },
     "output_type": "display_data"
    }
   ],
   "source": [
    "import joy\n",
    "import matplotlib.pyplot as plt\n",
    "joy.plot_decision_regions(X.T, y, lambda z : nn.predict(z.T))\n",
    "\n",
    "plt.xlabel('x-axis')\n",
    "plt.ylabel('y-axis')\n",
    "plt.legend(loc='best')\n",
    "plt.show()"
   ]
  },
  {
   "cell_type": "code",
   "execution_count": 20,
   "id": "7f176670-d46c-457b-a12e-58ab34f51ac7",
   "metadata": {},
   "outputs": [
    {
     "data": {
      "image/png": "[encoded data removed]",
      "text/plain": [
       "<Figure size 432x288 with 1 Axes>"
      ]
     },
     "metadata": {
      "needs_background": "light"
     },
     "output_type": "display_data"
    }
   ],
   "source": [
    "plt.plot(range(len(nn.cost_)), nn.cost_, marker='o')\n",
    "plt.xlabel('Epochs')\n",
    "plt.ylabel('Error Squared Sum')\n",
    "plt.show()"
   ]
  },
  {
   "cell_type": "code",
   "execution_count": 24,
   "id": "a5726b7b-54ff-443b-92ca-b1574d81ef55",
   "metadata": {},
   "outputs": [],
   "source": [
    "nn241 = NeuralNetwork(net_arch=[2,4,1], epochs=1000)"
   ]
  },
  {
   "cell_type": "code",
   "execution_count": 25,
   "id": "b0683811-a54c-42ab-9f1f-4ba8046bfd5d",
   "metadata": {},
   "outputs": [
    {
     "data": {
      "text/plain": [
       "<__main__.NeuralNetwork at 0x7fe71a8dd970>"
      ]
     },
     "execution_count": 25,
     "metadata": {},
     "output_type": "execute_result"
    }
   ],
   "source": [
    "nn241.fit(X,y)"
   ]
  },
  {
   "cell_type": "code",
   "execution_count": 26,
   "id": "8b211172-387d-4fc0-9b36-1d6b3c544a06",
   "metadata": {},
   "outputs": [
    {
     "name": "stdout",
     "output_type": "stream",
     "text": [
      "[0 0] [0.077]\n",
      "[0 1] [0.935]\n",
      "[1 0] [0.94]\n",
      "[1 1] [0.043]\n"
     ]
    }
   ],
   "source": [
    "A2 = nn241.predict(X)\n",
    "for x, yhat in zip(X.T, A2.T):\n",
    "    print(x, np.round(yhat,3))"
   ]
  },
  {
   "cell_type": "code",
   "execution_count": 27,
   "id": "b9103180-80a7-4add-8a37-338b2fc86633",
   "metadata": {},
   "outputs": [
    {
     "data": {
      "image/png": "[encoded data removed]",
      "text/plain": [
       "<Figure size 432x288 with 1 Axes>"
      ]
     },
     "metadata": {
      "needs_background": "light"
     },
     "output_type": "display_data"
    }
   ],
   "source": [
    "plt.plot(range(len(nn241.cost_)), nn241.cost_, marker='o')\n",
    "plt.xlabel('Epochs')\n",
    "plt.ylabel('Error Squared Sum')\n",
    "plt.show()"
   ]
  },
  {
   "cell_type": "code",
   "execution_count": null,
   "id": "1d7f2018-982f-4a0d-b6f4-623f73e3723e",
   "metadata": {},
   "outputs": [],
   "source": []
  }
 ],
 "metadata": {
  "interpreter": {
   "hash": "2ebf49d0ad9e99792f999771a5c0a797203d9377bf5351608256283ba21db764"
  },
  "kernelspec": {
   "display_name": "base_env",
   "language": "python",
   "name": "python3"
  },
  "language_info": {
   "codemirror_mode": {
    "name": "ipython",
    "version": 3
   },
   "file_extension": ".py",
   "mimetype": "text/x-python",
   "name": "python",
   "nbconvert_exporter": "python",
   "pygments_lexer": "ipython3",
   "version": "3.8.12"
  }
 },
 "nbformat": 4,
 "nbformat_minor": 5
}
