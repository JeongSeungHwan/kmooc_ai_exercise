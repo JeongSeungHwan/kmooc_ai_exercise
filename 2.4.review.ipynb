{
 "cells": [
  {
   "cell_type": "code",
   "execution_count": 5,
   "id": "8668eed7-9305-42d1-bd64-48fde9e99850",
   "metadata": {},
   "outputs": [],
   "source": [
    "import numpy as np"
   ]
  },
  {
   "cell_type": "code",
   "execution_count": 6,
   "id": "f9d3f759-4961-4f68-9e0d-76c11f796fdf",
   "metadata": {},
   "outputs": [],
   "source": [
    "alist = [[10,20,30,40],[50,60,70,80]]"
   ]
  },
  {
   "cell_type": "code",
   "execution_count": 7,
   "id": "2967ee2c-f1f6-45e0-870b-721b7de45b11",
   "metadata": {},
   "outputs": [
    {
     "name": "stdout",
     "output_type": "stream",
     "text": [
      "[[10, 20, 30, 40], [50, 60, 70, 80]]\n"
     ]
    }
   ],
   "source": [
    "print(alist)"
   ]
  },
  {
   "cell_type": "code",
   "execution_count": 10,
   "id": "485fdbc1-9f02-4aa9-bfcb-59dfe6eb46b9",
   "metadata": {},
   "outputs": [
    {
     "name": "stdout",
     "output_type": "stream",
     "text": [
      "360\n"
     ]
    }
   ],
   "source": [
    "#배열의 크기가 커질수록 성능이 저하되는 반복문\n",
    "sum = 0\n",
    "for row in alist :\n",
    "    for x in row :\n",
    "        sum += x\n",
    "print(sum)"
   ]
  },
  {
   "cell_type": "code",
   "execution_count": 11,
   "id": "0bf31948-0cd8-45ce-99c2-a8c1fcef6325",
   "metadata": {},
   "outputs": [
    {
     "name": "stdout",
     "output_type": "stream",
     "text": [
      "360\n"
     ]
    }
   ],
   "source": [
    "#sum 함수를 이용해 합계 산출\n",
    "ndarr = np.array(alist)\n",
    "sum = np.sum(ndarr)\n",
    "print(sum)"
   ]
  },
  {
   "cell_type": "code",
   "execution_count": 18,
   "id": "baf5673f-8687-4106-b4dc-a090dae87a8f",
   "metadata": {},
   "outputs": [
    {
     "data": {
      "text/plain": [
       "1000000"
      ]
     },
     "execution_count": 18,
     "metadata": {},
     "output_type": "execute_result"
    }
   ],
   "source": [
    "n = 1000000 #백만\n",
    "w = []\n",
    "x = []\n",
    "for i in range(n):\n",
    "    w.append(i * 0.00001)\n",
    "    x.append(i * 0.00002)\n",
    "\n",
    "w_np = np.array(w)\n",
    "x_np = np.array(x)\n",
    "len(w_np)\n",
    "\n",
    "#100만개의 데이터를 가진 두 리스트 생성"
   ]
  },
  {
   "cell_type": "code",
   "execution_count": 20,
   "id": "eb531f57-f572-4ace-b336-f51d8b4b4602",
   "metadata": {},
   "outputs": [
    {
     "name": "stdout",
     "output_type": "stream",
     "text": [
      "96 ms ± 3.13 ms per loop (mean ± std. dev. of 7 runs, 10 loops each)\n"
     ]
    }
   ],
   "source": [
    "%%timeit\n",
    "total = 0\n",
    "for i in range(n) :\n",
    "    total += w[i] * x[i]"
   ]
  },
  {
   "cell_type": "code",
   "execution_count": 21,
   "id": "b014d406-b9fe-4c7e-9c84-174864144bed",
   "metadata": {},
   "outputs": [
    {
     "name": "stdout",
     "output_type": "stream",
     "text": [
      "199 µs ± 8.5 µs per loop (mean ± std. dev. of 7 runs, 10000 loops each)\n"
     ]
    }
   ],
   "source": [
    "%%timeit\n",
    "total_np = np.dot(w_np, x_np)"
   ]
  },
  {
   "cell_type": "markdown",
   "id": "3ef60cd2-b0f6-45b9-9f26-202f6a0045ce",
   "metadata": {},
   "source": [
    "for문과 numpy의 속도 차이, 밀리초와 마이크로초 차이"
   ]
  },
  {
   "cell_type": "code",
   "execution_count": 22,
   "id": "2a98027c-cc0d-48ee-816f-b5a32cb77612",
   "metadata": {},
   "outputs": [],
   "source": [
    "def pprint(arr) :\n",
    "    print(\"type : {}, size : {}\".format(type(arr), arr.size))\n",
    "    print(\"shape : {}, ndim : {}, dtype : {}\".format(arr.shape, arr.dim, arr.dtype))\n",
    "    print(\"Array's Data : \")\n",
    "    print(arr)"
   ]
  },
  {
   "cell_type": "code",
   "execution_count": 26,
   "id": "b17a3862-5db7-4ac2-89bc-e1c67ff8d58b",
   "metadata": {},
   "outputs": [
    {
     "data": {
      "text/plain": [
       "array([[[ 0,  1,  2],\n",
       "        [ 3,  4,  5],\n",
       "        [ 6,  7,  8],\n",
       "        [ 9, 10, 11]],\n",
       "\n",
       "       [[12, 13, 14],\n",
       "        [15, 16, 17],\n",
       "        [18, 19, 20],\n",
       "        [21, 22, 23]]])"
      ]
     },
     "execution_count": 26,
     "metadata": {},
     "output_type": "execute_result"
    }
   ],
   "source": [
    "np.arange(24).reshape(2,4,3)"
   ]
  },
  {
   "cell_type": "markdown",
   "id": "233b5784-eb5f-4b7f-a6ca-56c181670958",
   "metadata": {},
   "source": [
    "#### inf와 nan 표현"
   ]
  },
  {
   "cell_type": "code",
   "execution_count": 28,
   "id": "77c9f361-f6a1-45e6-aa6f-0cd9409caf9b",
   "metadata": {},
   "outputs": [
    {
     "data": {
      "text/plain": [
       "array([  0.,  inf, -inf,  nan])"
      ]
     },
     "execution_count": 28,
     "metadata": {},
     "output_type": "execute_result"
    }
   ],
   "source": [
    "import warnings\n",
    "warnings.filterwarnings('ignore')\n",
    "\n",
    "np.array([0,1,-1,0]) / np.array([1,0,0,0])"
   ]
  },
  {
   "cell_type": "code",
   "execution_count": 29,
   "id": "95fbd7c9-6ebc-4b47-9c30-2657e6599c90",
   "metadata": {},
   "outputs": [
    {
     "data": {
      "text/plain": [
       "-inf"
      ]
     },
     "execution_count": 29,
     "metadata": {},
     "output_type": "execute_result"
    }
   ],
   "source": [
    "np.log(0)"
   ]
  },
  {
   "cell_type": "code",
   "execution_count": 32,
   "id": "12c1e08d-8f4b-4eed-acf1-5b326c3ddfad",
   "metadata": {},
   "outputs": [
    {
     "data": {
      "text/plain": [
       "0.0"
      ]
     },
     "execution_count": 32,
     "metadata": {},
     "output_type": "execute_result"
    }
   ],
   "source": [
    "np.exp(-np.inf)"
   ]
  },
  {
   "cell_type": "code",
   "execution_count": 43,
   "id": "01b28137-ea28-4d12-8266-b773740cc860",
   "metadata": {},
   "outputs": [
    {
     "data": {
      "text/plain": [
       "[<matplotlib.lines.Line2D at 0x7fd23003b6a0>]"
      ]
     },
     "execution_count": 43,
     "metadata": {},
     "output_type": "execute_result"
    },
    {
     "data": {
      "image/png": "[encoded data removed]",
      "text/plain": [
       "<Figure size 432x288 with 1 Axes>"
      ]
     },
     "metadata": {
      "needs_background": "light"
     },
     "output_type": "display_data"
    }
   ],
   "source": [
    "import matplotlib.pyplot as plt\n",
    "\n",
    "x = np.linspace(0,2)\n",
    "y = np.log(x)\n",
    "plt.grid(True)\n",
    "plt.plot(x, y)"
   ]
  },
  {
   "cell_type": "code",
   "execution_count": 37,
   "id": "c2b1cca0-c2f7-4ced-8788-cca89a99680e",
   "metadata": {},
   "outputs": [
    {
     "data": {
      "text/plain": [
       "[<matplotlib.lines.Line2D at 0x7fd268b591c0>]"
      ]
     },
     "execution_count": 37,
     "metadata": {},
     "output_type": "execute_result"
    },
    {
     "data": {
      "image/png": "[encoded data removed]",
      "text/plain": [
       "<Figure size 432x288 with 1 Axes>"
      ]
     },
     "metadata": {
      "needs_background": "light"
     },
     "output_type": "display_data"
    }
   ],
   "source": [
    "x = np.linspace(0,2)\n",
    "y = np.exp(x)\n",
    "plt.grid(True)\n",
    "plt.plot(x, y)"
   ]
  },
  {
   "cell_type": "markdown",
   "id": "e746df68-df98-45fa-a570-b29b5c208530",
   "metadata": {},
   "source": [
    "#### 배열 생성 기능"
   ]
  },
  {
   "cell_type": "code",
   "execution_count": 48,
   "id": "dcb6bab0-ceae-403f-bd5e-6e42aa94663d",
   "metadata": {},
   "outputs": [
    {
     "name": "stdout",
     "output_type": "stream",
     "text": [
      "[ 0  1  2  3  4  5  6  7  8  9 10 11]\n"
     ]
    }
   ],
   "source": [
    "a = np.arange(12)\n",
    "print(a)"
   ]
  },
  {
   "cell_type": "code",
   "execution_count": 52,
   "id": "7d0ba072-5aae-4668-a750-6e778621d8a7",
   "metadata": {},
   "outputs": [
    {
     "name": "stdout",
     "output_type": "stream",
     "text": [
      "[[ 0  1  2  3]\n",
      " [ 4  5  6  7]\n",
      " [ 8  9 10 11]]\n"
     ]
    }
   ],
   "source": [
    "print(a.reshape(3,4))"
   ]
  },
  {
   "cell_type": "code",
   "execution_count": 50,
   "id": "298f7ff2-6af6-4c05-8420-fe0021c30635",
   "metadata": {},
   "outputs": [
    {
     "name": "stdout",
     "output_type": "stream",
     "text": [
      "[[ 0  1  2  3]\n",
      " [ 4  5  6  7]\n",
      " [ 8  9 10 11]]\n"
     ]
    }
   ],
   "source": [
    "print(a.reshape(3,-1))"
   ]
  },
  {
   "cell_type": "code",
   "execution_count": 51,
   "id": "39edcb9f-5780-4ade-ba16-591b977c4fab",
   "metadata": {},
   "outputs": [
    {
     "data": {
      "text/plain": [
       "array([[1., 1., 1., 1.],\n",
       "       [1., 1., 1., 1.],\n",
       "       [1., 1., 1., 1.]])"
      ]
     },
     "execution_count": 51,
     "metadata": {},
     "output_type": "execute_result"
    }
   ],
   "source": [
    "np.ones((3,4))"
   ]
  },
  {
   "cell_type": "code",
   "execution_count": 53,
   "id": "c1396871-e7a4-41ce-b50a-28cede2cc954",
   "metadata": {},
   "outputs": [
    {
     "data": {
      "text/plain": [
       "array([[0., 0., 0., 0.],\n",
       "       [0., 0., 0., 0.],\n",
       "       [0., 0., 0., 0.]])"
      ]
     },
     "execution_count": 53,
     "metadata": {},
     "output_type": "execute_result"
    }
   ],
   "source": [
    "np.zeros((3,4))"
   ]
  },
  {
   "cell_type": "code",
   "execution_count": 54,
   "id": "f0028a54-e081-4cde-9438-2ad513f1f246",
   "metadata": {},
   "outputs": [
    {
     "data": {
      "text/plain": [
       "array([[1, 1, 1],\n",
       "       [1, 1, 1]], dtype=int32)"
      ]
     },
     "execution_count": 54,
     "metadata": {},
     "output_type": "execute_result"
    }
   ],
   "source": [
    "np.ones((2,3), dtype = 'i')"
   ]
  },
  {
   "cell_type": "code",
   "execution_count": 59,
   "id": "e02b7642-7665-4ada-96c6-539caf630bbd",
   "metadata": {},
   "outputs": [
    {
     "name": "stdout",
     "output_type": "stream",
     "text": [
      "[ 1  3  5  7  9 11 13 15 17 19]\n"
     ]
    },
    {
     "data": {
      "image/png": "[encoded data removed]",
      "text/plain": [
       "<Figure size 432x288 with 1 Axes>"
      ]
     },
     "metadata": {
      "needs_background": "light"
     },
     "output_type": "display_data"
    }
   ],
   "source": [
    "y = np.arange(1,20,2)\n",
    "print(y)\n",
    "plt.plot(y, 'ro--')\n",
    "plt.grid(True)\n",
    "plt.show()\n",
    "\n",
    "#x값이 없으면, 원소의 수가 x값이 된다."
   ]
  },
  {
   "cell_type": "code",
   "execution_count": 61,
   "id": "82d62586-fa66-4f33-b8dd-41757abf9eff",
   "metadata": {},
   "outputs": [
    {
     "data": {
      "text/plain": [
       "<matplotlib.collections.PathCollection at 0x7fd27bd72c10>"
      ]
     },
     "execution_count": 61,
     "metadata": {},
     "output_type": "execute_result"
    },
    {
     "data": {
      "image/png": "[encoded data removed]",
      "text/plain": [
       "<Figure size 432x288 with 1 Axes>"
      ]
     },
     "metadata": {
      "needs_background": "light"
     },
     "output_type": "display_data"
    }
   ],
   "source": [
    "x = np.random.randn(100)\n",
    "y = np.random.randn(100)\n",
    "plt.scatter(x,y,marker = '^', color = 'c')"
   ]
  },
  {
   "cell_type": "code",
   "execution_count": 62,
   "id": "695e95f6-7de6-4d50-a28c-3c18aa76d86c",
   "metadata": {},
   "outputs": [
    {
     "data": {
      "text/plain": [
       "[<matplotlib.lines.Line2D at 0x7fd24d6af4c0>]"
      ]
     },
     "execution_count": 62,
     "metadata": {},
     "output_type": "execute_result"
    },
    {
     "data": {
      "image/png": "[encoded data removed]",
      "text/plain": [
       "<Figure size 432x288 with 1 Axes>"
      ]
     },
     "metadata": {
      "needs_background": "light"
     },
     "output_type": "display_data"
    }
   ],
   "source": [
    "x = np.linspace(0,2*np.pi)\n",
    "y = np.sin(x)\n",
    "plt.plot(x,y)"
   ]
  },
  {
   "cell_type": "code",
   "execution_count": 64,
   "id": "9102c027-3760-4df9-b1d3-2d54e3f82849",
   "metadata": {},
   "outputs": [
    {
     "data": {
      "text/plain": [
       "[<matplotlib.lines.Line2D at 0x7fd2590b05e0>]"
      ]
     },
     "execution_count": 64,
     "metadata": {},
     "output_type": "execute_result"
    },
    {
     "data": {
      "image/png": "[encoded data removed]",
      "text/plain": [
       "<Figure size 432x288 with 1 Axes>"
      ]
     },
     "metadata": {
      "needs_background": "light"
     },
     "output_type": "display_data"
    }
   ],
   "source": [
    "a = np.logspace(0,2)\n",
    "plt.plot(a,'.')"
   ]
  },
  {
   "cell_type": "code",
   "execution_count": 66,
   "id": "bfe5581d-8292-4d76-b193-51a65d3889ee",
   "metadata": {},
   "outputs": [
    {
     "data": {
      "text/plain": [
       "[<matplotlib.lines.Line2D at 0x7fd268c5ac40>]"
      ]
     },
     "execution_count": 66,
     "metadata": {},
     "output_type": "execute_result"
    },
    {
     "data": {
      "image/png": "[encoded data removed]",
      "text/plain": [
       "<Figure size 432x288 with 1 Axes>"
      ]
     },
     "metadata": {
      "needs_background": "light"
     },
     "output_type": "display_data"
    }
   ],
   "source": [
    "x = np.linspace(0,2)\n",
    "y = np.log(x)\n",
    "plt.grid(True)\n",
    "plt.plot(x, y)"
   ]
  },
  {
   "cell_type": "markdown",
   "id": "73a330d5-e2dd-4c73-8578-fdd744a4c0fc",
   "metadata": {},
   "source": [
    "#### 배열 형상변환 2"
   ]
  },
  {
   "cell_type": "code",
   "execution_count": 67,
   "id": "4cadec8e-979c-4e35-9733-9d3c8ed61ca3",
   "metadata": {},
   "outputs": [],
   "source": [
    "a = np.arange(12).reshape(3,4)"
   ]
  },
  {
   "cell_type": "code",
   "execution_count": 70,
   "id": "c657b21b-52d0-4d5c-8c6a-55e35008b3b8",
   "metadata": {},
   "outputs": [
    {
     "name": "stdout",
     "output_type": "stream",
     "text": [
      "[ 0  1  2  3  4  5  6  7  8  9 10 11]\n"
     ]
    }
   ],
   "source": [
    "print(a.ravel())"
   ]
  },
  {
   "cell_type": "code",
   "execution_count": 71,
   "id": "0ddd1c13-5dc9-41a0-abd5-93c2266bd952",
   "metadata": {},
   "outputs": [
    {
     "name": "stdout",
     "output_type": "stream",
     "text": [
      "[ 0  1  2  3  4  5  6  7  8  9 10 11]\n"
     ]
    }
   ],
   "source": [
    "print(a.flatten())"
   ]
  },
  {
   "cell_type": "code",
   "execution_count": 72,
   "id": "a615cc7f-1952-4915-ad30-ff04a98146db",
   "metadata": {},
   "outputs": [
    {
     "name": "stdout",
     "output_type": "stream",
     "text": [
      "(12,)\n",
      "[ 0  1  2  3  4  5  6  7  8  9 10 11]\n"
     ]
    }
   ],
   "source": [
    "a = np.arange(12)\n",
    "print(a.shape)\n",
    "print(a)"
   ]
  },
  {
   "cell_type": "code",
   "execution_count": 73,
   "id": "9ab6c034-47a7-44a7-bc73-411105700fce",
   "metadata": {},
   "outputs": [
    {
     "name": "stdout",
     "output_type": "stream",
     "text": [
      "(1, 12)\n",
      "[[ 0  1  2  3  4  5  6  7  8  9 10 11]]\n"
     ]
    }
   ],
   "source": [
    "a = np.arange(12).reshape(1,12)\n",
    "print(a.shape)\n",
    "print(a)"
   ]
  },
  {
   "cell_type": "markdown",
   "id": "5686ed65-60e2-405a-8ddf-888852f84375",
   "metadata": {},
   "source": [
    "(12,)인 1차원 배열과 (1,12)인 2차원 배열은 데이터는 같지만 엄연히 다른 종류의 객체이다."
   ]
  },
  {
   "cell_type": "code",
   "execution_count": 77,
   "id": "541fd4b7-95e4-4fea-aad0-3a071ac5569a",
   "metadata": {},
   "outputs": [
    {
     "data": {
      "text/plain": [
       "array([ 0,  1,  2,  3,  4,  5,  6,  7,  8,  9, 10, 11])"
      ]
     },
     "execution_count": 77,
     "metadata": {},
     "output_type": "execute_result"
    }
   ],
   "source": [
    "a = np.arange(12)\n",
    "a"
   ]
  },
  {
   "cell_type": "code",
   "execution_count": 100,
   "id": "ad5b7937-b34b-4a72-b98b-71916e0515cb",
   "metadata": {},
   "outputs": [
    {
     "name": "stdout",
     "output_type": "stream",
     "text": [
      "[[ 0]\n",
      " [ 1]\n",
      " [ 2]\n",
      " [ 3]\n",
      " [ 4]\n",
      " [ 5]\n",
      " [ 6]\n",
      " [ 7]\n",
      " [ 8]\n",
      " [ 9]\n",
      " [10]\n",
      " [11]]\n"
     ]
    }
   ],
   "source": [
    "b = a[:,np.newaxis]\n",
    "print(b)\n",
    "#newaxis를 이용해, 데이터는 유지한채 1차원만 증가시킬수있다."
   ]
  },
  {
   "cell_type": "code",
   "execution_count": 101,
   "id": "1912547e-6a91-404b-bdd9-2d5ff87431cb",
   "metadata": {},
   "outputs": [
    {
     "name": "stdout",
     "output_type": "stream",
     "text": [
      "[[[ 0]]\n",
      "\n",
      " [[ 1]]\n",
      "\n",
      " [[ 2]]\n",
      "\n",
      " [[ 3]]\n",
      "\n",
      " [[ 4]]\n",
      "\n",
      " [[ 5]]\n",
      "\n",
      " [[ 6]]\n",
      "\n",
      " [[ 7]]\n",
      "\n",
      " [[ 8]]\n",
      "\n",
      " [[ 9]]\n",
      "\n",
      " [[10]]\n",
      "\n",
      " [[11]]]\n"
     ]
    }
   ],
   "source": [
    "c = b[:,np.newaxis]\n",
    "print(c)"
   ]
  },
  {
   "cell_type": "markdown",
   "id": "b1a20096-62a7-4c42-bb8e-f80811c1ffcc",
   "metadata": {},
   "source": [
    "### 배열 합치기"
   ]
  },
  {
   "cell_type": "markdown",
   "id": "d0e3a145-8d70-4602-b60b-5de355220d89",
   "metadata": {},
   "source": [
    "#### 1. hstack\n",
    "\n",
    "hstack 함수는 행의 수가 같은 두 개 이상의 배열을 옆으로 연결하여 열의 수가 더 많은 배열을 만든다. 연결할 배열은 하나의 리스트에 담아야한다."
   ]
  },
  {
   "cell_type": "code",
   "execution_count": 102,
   "id": "3a26327d-6e5f-41ea-8dbe-4b5dec0da267",
   "metadata": {},
   "outputs": [
    {
     "name": "stdout",
     "output_type": "stream",
     "text": [
      "[[1. 1.]\n",
      " [1. 1.]\n",
      " [1. 1.]]\n"
     ]
    }
   ],
   "source": [
    "a = np.ones((3,2))\n",
    "print(a)"
   ]
  },
  {
   "cell_type": "code",
   "execution_count": 103,
   "id": "0d05ee96-010e-47b6-b0f3-f522e85470a1",
   "metadata": {},
   "outputs": [
    {
     "name": "stdout",
     "output_type": "stream",
     "text": [
      "[[0. 0. 0.]\n",
      " [0. 0. 0.]\n",
      " [0. 0. 0.]]\n"
     ]
    }
   ],
   "source": [
    "b = np.zeros((3,3))\n",
    "print(b)"
   ]
  },
  {
   "cell_type": "code",
   "execution_count": 104,
   "id": "7e80a642-870f-4c8b-a8d7-6991771bcfdf",
   "metadata": {},
   "outputs": [
    {
     "data": {
      "text/plain": [
       "array([[1., 1., 0., 0., 0.],\n",
       "       [1., 1., 0., 0., 0.],\n",
       "       [1., 1., 0., 0., 0.]])"
      ]
     },
     "execution_count": 104,
     "metadata": {},
     "output_type": "execute_result"
    }
   ],
   "source": [
    "np.hstack([a,b])"
   ]
  },
  {
   "cell_type": "markdown",
   "id": "2ad0389c-2265-48c9-b371-4da5d0b5ab1c",
   "metadata": {},
   "source": [
    "#### vstack\n",
    "\n",
    "vstack은 열의 수가 같은 두 배열을 합친다."
   ]
  },
  {
   "cell_type": "code",
   "execution_count": 107,
   "id": "74b572dd-68a7-4383-a3ac-9b8071ff0e36",
   "metadata": {},
   "outputs": [
    {
     "name": "stdout",
     "output_type": "stream",
     "text": [
      "[[1. 1.]\n",
      " [1. 1.]\n",
      " [1. 1.]\n",
      " [0. 0.]\n",
      " [0. 0.]]\n"
     ]
    }
   ],
   "source": [
    "a = np.ones((3,2))\n",
    "b = np.zeros((2,2))\n",
    "print(np.vstack([a,b]))"
   ]
  },
  {
   "cell_type": "markdown",
   "id": "f587aea3-69cb-48ee-9a7a-2c652d63003e",
   "metadata": {},
   "source": [
    "#### dstack \n",
    "\n",
    "dstack은 제 3의 축(깊이) 방향으로 배열을 합친다. 가장 안쪽의 원소의 차원이 증가한다. (scala -> 1d array)"
   ]
  },
  {
   "cell_type": "code",
   "execution_count": 109,
   "id": "e27b2f12-4c70-46c7-81a1-15ebb8c11fa1",
   "metadata": {},
   "outputs": [
    {
     "name": "stdout",
     "output_type": "stream",
     "text": [
      "[[ 0  1  2  3]\n",
      " [ 4  5  6  7]\n",
      " [ 8  9 10 11]]\n"
     ]
    }
   ],
   "source": [
    "a = np.arange(12).reshape(3,4)\n",
    "print(a)"
   ]
  },
  {
   "cell_type": "code",
   "execution_count": 111,
   "id": "60a0ee6f-378a-4a0e-b3cd-398d170a95fa",
   "metadata": {},
   "outputs": [
    {
     "name": "stdout",
     "output_type": "stream",
     "text": [
      "[[50 51 52 53]\n",
      " [54 55 56 57]\n",
      " [58 59 60 61]]\n"
     ]
    }
   ],
   "source": [
    "b = np.arange(12).reshape(3,4) + 50\n",
    "print(b)"
   ]
  },
  {
   "cell_type": "code",
   "execution_count": 112,
   "id": "af8c881d-a50b-4ac9-845f-9e0d4c113a23",
   "metadata": {},
   "outputs": [
    {
     "name": "stdout",
     "output_type": "stream",
     "text": [
      "[[[ 0 50]\n",
      "  [ 1 51]\n",
      "  [ 2 52]\n",
      "  [ 3 53]]\n",
      "\n",
      " [[ 4 54]\n",
      "  [ 5 55]\n",
      "  [ 6 56]\n",
      "  [ 7 57]]\n",
      "\n",
      " [[ 8 58]\n",
      "  [ 9 59]\n",
      "  [10 60]\n",
      "  [11 61]]]\n"
     ]
    }
   ],
   "source": [
    "print(np.dstack([a,b]))"
   ]
  },
  {
   "cell_type": "markdown",
   "id": "3e3919fd-e188-4254-8c4e-6db20623157e",
   "metadata": {},
   "source": [
    "#### stack\n",
    "\n",
    "stack함수는 사용자가 지정한 차원 배열을 연결한다. (axis = [1,2,3...])"
   ]
  },
  {
   "cell_type": "code",
   "execution_count": 121,
   "id": "c51f489c-2cad-418d-bc12-8cd9d4e40ec7",
   "metadata": {},
   "outputs": [
    {
     "name": "stdout",
     "output_type": "stream",
     "text": [
      "[[[ 0 50]\n",
      "  [ 1 51]\n",
      "  [ 2 52]\n",
      "  [ 3 53]]\n",
      "\n",
      " [[ 4 54]\n",
      "  [ 5 55]\n",
      "  [ 6 56]\n",
      "  [ 7 57]]\n",
      "\n",
      " [[ 8 58]\n",
      "  [ 9 59]\n",
      "  [10 60]\n",
      "  [11 61]]]\n",
      "(3, 4, 2)\n"
     ]
    }
   ],
   "source": [
    "c = np.stack([a,b], axis = 2)\n",
    "print(c)\n",
    "print(c.shape)"
   ]
  },
  {
   "cell_type": "code",
   "execution_count": 122,
   "id": "fb0ad7b2-0a26-4407-b362-3abeac3905a3",
   "metadata": {},
   "outputs": [
    {
     "name": "stdout",
     "output_type": "stream",
     "text": [
      "[[[ 0  1  2  3]\n",
      "  [50 51 52 53]]\n",
      "\n",
      " [[ 4  5  6  7]\n",
      "  [54 55 56 57]]\n",
      "\n",
      " [[ 8  9 10 11]\n",
      "  [58 59 60 61]]]\n",
      "(3, 2, 4)\n"
     ]
    }
   ],
   "source": [
    "c = np.stack([a,b], axis = 1)\n",
    "print(c)\n",
    "print(c.shape)"
   ]
  },
  {
   "cell_type": "code",
   "execution_count": 124,
   "id": "f58fe4f5-dfb6-4cbf-893d-011004e2f5d3",
   "metadata": {},
   "outputs": [
    {
     "name": "stdout",
     "output_type": "stream",
     "text": [
      "[[[ 0  1  2  3]\n",
      "  [ 4  5  6  7]\n",
      "  [ 8  9 10 11]]\n",
      "\n",
      " [[50 51 52 53]\n",
      "  [54 55 56 57]\n",
      "  [58 59 60 61]]]\n",
      "(2, 3, 4)\n"
     ]
    }
   ],
   "source": [
    "c = np.stack([a,b], axis = 0)\n",
    "print(c)\n",
    "print(c.shape)"
   ]
  },
  {
   "cell_type": "markdown",
   "id": "6dd2f3dd-b8bc-4532-8cf5-723ea7571995",
   "metadata": {},
   "source": [
    "#### r_, c_\n",
    "\n",
    "메서드임에도 ()가 아닌 []를 사용한다. 이러한 특수 메소드를 인덱서라고한다."
   ]
  },
  {
   "cell_type": "code",
   "execution_count": 126,
   "id": "122536ba-e4d6-45b8-998c-c6e173162c97",
   "metadata": {},
   "outputs": [
    {
     "data": {
      "text/plain": [
       "array([1, 2, 3, 4, 5, 6])"
      ]
     },
     "execution_count": 126,
     "metadata": {},
     "output_type": "execute_result"
    }
   ],
   "source": [
    "np.r_[np.array([1,2,3]), np.array([4,5,6])]"
   ]
  },
  {
   "cell_type": "code",
   "execution_count": 127,
   "id": "ad5ab91b-fd5d-4785-936c-940dc5a6f139",
   "metadata": {},
   "outputs": [
    {
     "data": {
      "text/plain": [
       "array([[1, 4],\n",
       "       [2, 5],\n",
       "       [3, 6]])"
      ]
     },
     "execution_count": 127,
     "metadata": {},
     "output_type": "execute_result"
    }
   ],
   "source": [
    "np.c_[np.array([1,2,3]), np.array([4,5,6])]"
   ]
  },
  {
   "cell_type": "markdown",
   "id": "5775bc9f-e185-46ae-8d83-220ed3ea4025",
   "metadata": {},
   "source": [
    "#### tile\n",
    "동일한 배열을 반복하여 연결한다."
   ]
  },
  {
   "cell_type": "code",
   "execution_count": 130,
   "id": "9e5f2da4-91bd-4b29-bb04-12f7b9c29591",
   "metadata": {},
   "outputs": [
    {
     "data": {
      "text/plain": [
       "array([[0, 1, 2, 0, 1, 2],\n",
       "       [3, 4, 5, 3, 4, 5]])"
      ]
     },
     "execution_count": 130,
     "metadata": {},
     "output_type": "execute_result"
    }
   ],
   "source": [
    "a = np.array([[0,1,2],[3,4,5]])\n",
    "np.tile(a, 2)"
   ]
  },
  {
   "cell_type": "code",
   "execution_count": 131,
   "id": "67a496d4-3f77-4b7a-9c86-beb6caf8adae",
   "metadata": {},
   "outputs": [
    {
     "data": {
      "text/plain": [
       "array([[0, 1, 2, 0, 1, 2, 0, 1, 2],\n",
       "       [3, 4, 5, 3, 4, 5, 3, 4, 5],\n",
       "       [0, 1, 2, 0, 1, 2, 0, 1, 2],\n",
       "       [3, 4, 5, 3, 4, 5, 3, 4, 5]])"
      ]
     },
     "execution_count": 131,
     "metadata": {},
     "output_type": "execute_result"
    }
   ],
   "source": [
    "np.tile(a,(2,3))"
   ]
  },
  {
   "cell_type": "code",
   "execution_count": 132,
   "id": "cc9aa9ec-6574-4137-8019-b2faa1122150",
   "metadata": {},
   "outputs": [
    {
     "data": {
      "text/plain": [
       "array([[0, 1, 2, 0, 1, 2],\n",
       "       [3, 4, 5, 3, 4, 5],\n",
       "       [0, 1, 2, 0, 1, 2],\n",
       "       [3, 4, 5, 3, 4, 5],\n",
       "       [0, 1, 2, 0, 1, 2],\n",
       "       [3, 4, 5, 3, 4, 5]])"
      ]
     },
     "execution_count": 132,
     "metadata": {},
     "output_type": "execute_result"
    }
   ],
   "source": [
    "np.tile(a,(3,2))"
   ]
  },
  {
   "cell_type": "markdown",
   "id": "97c8a63f-1046-41fc-9fe3-bb34f0486c79",
   "metadata": {},
   "source": [
    "#### concatenate\n",
    "\n",
    "두 배열이 같은 차원일 때 사용한다."
   ]
  },
  {
   "cell_type": "code",
   "execution_count": 141,
   "id": "a082bd52-8d63-4f9d-a9ee-b543736e673e",
   "metadata": {},
   "outputs": [
    {
     "name": "stdout",
     "output_type": "stream",
     "text": [
      "[[1 2]\n",
      " [3 4]]\n",
      "[[ 7  8]\n",
      " [ 9 10]\n",
      " [11 12]]\n",
      "[[ 7  9 11]\n",
      " [ 8 10 12]]\n"
     ]
    }
   ],
   "source": [
    "a = np.array([[1,2],[3,4]])\n",
    "b = np.array([[7,8],[9,10],[11,12]])\n",
    "\n",
    "print(a)\n",
    "print(b)\n",
    "print(b.T)"
   ]
  },
  {
   "cell_type": "code",
   "execution_count": 136,
   "id": "724c5f97-5f04-44f7-8e46-fce6966bb2f7",
   "metadata": {},
   "outputs": [
    {
     "name": "stdout",
     "output_type": "stream",
     "text": [
      "[[ 1  2]\n",
      " [ 3  4]\n",
      " [ 7  8]\n",
      " [ 9 10]\n",
      " [11 12]]\n"
     ]
    }
   ],
   "source": [
    "print(np.concatenate((a,b), axis = 0))"
   ]
  },
  {
   "cell_type": "code",
   "execution_count": 138,
   "id": "0d84b507-aabe-46cf-b212-f6a3107f7f43",
   "metadata": {},
   "outputs": [
    {
     "name": "stdout",
     "output_type": "stream",
     "text": [
      "[[ 1  2  7  9 11]\n",
      " [ 3  4  8 10 12]]\n"
     ]
    }
   ],
   "source": [
    "print(np.concatenate((a,b.T), axis = 1))"
   ]
  },
  {
   "cell_type": "code",
   "execution_count": 139,
   "id": "20f95c64-de97-4892-81b3-4af726cb57a4",
   "metadata": {},
   "outputs": [
    {
     "name": "stdout",
     "output_type": "stream",
     "text": [
      "[ 1  2  3  4  7  8  9 10 11 12]\n"
     ]
    }
   ],
   "source": [
    "print(np.concatenate((a,b), axis = None))"
   ]
  },
  {
   "cell_type": "markdown",
   "id": "cc700742-caae-44b6-beca-3376ef2ef0cf",
   "metadata": {},
   "source": [
    "### 배열의 인덱싱과 슬라이싱"
   ]
  },
  {
   "cell_type": "code",
   "execution_count": 147,
   "id": "c2593f84-7098-45fe-9d8d-1ca1c832a976",
   "metadata": {},
   "outputs": [
    {
     "name": "stdout",
     "output_type": "stream",
     "text": [
      "[[ 1  2  3  4]\n",
      " [ 5  6  7  8]\n",
      " [ 9 10 11 12]]\n"
     ]
    }
   ],
   "source": [
    "np_arr = np.arange(1,13).reshape(3,4)\n",
    "print(np_arr)"
   ]
  },
  {
   "cell_type": "code",
   "execution_count": 143,
   "id": "58eae0d5-12d3-4d2d-b41f-6d9a71ecbda1",
   "metadata": {},
   "outputs": [
    {
     "data": {
      "text/plain": [
       "12"
      ]
     },
     "execution_count": 143,
     "metadata": {},
     "output_type": "execute_result"
    }
   ],
   "source": [
    "np_arr[-1,-1]"
   ]
  },
  {
   "cell_type": "code",
   "execution_count": 146,
   "id": "5c686dcc-a773-4746-b284-ec783b9a3616",
   "metadata": {},
   "outputs": [
    {
     "name": "stdout",
     "output_type": "stream",
     "text": [
      "[1 2 3 4]\n",
      "[1 5 9]\n"
     ]
    }
   ],
   "source": [
    "print(np_arr[0])\n",
    "print(np_arr[:,0]) #열인덱싱"
   ]
  },
  {
   "cell_type": "code",
   "execution_count": 148,
   "id": "e1c6f71c-c976-47a2-8e79-df7f04e3224b",
   "metadata": {},
   "outputs": [],
   "source": [
    "data = np.array([[1,0,0,0],[1,0,1,1],[1,1,0,1],[1,1,1,0]])"
   ]
  },
  {
   "cell_type": "code",
   "execution_count": 150,
   "id": "c4897f30-1e0b-49ec-b563-fee6e40a259b",
   "metadata": {},
   "outputs": [
    {
     "name": "stdout",
     "output_type": "stream",
     "text": [
      "[[1 0 0 0]\n",
      " [1 0 1 1]\n",
      " [1 1 0 1]\n",
      " [1 1 1 0]]\n"
     ]
    }
   ],
   "source": [
    "print(data)"
   ]
  },
  {
   "cell_type": "code",
   "execution_count": 151,
   "id": "dc79e49b-f9f3-40e5-8a92-937126c253f4",
   "metadata": {},
   "outputs": [
    {
     "name": "stdout",
     "output_type": "stream",
     "text": [
      "X [[1 0 0]\n",
      " [1 0 1]\n",
      " [1 1 0]\n",
      " [1 1 1]]\n",
      "y [0 1 1 0]\n"
     ]
    }
   ],
   "source": [
    "X, y = data[:,:3], data[:,3]\n",
    "print('X',X)\n",
    "print('y',y)"
   ]
  },
  {
   "cell_type": "code",
   "execution_count": 153,
   "id": "1b058289-86b6-4ae6-89ff-2367bd3febed",
   "metadata": {},
   "outputs": [
    {
     "name": "stdout",
     "output_type": "stream",
     "text": [
      "[[ 1  2  3  4]\n",
      " [ 5  6  7  8]\n",
      " [ 9 10 11 12]]\n"
     ]
    }
   ],
   "source": [
    "np_arr = np.arange(1,13).reshape(3,4)\n",
    "print(np_arr)"
   ]
  },
  {
   "cell_type": "code",
   "execution_count": 156,
   "id": "f87561cc-58a2-467d-a885-2150c8380e11",
   "metadata": {},
   "outputs": [
    {
     "name": "stdout",
     "output_type": "stream",
     "text": [
      "[[6 7]]\n"
     ]
    }
   ],
   "source": [
    "print(np_arr[1:-1,1:-1])"
   ]
  },
  {
   "cell_type": "markdown",
   "id": "71a31218-7164-4b13-891b-9f6d0c6ec224",
   "metadata": {},
   "source": [
    "### 배열과 벡터 연산"
   ]
  },
  {
   "cell_type": "markdown",
   "id": "2882a55a-ce7c-4660-aee8-c5cd9b4326ec",
   "metadata": {},
   "source": [
    "#### 1차원 배열의 내적과 외적"
   ]
  },
  {
   "cell_type": "code",
   "execution_count": 157,
   "id": "ffcb708f-a550-4da6-b957-619d1d8e8154",
   "metadata": {},
   "outputs": [],
   "source": [
    "w = np.array(np.arange(4).reshape(1,4))\n",
    "x = np.array(np.arange(4,0,-1).reshape(4,1))"
   ]
  },
  {
   "cell_type": "code",
   "execution_count": 159,
   "id": "72c78539-410e-4686-bef6-e3b58904713b",
   "metadata": {},
   "outputs": [
    {
     "name": "stdout",
     "output_type": "stream",
     "text": [
      "[[0 1 2 3]]\n",
      "[[4]\n",
      " [3]\n",
      " [2]\n",
      " [1]]\n"
     ]
    }
   ],
   "source": [
    "print(w)\n",
    "print(x)"
   ]
  },
  {
   "cell_type": "code",
   "execution_count": 161,
   "id": "599298ae-576c-49d5-9c20-397428bed356",
   "metadata": {},
   "outputs": [
    {
     "data": {
      "text/plain": [
       "array([[10]])"
      ]
     },
     "execution_count": 161,
     "metadata": {},
     "output_type": "execute_result"
    }
   ],
   "source": [
    "np.dot(w,x) # 내적"
   ]
  },
  {
   "cell_type": "code",
   "execution_count": 162,
   "id": "04c8c35d-9cf0-4ab1-9122-63dd6e732498",
   "metadata": {},
   "outputs": [
    {
     "data": {
      "text/plain": [
       "array([[ 0,  4,  8, 12],\n",
       "       [ 0,  3,  6,  9],\n",
       "       [ 0,  2,  4,  6],\n",
       "       [ 0,  1,  2,  3]])"
      ]
     },
     "execution_count": 162,
     "metadata": {},
     "output_type": "execute_result"
    }
   ],
   "source": [
    "np.dot(x,w) # 외적"
   ]
  },
  {
   "attachments": {
    "5ceb0b30-5cca-44c6-bf5b-f7ca2ae8d5dd.jpeg": {
     "image/jpeg": "[encoded data removed]"
    }
   },
   "cell_type": "markdown",
   "id": "3db1f0cc-ddf3-4c0f-a090-00d2534bafe7",
   "metadata": {},
   "source": [
    "![IMG_E8BD252DFF20-1.jpeg](attachment:5ceb0b30-5cca-44c6-bf5b-f7ca2ae8d5dd.jpeg)"
   ]
  },
  {
   "cell_type": "markdown",
   "id": "ae02463e-dd72-4710-accd-c5145ddad8df",
   "metadata": {},
   "source": [
    "#### 점곱(dot product)"
   ]
  },
  {
   "cell_type": "code",
   "execution_count": 166,
   "id": "8ee95a2b-4ef1-4b0b-9e05-c81e9b8ff93a",
   "metadata": {},
   "outputs": [
    {
     "name": "stdout",
     "output_type": "stream",
     "text": [
      "[[1 2]\n",
      " [3 4]]\n",
      "[[5 6]\n",
      " [7 8]]\n",
      "[[19 22]\n",
      " [43 50]]\n"
     ]
    }
   ],
   "source": [
    "A = np.array([[1,2],[3,4]])\n",
    "B = np.array([[5,6],[7,8]])\n",
    "print(A)\n",
    "print(B)\n",
    "print(np.dot(A,B))"
   ]
  },
  {
   "cell_type": "code",
   "execution_count": 167,
   "id": "8b8d3084-b86e-4a72-b496-4831e146a07f",
   "metadata": {},
   "outputs": [
    {
     "name": "stdout",
     "output_type": "stream",
     "text": [
      "[[23 34]\n",
      " [31 46]]\n"
     ]
    }
   ],
   "source": [
    "print(np.dot(B,A))"
   ]
  },
  {
   "cell_type": "code",
   "execution_count": 170,
   "id": "36c5b8fb-9aca-4c74-a081-b9445bfcd2a2",
   "metadata": {},
   "outputs": [],
   "source": [
    "A = np.arange(1,7).reshape(2,3)\n",
    "B = np.arange(1,4)"
   ]
  },
  {
   "cell_type": "code",
   "execution_count": 175,
   "id": "5269286d-11b3-4a31-a8a8-d3018c215b1b",
   "metadata": {},
   "outputs": [
    {
     "name": "stdout",
     "output_type": "stream",
     "text": [
      "[[1 2 3]\n",
      " [4 5 6]]\n",
      "[1 2 3]\n",
      "[14 32]\n"
     ]
    }
   ],
   "source": [
    "print(A)\n",
    "print(B)\n",
    "print(np.dot(A,B))"
   ]
  },
  {
   "cell_type": "code",
   "execution_count": 178,
   "id": "31e18232-37d8-44b4-907c-b767832bad4a",
   "metadata": {},
   "outputs": [],
   "source": [
    "B = B.reshape(1,-1)"
   ]
  },
  {
   "cell_type": "code",
   "execution_count": 180,
   "id": "95a95ec0-aa7b-4304-a188-d12b596d1cf7",
   "metadata": {},
   "outputs": [
    {
     "data": {
      "text/plain": [
       "array([[14],\n",
       "       [32]])"
      ]
     },
     "execution_count": 180,
     "metadata": {},
     "output_type": "execute_result"
    }
   ],
   "source": [
    "np.dot(A,B.T)"
   ]
  },
  {
   "cell_type": "markdown",
   "id": "58bb1f27-7e6f-43f2-b8f4-7cd3d9bcc411",
   "metadata": {},
   "source": [
    "### 브로드캐스팅"
   ]
  },
  {
   "cell_type": "code",
   "execution_count": 182,
   "id": "e333574a-a027-405c-85e9-94b75f26c8eb",
   "metadata": {},
   "outputs": [],
   "source": [
    "A = np.arange(1,13).reshape(3,4)"
   ]
  },
  {
   "cell_type": "code",
   "execution_count": 184,
   "id": "0c606988-23da-414f-8901-b74bf151158d",
   "metadata": {},
   "outputs": [],
   "source": [
    "B = np.arange(4)"
   ]
  },
  {
   "cell_type": "code",
   "execution_count": 188,
   "id": "9161605b-8d3c-465a-b100-e8311f1e3b4d",
   "metadata": {},
   "outputs": [],
   "source": [
    "C = np.arange(3)"
   ]
  },
  {
   "cell_type": "code",
   "execution_count": 187,
   "id": "34a8e4d5-bc72-4e4d-a22c-d22982fd5bb2",
   "metadata": {},
   "outputs": [
    {
     "name": "stdout",
     "output_type": "stream",
     "text": [
      "[[ 1  2  3  4]\n",
      " [ 5  6  7  8]\n",
      " [ 9 10 11 12]]\n",
      "[0 1 2 3]\n",
      "[[ 1  3  5  7]\n",
      " [ 5  7  9 11]\n",
      " [ 9 11 13 15]]\n"
     ]
    }
   ],
   "source": [
    "print(A)\n",
    "print(B)\n",
    "print(A+B)"
   ]
  },
  {
   "cell_type": "code",
   "execution_count": 193,
   "id": "ddc08778-6823-4bfd-8bfa-941b85f0de58",
   "metadata": {},
   "outputs": [],
   "source": [
    "A = np.arange(3)\n",
    "B = np.arange(3).reshape(-1,1)"
   ]
  },
  {
   "cell_type": "code",
   "execution_count": 197,
   "id": "31dc7fda-4e29-485b-bc2c-3e4ae9e0c490",
   "metadata": {},
   "outputs": [
    {
     "name": "stdout",
     "output_type": "stream",
     "text": [
      "[0 1 2]\n",
      "[[0]\n",
      " [1]\n",
      " [2]]\n",
      "[[0 1 2]\n",
      " [1 2 3]\n",
      " [2 3 4]]\n"
     ]
    }
   ],
   "source": [
    "print(A)\n",
    "print(B)\n",
    "print(A+B)"
   ]
  },
  {
   "cell_type": "markdown",
   "id": "df25fbe5-809b-4708-a1ec-52d10cf8ea23",
   "metadata": {},
   "source": [
    "### Axis 연산"
   ]
  },
  {
   "cell_type": "code",
   "execution_count": 200,
   "id": "3196abd2-3e83-45c7-b518-1e9f83f5ecd4",
   "metadata": {},
   "outputs": [],
   "source": [
    "A = np.arange(6).reshape(2,3)"
   ]
  },
  {
   "cell_type": "code",
   "execution_count": 204,
   "id": "ea9aae0b-7f44-4941-ae91-2a5e006852f1",
   "metadata": {},
   "outputs": [
    {
     "name": "stdout",
     "output_type": "stream",
     "text": [
      "[[0 1 2]\n",
      " [3 4 5]]\n",
      "[3 5 7]\n",
      "[ 3 12]\n"
     ]
    }
   ],
   "source": [
    "print(A)\n",
    "print(np.sum(A, axis = 0))\n",
    "print(np.sum(A, axis = 1))"
   ]
  },
  {
   "cell_type": "code",
   "execution_count": 208,
   "id": "cd7680f7-ece5-4416-8c5a-d4f2f9d0612d",
   "metadata": {},
   "outputs": [],
   "source": [
    "B = np.arange(24).reshape(2,3,4)"
   ]
  },
  {
   "cell_type": "code",
   "execution_count": 215,
   "id": "85505c7e-b70f-422f-a052-7d712bd7b310",
   "metadata": {},
   "outputs": [
    {
     "name": "stdout",
     "output_type": "stream",
     "text": [
      "[[[ 0  1  2  3]\n",
      "  [ 4  5  6  7]\n",
      "  [ 8  9 10 11]]\n",
      "\n",
      " [[12 13 14 15]\n",
      "  [16 17 18 19]\n",
      "  [20 21 22 23]]]\n",
      "\n",
      "\n",
      "[[12 14 16 18]\n",
      " [20 22 24 26]\n",
      " [28 30 32 34]]\n",
      "\n",
      "\n",
      "[[12 15 18 21]\n",
      " [48 51 54 57]]\n",
      "\n",
      "\n",
      "[[ 6 22 38]\n",
      " [54 70 86]]\n"
     ]
    }
   ],
   "source": [
    "print(B)\n",
    "print('\\n')\n",
    "print(np.sum(B,axis = 0))\n",
    "print('\\n')\n",
    "print(np.sum(B,axis = 1))\n",
    "print('\\n')\n",
    "print(np.sum(B,axis = 2))"
   ]
  },
  {
   "cell_type": "code",
   "execution_count": 219,
   "id": "fb265a0a-74d3-4c33-a8bb-90411627968b",
   "metadata": {},
   "outputs": [
    {
     "name": "stdout",
     "output_type": "stream",
     "text": [
      "[60 66 72 78]\n",
      "\n",
      "\n",
      "[ 66 210]\n",
      "\n",
      "\n",
      "[ 60  92 124]\n",
      "\n",
      "\n"
     ]
    }
   ],
   "source": [
    "print(np.sum(B, axis = (0,1)))\n",
    "print('\\n')\n",
    "print(np.sum(B, axis = (1,2)))\n",
    "print('\\n')\n",
    "print(np.sum(B, axis = (0,2)))\n",
    "print('\\n')"
   ]
  },
  {
   "cell_type": "markdown",
   "id": "d9923cd2-d3ea-409b-aebb-d4099ac83bbf",
   "metadata": {},
   "source": [
    "### 난수 배열 생성"
   ]
  },
  {
   "cell_type": "code",
   "execution_count": 220,
   "id": "3a921fc9-c444-4bc1-9682-c1b31708c15c",
   "metadata": {},
   "outputs": [
    {
     "data": {
      "text/plain": [
       "array([[ 2,  1,  1, -5],\n",
       "       [ 2, -5, -5,  1]])"
      ]
     },
     "execution_count": 220,
     "metadata": {},
     "output_type": "execute_result"
    }
   ],
   "source": [
    "np.random.randint(-5,5,size = (2,4))"
   ]
  },
  {
   "cell_type": "code",
   "execution_count": 222,
   "id": "fb13a483-ec64-4842-bba8-361e61b3e473",
   "metadata": {},
   "outputs": [
    {
     "data": {
      "text/plain": [
       "-0.6764300105482487"
      ]
     },
     "execution_count": 222,
     "metadata": {},
     "output_type": "execute_result"
    }
   ],
   "source": [
    "np.random.normal(loc = 0.0, scale = 1.0, size = None)\n",
    "#정규분포 확률 밀도에서 표본을 추출하여 배열로 반환\n",
    "#정규분포의 평균(loc), 표준편차(scale)을 지정할 수 있음"
   ]
  },
  {
   "cell_type": "code",
   "execution_count": 223,
   "id": "f9379f4d-2bd7-4109-83c7-7ad53312bf40",
   "metadata": {},
   "outputs": [
    {
     "data": {
      "text/plain": [
       "array([[-1.6588615 , -0.98869257, -0.21238145],\n",
       "       [-0.08198609,  0.5053257 ,  0.67837413]])"
      ]
     },
     "execution_count": 223,
     "metadata": {},
     "output_type": "execute_result"
    }
   ],
   "source": [
    "np.random.normal(loc = 0.0, scale = 1.0, size = (2,3))"
   ]
  },
  {
   "cell_type": "code",
   "execution_count": 226,
   "id": "12394726-7b9f-4c60-b193-90ffc7b6768e",
   "metadata": {},
   "outputs": [
    {
     "data": {
      "image/png": "[encoded data removed]",
      "text/plain": [
       "<Figure size 432x288 with 1 Axes>"
      ]
     },
     "metadata": {
      "needs_background": "light"
     },
     "output_type": "display_data"
    }
   ],
   "source": [
    "mean = 0\n",
    "std = 1\n",
    "data = np.random.normal(loc = mean, scale = std, size = 100000)\n",
    "plt.hist(data, bins = 500)\n",
    "plt.show()"
   ]
  },
  {
   "cell_type": "markdown",
   "id": "76b29125-a501-437a-b353-aac66031aaa2",
   "metadata": {},
   "source": [
    "### 이미지 표현"
   ]
  },
  {
   "cell_type": "code",
   "execution_count": 229,
   "id": "1c3e0c01-38ba-4316-95a0-2ece934992ed",
   "metadata": {},
   "outputs": [
    {
     "name": "stdout",
     "output_type": "stream",
     "text": [
      "[[  0   1   2   3   4   5   6   7   8   9  10  11  12  13  14  15]\n",
      " [ 16  17  18  19  20  21  22  23  24  25  26  27  28  29  30  31]\n",
      " [ 32  33  34  35  36  37  38  39  40  41  42  43  44  45  46  47]\n",
      " [ 48  49  50  51  52  53  54  55  56  57  58  59  60  61  62  63]\n",
      " [ 64  65  66  67  68  69  70  71  72  73  74  75  76  77  78  79]\n",
      " [ 80  81  82  83  84  85  86  87  88  89  90  91  92  93  94  95]\n",
      " [ 96  97  98  99 100 101 102 103 104 105 106 107 108 109 110 111]\n",
      " [112 113 114 115 116 117 118 119 120 121 122 123 124 125 126 127]\n",
      " [128 129 130 131 132 133 134 135 136 137 138 139 140 141 142 143]\n",
      " [144 145 146 147 148 149 150 151 152 153 154 155 156 157 158 159]\n",
      " [160 161 162 163 164 165 166 167 168 169 170 171 172 173 174 175]\n",
      " [176 177 178 179 180 181 182 183 184 185 186 187 188 189 190 191]\n",
      " [192 193 194 195 196 197 198 199 200 201 202 203 204 205 206 207]\n",
      " [208 209 210 211 212 213 214 215 216 217 218 219 220 221 222 223]\n",
      " [224 225 226 227 228 229 230 231 232 233 234 235 236 237 238 239]\n",
      " [240 241 242 243 244 245 246 247 248 249 250 251 252 253 254 255]]\n"
     ]
    },
    {
     "data": {
      "text/plain": [
       "<matplotlib.image.AxesImage at 0x7fd2592a38b0>"
      ]
     },
     "execution_count": 229,
     "metadata": {},
     "output_type": "execute_result"
    },
    {
     "data": {
      "image/png": "[encoded data removed]",
      "text/plain": [
       "<Figure size 432x288 with 1 Axes>"
      ]
     },
     "metadata": {
      "needs_background": "light"
     },
     "output_type": "display_data"
    }
   ],
   "source": [
    "image = np.arange(256).reshape(16,16)\n",
    "print(image)\n",
    "plt.imshow(image,cmap=\"gray\")"
   ]
  },
  {
   "cell_type": "code",
   "execution_count": 232,
   "id": "21e9466a-c297-4706-94c3-377eb9773504",
   "metadata": {},
   "outputs": [
    {
     "data": {
      "text/plain": [
       "<matplotlib.image.AxesImage at 0x7fd259347310>"
      ]
     },
     "execution_count": 232,
     "metadata": {},
     "output_type": "execute_result"
    },
    {
     "data": {
      "image/png": "[encoded data removed]",
      "text/plain": [
       "<Figure size 360x360 with 2 Axes>"
      ]
     },
     "metadata": {
      "needs_background": "light"
     },
     "output_type": "display_data"
    }
   ],
   "source": [
    "from scipy.ndimage.interpolation import shift\n",
    "\n",
    "shifted_down = shift(image, [3,0], cval = 100)\n",
    "\n",
    "fig, ax = plt.subplots(1,2,figsize = (5,5))\n",
    "ax[0].imshow(image, cmap = \"gray\")\n",
    "ax[1].imshow(shifted_down, cmap = \"gray\")"
   ]
  },
  {
   "cell_type": "code",
   "execution_count": null,
   "id": "3d0c0f14-5167-43f7-b556-46aa5cbedae5",
   "metadata": {},
   "outputs": [],
   "source": []
  }
 ],
 "metadata": {
  "kernelspec": {
   "display_name": "Python 3",
   "language": "python",
   "name": "python3"
  },
  "language_info": {
   "codemirror_mode": {
    "name": "ipython",
    "version": 3
   },
   "file_extension": ".py",
   "mimetype": "text/x-python",
   "name": "python",
   "nbconvert_exporter": "python",
   "pygments_lexer": "ipython3",
   "version": "3.8.8"
  }
 },
 "nbformat": 4,
 "nbformat_minor": 5
}
